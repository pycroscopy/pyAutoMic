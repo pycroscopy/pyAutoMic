{
 "cells": [
  {
   "cell_type": "markdown",
   "id": "02b0250e",
   "metadata": {},
   "source": [
    "## Tutorial to demonstrate capability of Autoscript to handle various hardware modules\n",
    "- hardware\n",
    "    - vacuum\n",
    "    - stage\n",
    "    - beam\n",
    "    - detectors - HAADF, ceta\n",
    "    - aberration coefficients\n",
    "\n",
    "#### Contributor(s): Utkarsh Pratiush <utkarshp1161@gmail.com> - 23rd May 2025\n",
    "#### edited - \n",
    "   "
   ]
  },
  {
   "cell_type": "markdown",
   "id": "6e6d5f73",
   "metadata": {},
   "source": [
    "## 0. Setup imports"
   ]
  },
  {
   "cell_type": "code",
   "execution_count": null,
   "id": "16aaeb0d",
   "metadata": {},
   "outputs": [],
   "source": [
    "from stemOrchestrator.logging_config   import setup_logging\n",
    "data_folder  = \".\"\n",
    "out_path = data_folder\n",
    "setup_logging(out_path=out_path) "
   ]
  },
  {
   "cell_type": "code",
   "execution_count": null,
   "id": "d5939b0b",
   "metadata": {},
   "outputs": [],
   "source": [
    "from stemOrchestrator.acquisition import TFacquisition, DMacquisition\n",
    "from stemOrchestrator.simulation import DMtwin\n",
    "from stemOrchestrator.process import HAADF_tiff_to_png, tiff_to_png\n",
    "from autoscript_tem_microscope_client import TemMicroscopeClient\n",
    "import matplotlib.pyplot as plt\n",
    "import logging\n",
    "plot = plt\n",
    "from typing import Dict"
   ]
  },
  {
   "cell_type": "markdown",
   "id": "32a825b5",
   "metadata": {},
   "source": [
    "## 01. setup the microscope configuration"
   ]
  },
  {
   "cell_type": "code",
   "execution_count": null,
   "id": "83a6bb0d",
   "metadata": {},
   "outputs": [],
   "source": [
    "import os\n",
    "import json\n",
    "from pathlib import Path\n",
    "\n",
    "ip = os.getenv(\"MICROSCOPE_IP\")\n",
    "port = os.getenv(\"MICROSCOPE_PORT\")\n",
    "\n",
    "if not ip or not port:\n",
    "    secret_path = Path(\"../../config_secret.json\")\n",
    "    if secret_path.exists():\n",
    "        with open(secret_path, \"r\") as f:\n",
    "            secret = json.load(f)\n",
    "            ip = ip or secret.get(\"ip_TF\")\n",
    "            port = port or secret.get(\"port_TF\")\n",
    "\n",
    "\n",
    "\n",
    "config = {\n",
    "    \"ip\": ip,\n",
    "    \"port\": port,\n",
    "    \"haadf_exposure\": 40e-8,  # micro-seconds per pixel\n",
    "    \"haadf_resolution\": 512, # square\n",
    "    \"out_path\": \".\"\n",
    "}"
   ]
  },
  {
   "cell_type": "markdown",
   "id": "646fedc6",
   "metadata": {},
   "source": [
    "## 02. Initialize microscope"
   ]
  },
  {
   "cell_type": "code",
   "execution_count": null,
   "id": "1d2a5a9c",
   "metadata": {},
   "outputs": [],
   "source": [
    "\n",
    "ip = config[\"ip\"]\n",
    "port = config[\"port\"]\n",
    "haadf_exposure = config[\"haadf_exposure\"]\n",
    "out_path = config[\"out_path\"]\n",
    "haadf_resolution = config[\"haadf_resolution\"]\n",
    "\n",
    "\n",
    "\n",
    "microscope = TemMicroscopeClient()\n",
    "microscope.connect(ip, port = port)# 7521 on velox  computer\n",
    "# microscope.connect( port = port)# 7521 on velox  computer\n",
    "\n",
    "# query state:\n",
    "\n",
    "tf_acquisition = TFacquisition(microscope=microscope)\n",
    "\n",
    "# put beam shift to 0,0\n",
    "# tf_acquisition.move_beam_shift_positon([0, 0])\n"
   ]
  },
  {
   "cell_type": "code",
   "execution_count": null,
   "id": "c1df80a6",
   "metadata": {},
   "outputs": [],
   "source": [
    "ip"
   ]
  },
  {
   "cell_type": "code",
   "execution_count": null,
   "id": "5d7392b0",
   "metadata": {},
   "outputs": [],
   "source": [
    "tf_acquisition.ceta_cam.insertion_state"
   ]
  },
  {
   "cell_type": "code",
   "execution_count": null,
   "id": "f997b19d",
   "metadata": {},
   "outputs": [],
   "source": [
    "tf_acquisition.microscope.specimen.piezo_stage.is_enabled"
   ]
  },
  {
   "cell_type": "code",
   "execution_count": null,
   "id": "8a86bd58",
   "metadata": {},
   "outputs": [],
   "source": [
    "tf_acquisition.query_state_of_microscope()"
   ]
  },
  {
   "cell_type": "code",
   "execution_count": null,
   "id": "397b5774",
   "metadata": {},
   "outputs": [],
   "source": [
    "tf_acquisition.ceta_cam.retract()"
   ]
  },
  {
   "cell_type": "code",
   "execution_count": null,
   "id": "717c14bf",
   "metadata": {},
   "outputs": [],
   "source": [
    "tf_acquisition.query_vacuum_state()\n"
   ]
  },
  {
   "cell_type": "code",
   "execution_count": null,
   "id": "41f0e0c8",
   "metadata": {},
   "outputs": [],
   "source": [
    "tf_acquisition.query_vacuum_valves()"
   ]
  },
  {
   "cell_type": "code",
   "execution_count": null,
   "id": "46d52908",
   "metadata": {},
   "outputs": [],
   "source": [
    "tf_acquisition.open_vacuum_valves()\n",
    "# tf_acquisition.close_vacuum_valves()"
   ]
  },
  {
   "cell_type": "code",
   "execution_count": null,
   "id": "74fd0997",
   "metadata": {},
   "outputs": [],
   "source": [
    "tf_acquisition.query_is_beam_blanked()"
   ]
  },
  {
   "cell_type": "code",
   "execution_count": null,
   "id": "6c8c27c1",
   "metadata": {},
   "outputs": [],
   "source": [
    "tf_acquisition.unblank_beam()"
   ]
  },
  {
   "cell_type": "code",
   "execution_count": null,
   "id": "afa6bc8d",
   "metadata": {},
   "outputs": [],
   "source": [
    "# query mode of microscope\n",
    "tf_acquisition.microscope.optics.optical_mode\n",
    "# tf_acquisition.microscope.optics.optical_mode = \"STEM\"\n"
   ]
  },
  {
   "cell_type": "code",
   "execution_count": null,
   "id": "d8b7aa02",
   "metadata": {},
   "outputs": [],
   "source": [
    "# query screen state\n",
    "tf_acquisition.query_screen_postion()"
   ]
  },
  {
   "cell_type": "code",
   "execution_count": null,
   "id": "b2aabaed",
   "metadata": {},
   "outputs": [],
   "source": [
    "tf_acquisition.insert_screen()"
   ]
  },
  {
   "cell_type": "code",
   "execution_count": null,
   "id": "64f36fa2",
   "metadata": {},
   "outputs": [],
   "source": [
    "tf_acquisition.query_screen_current()"
   ]
  },
  {
   "cell_type": "code",
   "execution_count": null,
   "id": "de2fa6cc",
   "metadata": {},
   "outputs": [],
   "source": [
    "tf_acquisition.query_FOV()"
   ]
  },
  {
   "cell_type": "code",
   "execution_count": null,
   "id": "ac92ed90",
   "metadata": {},
   "outputs": [],
   "source": [
    "# insert screen"
   ]
  },
  {
   "cell_type": "code",
   "execution_count": null,
   "id": "d51e3938",
   "metadata": {},
   "outputs": [],
   "source": [
    "# measure screen current"
   ]
  },
  {
   "cell_type": "code",
   "execution_count": null,
   "id": "98fdf7c3",
   "metadata": {},
   "outputs": [],
   "source": [
    "# measure screen current"
   ]
  },
  {
   "cell_type": "code",
   "execution_count": null,
   "id": "31506c14",
   "metadata": {},
   "outputs": [],
   "source": [
    "# query field of view\n",
    "# if needed # set it # 3.279404126033114e-08, '2574.2481486146535Kx', '2.5742481486146533Mx'"
   ]
  },
  {
   "cell_type": "code",
   "execution_count": null,
   "id": "7577b211",
   "metadata": {},
   "outputs": [],
   "source": [
    "# where is the stage?\n",
    "tf_acquisition.query_stage_position()"
   ]
  },
  {
   "cell_type": "code",
   "execution_count": null,
   "id": "10b399c4",
   "metadata": {},
   "outputs": [],
   "source": [
    "#  query beam shift\n",
    "tf_acquisition.query_beam_shift_position()"
   ]
  },
  {
   "cell_type": "code",
   "execution_count": null,
   "id": "51d36449",
   "metadata": {},
   "outputs": [],
   "source": [
    "# acquire haadf\n",
    "haadf_image, haadf_image_data, haadf_tiff_name, pixel_size_tuple = tf_acquisition.acquire_haadf(exposure = 10e-6, resolution=1024, return_adorned_object=True, return_pixel_size=True)\n",
    "# tf_acquisition.haadf_det.retract()    \n",
    "HAADF_tiff_to_png(haadf_tiff_name)"
   ]
  },
  {
   "cell_type": "code",
   "execution_count": null,
   "id": "3305c1dc",
   "metadata": {},
   "outputs": [],
   "source": [
    "tf_acquisition.vt_plot_image(haadf_image)"
   ]
  },
  {
   "cell_type": "code",
   "execution_count": null,
   "id": "ed4e62d1",
   "metadata": {},
   "outputs": [],
   "source": [
    "# acquire haadf\n",
    "bf_image, bf_image_data, bf_tiff_name, pixel_size_tuple = tf_acquisition.acquire_bf(exposure = 10e-6, resolution=512, return_adorned_object=True, return_pixel_size=True)\n",
    "# tf_acquisition.haadf_det.retract()    \n",
    "HAADF_tiff_to_png(bf_tiff_name)"
   ]
  },
  {
   "cell_type": "code",
   "execution_count": null,
   "id": "5eeba1cf",
   "metadata": {},
   "outputs": [],
   "source": [
    "haadf_image, bf_image, haadf_data, bf_data, haadf_filename, bf_filename, pixel_size_tuple = tf_acquisition.acquire_haadf_bf(exposure = 10e-6, resolution=512, return_adorned_object=True, return_pixel_size=True)\n",
    "tf_acquisition.vt_plot_images([haadf_image, bf_image])"
   ]
  },
  {
   "cell_type": "code",
   "execution_count": null,
   "id": "066a0d73",
   "metadata": {},
   "outputs": [],
   "source": [
    "tf_acquisition.vt_add_scale_bar(haadf_image)"
   ]
  },
  {
   "cell_type": "code",
   "execution_count": null,
   "id": "50fb8856",
   "metadata": {},
   "outputs": [],
   "source": [
    "tf_acquisition.optistem_c1()"
   ]
  },
  {
   "cell_type": "code",
   "execution_count": null,
   "id": "8e2f7f51",
   "metadata": {},
   "outputs": [],
   "source": [
    "# acquire haadf\n",
    "haadf_np_array, haadf_tiff_name = tf_acquisition.acquire_haadf(exposure = 10e-6, resolution=512)\n",
    "# tf_acquisition.haadf_det.retract()    \n",
    "HAADF_tiff_to_png(haadf_tiff_name)"
   ]
  },
  {
   "cell_type": "code",
   "execution_count": null,
   "id": "486b7863",
   "metadata": {},
   "outputs": [],
   "source": [
    "tf_acquisition.optistem_b2_a2()"
   ]
  },
  {
   "cell_type": "code",
   "execution_count": null,
   "id": "b49b339c",
   "metadata": {},
   "outputs": [],
   "source": [
    "# query stage\n",
    "tf_acquisition.query_stage_position()\n"
   ]
  },
  {
   "cell_type": "code",
   "execution_count": null,
   "id": "304a430c",
   "metadata": {},
   "outputs": [],
   "source": [
    "# move stage \n",
    "\n",
    "tf_acquisition.move_stage_translation_absolute(x = 1.070307e-05 , y = 5.888724e-06, z =-110.776122e-06)\n",
    "# tf_acquisition.move_stage_translation_relative(x =100.701555e-06, y=+100.701555e-06, z = 0.0)\n",
    "# Gerd: 10UM IN X AND -4 UM IN Y and z is around -90um"
   ]
  },
  {
   "cell_type": "code",
   "execution_count": null,
   "id": "47119d75",
   "metadata": {},
   "outputs": [],
   "source": [
    "tf_acquisition.microscope.specimen.stage.get_axis_limits(axis=\"x\")"
   ]
  },
  {
   "cell_type": "code",
   "execution_count": null,
   "id": "898336ea",
   "metadata": {},
   "outputs": [],
   "source": [
    "tf_acquisition.microscope.specimen.stage.start_jogging()"
   ]
  },
  {
   "cell_type": "code",
   "execution_count": null,
   "id": "0f5e17e3",
   "metadata": {},
   "outputs": [],
   "source": [
    "tf_acquisition.microscope.specimen.stage.stop_jogging()"
   ]
  },
  {
   "cell_type": "code",
   "execution_count": null,
   "id": "70e222a2",
   "metadata": {},
   "outputs": [],
   "source": [
    "from PIL import Image\n",
    "import numpy as np\n",
    "import math\n",
    "\n",
    "from autoscript_tem_microscope_client import TemMicroscopeClient\n",
    "from autoscript_tem_microscope_client.enumerations import *\n",
    "from autoscript_tem_microscope_client.structures import *\n",
    "\n",
    "\n",
    "\n",
    "microscope = TemMicroscopeClient()\n",
    "# ip = \"10.46.218.253\"#--> velo computer\n",
    "# ip = \"10.46.217.242\"# gatan computer\n",
    "# microscope.connect(ip, 9095)# 7521 on gatan computer\n",
    "microscope = tf_acquisition.microscope\n",
    "ImagesX = 4\n",
    "ImagesY = 3\n",
    "Overlap = 0.1\n",
    "\n",
    "fov = microscope.optics.scan_field_of_view\n",
    "shift = fov * (1 - Overlap)\n",
    "OffsetX = math.floor(ImagesX / 2)\n",
    "OffsetY = math.floor(ImagesY / 2)\n",
    "InitialStagePosition = microscope.specimen.stage.position\n",
    "images = []\n",
    "\n",
    "for y in range(ImagesY):\n",
    "    for x in range(ImagesX):\n",
    "        shiftX = (x - OffsetX) * shift\n",
    "        shiftY = (y - OffsetY) * shift\n",
    "        # y = pointing to the right\n",
    "        relativeShift = StagePosition(x=shiftY, y=shiftX)\n",
    "        position = InitialStagePosition + relativeShift\n",
    "        microscope.specimen.stage.absolute_move(position)\n",
    "        image = microscope.acquisition.acquire_stem_image(\"HAADF\", 512, 1E-6)\n",
    "        images.append(image)\n",
    "\n",
    "microscope.specimen.stage.absolute_move(InitialStagePosition)\n",
    "\n",
    "# Display the images in a grid\n",
    "from matplotlib import pyplot as plt\n",
    "n = len(images)\n",
    "fig, plots = plt.subplots(ImagesY, ImagesX)\n",
    "\n",
    "for row in range(ImagesY):\n",
    "    for column in range(ImagesX):\n",
    "        plot = plots[row, column]\n",
    "        plot.axis('off')\n",
    "        i = column + row * ImagesX\n",
    "        plot.imshow(images[i].data, cmap='gray')\n",
    "\n",
    "plt.show()"
   ]
  },
  {
   "cell_type": "code",
   "execution_count": null,
   "id": "45d9c96c",
   "metadata": {},
   "outputs": [],
   "source": [
    "tf_acquisition.move_stage_translation_relative(x =0.1e-6, y=0.5e-6, z = 0.0)"
   ]
  },
  {
   "cell_type": "markdown",
   "id": "44b5b428",
   "metadata": {},
   "source": [
    "## 03. Aberration's"
   ]
  },
  {
   "cell_type": "code",
   "execution_count": null,
   "id": "8d02b5aa",
   "metadata": {},
   "outputs": [],
   "source": [
    "import os\n",
    "import json\n",
    "from pathlib import Path\n",
    "\n",
    "# Initialize to None\n",
    "ip = os.getenv(\"MICROSCOPE_IP\")\n",
    "port = os.getenv(\"MICROSCOPE_PORT\")\n",
    "\n",
    "\n",
    "if not ip or not port:\n",
    "    secret_path = Path(\"../../config_secret.json\")\n",
    "    if secret_path.exists():\n",
    "        with open(secret_path, \"r\") as f:\n",
    "            secret = json.load(f)\n",
    "            ip = ip or secret.get(\"ip_CEOS_sim\")\n",
    "            port = port or secret.get(\"port_CEOS_sim\")\n",
    "\n",
    "\n",
    "if not ip:\n",
    "    ip = input(\"Enter microscope IP: \")\n",
    "if not port:\n",
    "    port = input(\"Enter microscope Port: \")\n",
    "\n",
    "try:\n",
    "    port = int(port)\n",
    "except ValueError:\n",
    "    raise ValueError(\"Port must be an integer\")\n"
   ]
  },
  {
   "cell_type": "code",
   "execution_count": null,
   "id": "fef9a64e",
   "metadata": {},
   "outputs": [],
   "source": [
    "from stemOrchestrator.acquisition import CEOSacquisition, CEOSacquisitionTCP\n",
    "# ceos_acquisition = CEOSacquisition(host=ip, port=port)\n",
    "ceos_acquisition = CEOSacquisitionTCP(host=ip, port=port)\n"
   ]
  },
  {
   "cell_type": "code",
   "execution_count": null,
   "id": "df41acd2",
   "metadata": {},
   "outputs": [],
   "source": [
    "tableau_result = ceos_acquisition.run_tableau(tab_type=\"Enhanced\", angle=34)# use \"Fast\", \"Standard\", \"Enhanced\" --angle is in mili-radian 9,18,34"
   ]
  },
  {
   "cell_type": "code",
   "execution_count": null,
   "id": "638cca5b",
   "metadata": {},
   "outputs": [],
   "source": [
    "tableau_result "
   ]
  },
  {
   "cell_type": "code",
   "execution_count": null,
   "id": "1c3b257e",
   "metadata": {},
   "outputs": [],
   "source": [
    "tableau_result "
   ]
  },
  {
   "cell_type": "code",
   "execution_count": null,
   "id": "cc564966",
   "metadata": {},
   "outputs": [],
   "source": [
    "from autoscript_tem_microscope_client.structures import RunOptiStemSettings, RunStemAutoFocusSettings,RunAutoComaCorrectionSettings, Point, StagePosition, AdornedImage\n",
    "from autoscript_tem_microscope_client.enumerations import DetectorType, CameraType, OptiStemMethod, OpticalMode\n",
    "\n",
    "# CameraType.FLUCAM\n",
    "camera_type = CameraType.BM_CETA\n",
    "settings = RunAutoComaCorrectionSettings(CameraType.BM_CETA, 1024, 2, 5, tile_size=1024)"
   ]
  },
  {
   "cell_type": "code",
   "execution_count": null,
   "id": "717c26e7",
   "metadata": {},
   "outputs": [],
   "source": [
    "tf_acquisition.optistem_c1()"
   ]
  },
  {
   "cell_type": "markdown",
   "id": "c3267399",
   "metadata": {},
   "source": [
    "## Useful Links\n",
    "- [link to offline TF-Autoscript](https://www.thermofisher.com/us/en/home/electron-microscopy/products/software-em-3d-vis/software-updates.html#autoscript)\n",
    "- [Autoscript examples](https://www.fei-software-center.com/tem-apps/example-scripts/)"
   ]
  },
  {
   "cell_type": "markdown",
   "id": "241550b4",
   "metadata": {},
   "source": [
    "## testing stuff"
   ]
  },
  {
   "cell_type": "code",
   "execution_count": null,
   "id": "18efdf71",
   "metadata": {},
   "outputs": [],
   "source": [
    "tf_acquisition.microscope.detectors.camera_detectors"
   ]
  },
  {
   "cell_type": "code",
   "execution_count": null,
   "id": "7562e30e",
   "metadata": {},
   "outputs": [],
   "source": [
    "tf_acquisition.microscope.detectors.scanning_detectors\n"
   ]
  },
  {
   "cell_type": "code",
   "execution_count": null,
   "id": "5e76028f",
   "metadata": {},
   "outputs": [],
   "source": [
    "tf_acquisition.microscope.detectors.eds_detectors"
   ]
  },
  {
   "cell_type": "code",
   "execution_count": null,
   "id": "9e9f3c22",
   "metadata": {},
   "outputs": [],
   "source": [
    "# Get SuperX detector object \n",
    "from autoscript_tem_microscope_client.enumerations import DetectorType, CameraType, OptiStemMethod, OpticalMode, EdsDetectorType\n",
    "detector = tf_acquisition.microscope.detectors.get_eds_detector(EdsDetectorType.ULTRA_X)\n",
    "\n",
    "# Print detector name \n",
    "print(detector.name)\n",
    "\n",
    "# Print detector display name \n",
    "\n",
    "\n",
    "# Inspect detector state and properties \n",
    "print(detector.insertion_state)\n",
    "print(detector.is_insertable)\n",
    "print(detector.bin_counts)\n",
    "print(detector.dispersions)\n",
    "print(detector.shaping_times)"
   ]
  },
  {
   "cell_type": "code",
   "execution_count": null,
   "id": "5aa41e64",
   "metadata": {},
   "outputs": [],
   "source": [
    "microscope.source.field_emission_gun.is_flashing_advised\n"
   ]
  },
  {
   "cell_type": "code",
   "execution_count": null,
   "id": "abebe48d",
   "metadata": {},
   "outputs": [],
   "source": [
    "microscope.source.field_emission_gun.flash()"
   ]
  },
  {
   "cell_type": "markdown",
   "id": "9210c462",
   "metadata": {},
   "source": [
    "## get EDS "
   ]
  },
  {
   "cell_type": "code",
   "execution_count": null,
   "id": "56464a49",
   "metadata": {},
   "outputs": [],
   "source": [
    "eds_detector.dispersions[-1]# "
   ]
  },
  {
   "cell_type": "code",
   "execution_count": null,
   "id": "658bb37f",
   "metadata": {},
   "outputs": [],
   "source": [
    "eds_detector.dispersions"
   ]
  },
  {
   "cell_type": "code",
   "execution_count": null,
   "id": "ff72c577",
   "metadata": {},
   "outputs": [],
   "source": [
    "# Acquire single EDS spectrum and plot it\n",
    "import autoscript_tem_toolkit.vision as vision_toolkit\n",
    "from autoscript_tem_microscope_client.structures import RunOptiStemSettings, RunStemAutoFocusSettings, Point, StagePosition, AdornedImage, EdsAcquisitionSettings, AdornedSpectrum,  StemAcquisitionSettings, StageVelocity, EdsSpectrumImageSettings\n",
    "from autoscript_tem_microscope_client.enumerations import DetectorType, CameraType, OptiStemMethod, OpticalMode, EdsDetectorType, ExposureTimeType\n",
    "\n",
    "# Get the first EDS detector\n",
    "eds_detector_name = microscope.detectors.eds_detectors[0]\n",
    "eds_detector = microscope.detectors.get_eds_detector(eds_detector_name)\n",
    "\n",
    "# Configure the acquisition\n",
    "settings = EdsAcquisitionSettings()\n",
    "settings.eds_detector = eds_detector_name\n",
    "settings.dispersion = eds_detector.dispersions[-1]\n",
    "settings.shaping_time = eds_detector.shaping_times[-1]\n",
    "settings.exposure_time = 3e-3\n",
    "settings.exposure_time_type = ExposureTimeType.LIVE_TIME\n",
    "\n",
    "# Run the spectrum acquisition\n",
    "spectrum = microscope.analysis.eds.acquire_spectrum(settings)\n",
    "\n",
    "# Plot the spectrum\n",
    "vision_toolkit.plot_spectrum(spectrum)"
   ]
  },
  {
   "cell_type": "code",
   "execution_count": null,
   "id": "a4ec5997",
   "metadata": {},
   "outputs": [],
   "source": [
    "spectrum.metadata.metadata_as_xml"
   ]
  },
  {
   "cell_type": "code",
   "execution_count": null,
   "id": "dd61c820",
   "metadata": {},
   "outputs": [],
   "source": [
    "import xmltodict\n",
    "import json\n",
    "\n",
    "xml_string = spectrum.metadata.metadata_as_xml\n",
    "\n",
    "# Parse XML\n",
    "metadata = xmltodict.parse(xml_string)\n",
    "metadata = json.loads(json.dumps(metadata))  # OrderedDict → dict\n",
    "\n",
    "out = {}\n",
    "\n",
    "# Acceleration voltage (from Optics)\n",
    "out[\"AccelerationVoltage\"] = float(\n",
    "    metadata[\"Metadata\"][\"Optics\"][\"AccelerationVoltage\"]\n",
    ")\n",
    "\n",
    "# Dispersion + Offset for each analytical detector\n",
    "out[\"AnalyticalDetectors\"] = {}\n",
    "for det in metadata[\"Metadata\"][\"Detectors\"][\"AnalyticalDetector\"]:\n",
    "    name = det[\"DetectorName\"]\n",
    "    out[\"AnalyticalDetectors\"][name] = {\n",
    "        \"Dispersion\": float(det.get(\"Dispersion\", 0)),\n",
    "        \"OffsetEnergy\": float(det.get(\"OffsetEnergy\", 0)),\n",
    "    }\n",
    "\n",
    "print(json.dumps(out, indent=2))\n",
    "\n"
   ]
  },
  {
   "cell_type": "code",
   "execution_count": null,
   "id": "88ac2674",
   "metadata": {},
   "outputs": [],
   "source": [
    "out = {\n",
    "  \"AccelerationVoltage\": {\n",
    "    \"value\": float(metadata[\"Metadata\"][\"Optics\"][\"AccelerationVoltage\"]),\n",
    "    \"unit\": \"V\"\n",
    "  },\n",
    "  \"AnalyticalDetectors\": {}\n",
    "}\n",
    "\n",
    "for det in metadata[\"Metadata\"][\"Detectors\"][\"AnalyticalDetector\"]:\n",
    "    name = det[\"DetectorName\"]\n",
    "    out[\"AnalyticalDetectors\"][name] = {\n",
    "        \"Dispersion\": {\n",
    "            \"value\": float(det.get(\"Dispersion\", 0)),\n",
    "            \"unit\": \"eV/channel\"\n",
    "        },\n",
    "        \"OffsetEnergy\": {\n",
    "            \"value\": float(det.get(\"OffsetEnergy\", 0)),\n",
    "            \"unit\": \"eV\"\n",
    "        }\n",
    "    }\n",
    "\n",
    "out"
   ]
  },
  {
   "cell_type": "code",
   "execution_count": null,
   "id": "915f9f5d",
   "metadata": {},
   "outputs": [],
   "source": [
    "spectrum.data"
   ]
  },
  {
   "cell_type": "code",
   "execution_count": null,
   "id": "eb4ff77e",
   "metadata": {},
   "outputs": [],
   "source": [
    "spectrum.metadata."
   ]
  },
  {
   "cell_type": "code",
   "execution_count": null,
   "id": "6cc080ee",
   "metadata": {},
   "outputs": [],
   "source": [
    "import autoscript_tem_toolkit.vision as vision_toolkit\n",
    "from autoscript_tem_microscope_client.structures import RunOptiStemSettings, RunStemAutoFocusSettings, Point, StagePosition, AdornedImage, EdsAcquisitionSettings, AdornedSpectrum,  StemAcquisitionSettings, StageVelocity, EdsSpectrumImageSettings, Region\n",
    "from autoscript_tem_microscope_client.enumerations import DetectorType, CameraType, OptiStemMethod, OpticalMode, EdsDetectorType, ExposureTimeType, ImageSize, RegionCoordinateSystem"
   ]
  },
  {
   "cell_type": "code",
   "execution_count": null,
   "id": "8e11d261",
   "metadata": {},
   "outputs": [],
   "source": [
    "# Get the first EDS detector\n",
    "eds_detector_name = microscope.detectors.eds_detectors[0]\n",
    "eds_detector = microscope.detectors.get_eds_detector(eds_detector_name)\n",
    "\n",
    "# Configure the acquisition\n",
    "settings = EdsSpectrumImageSettings(eds_detector=eds_detector.name,\n",
    "                                    dispersion=eds_detector.dispersions[0],\n",
    "                                    shaping_time=eds_detector.shaping_times[0],\n",
    "                                    dwell_time=4e-6,\n",
    "                                    size=ImageSize.PRESET_256,\n",
    "                                    scanning_detectors=[DetectorType.HAADF])\n",
    "\n",
    "# Run the scan\n",
    "eds_spectrum_image = microscope.analysis.eds.acquire_spectrum_image(settings)\n",
    "\n",
    "# Save the spectrum image to disk in EMD format\n",
    "eds_spectrum_image.save(r\"spectrum_image.emd\")"
   ]
  },
  {
   "cell_type": "code",
   "execution_count": null,
   "id": "d6d7cfe3",
   "metadata": {},
   "outputs": [],
   "source": [
    "eds_spectrum_image."
   ]
  },
  {
   "cell_type": "code",
   "execution_count": null,
   "id": "f92d574d",
   "metadata": {},
   "outputs": [],
   "source": [
    "vision_toolkit.plot_spectra(eds_spectrum_image)"
   ]
  },
  {
   "cell_type": "code",
   "execution_count": null,
   "id": "77936d95",
   "metadata": {},
   "outputs": [],
   "source": [
    "#Acquire EDS spectrum image with a rectangular region\n",
    "# Get the first EDS detector\n",
    "eds_detector_name = microscope.detectors.eds_detectors[0]\n",
    "eds_detector = microscope.detectors.get_eds_detector(eds_detector_name)\n",
    "\n",
    "# Configure the acquisition\n",
    "settings = EdsSpectrumImageSettings(eds_detector=eds_detector.name,\n",
    "                                    dispersion=eds_detector.dispersions[0],\n",
    "                                    shaping_time=eds_detector.shaping_times[0],\n",
    "                                    dwell_time=4e-6,\n",
    "                                    size=ImageSize.PRESET_1024,\n",
    "                                    region=Region(coordinate_system=RegionCoordinateSystem.RELATIVE,\n",
    "                                                rectangle=[0, 0, 0.5, 0.5]),\n",
    "                                    scanning_detectors=[DetectorType.HAADF])\n",
    "\n",
    "# Run the scan\n",
    "eds_spectrum_image = microscope.analysis.eds.acquire_spectrum_image(settings)\n",
    "\n",
    "# Save the spectrum image to disk in EMD format\n",
    "eds_spectrum_image.save(r\"spectrum_image_rectangle.emd\")"
   ]
  },
  {
   "cell_type": "markdown",
   "id": "a99d2ecb",
   "metadata": {},
   "source": [
    "## read edx- pytemlib and hyperspy try"
   ]
  },
  {
   "cell_type": "markdown",
   "id": "e3bfc7a8",
   "metadata": {},
   "source": []
  }
 ],
 "metadata": {
  "kernelspec": {
   "display_name": "stemorchestrator",
   "language": "python",
   "name": "python3"
  },
  "language_info": {
   "codemirror_mode": {
    "name": "ipython",
    "version": 3
   },
   "file_extension": ".py",
   "mimetype": "text/x-python",
   "name": "python",
   "nbconvert_exporter": "python",
   "pygments_lexer": "ipython3",
   "version": "3.11.5"
  }
 },
 "nbformat": 4,
 "nbformat_minor": 5
}
