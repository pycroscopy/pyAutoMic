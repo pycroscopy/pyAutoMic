{
 "cells": [
  {
   "cell_type": "markdown",
   "id": "02b0250e",
   "metadata": {},
   "source": [
    "## Tutorial to demonstrate capability of Autoscript to handle various hardware modules\n",
    "- hardware\n",
    "    - vacuum\n",
    "    - stage\n",
    "    - beam\n",
    "    - detectors - HAADF, ceta\n",
    "    - aberration coefficients\n",
    "\n",
    "#### Contributor(s): Utkarsh Pratiush <utkarshp1161@gmail.com> - 23rd May 2025\n",
    "#### edited - \n",
    "   "
   ]
  },
  {
   "cell_type": "markdown",
   "id": "6e6d5f73",
   "metadata": {},
   "source": [
    "## 0. Setup imports"
   ]
  },
  {
   "cell_type": "code",
   "execution_count": null,
   "id": "16aaeb0d",
   "metadata": {},
   "outputs": [],
   "source": [
    "from stemOrchestrator.logging_config   import setup_logging\n",
    "data_folder  = \".\"\n",
    "out_path = data_folder\n",
    "setup_logging(out_path=out_path) "
   ]
  },
  {
   "cell_type": "code",
   "execution_count": null,
   "id": "d5939b0b",
   "metadata": {},
   "outputs": [],
   "source": [
    "from stemOrchestrator.acquisition import TFacquisition, DMacquisition\n",
    "from stemOrchestrator.simulation import DMtwin\n",
    "from stemOrchestrator.process import HAADF_tiff_to_png, tiff_to_png\n",
    "from autoscript_tem_microscope_client import TemMicroscopeClient\n",
    "import matplotlib.pyplot as plt\n",
    "import logging\n",
    "plot = plt\n",
    "from typing import Dict"
   ]
  },
  {
   "cell_type": "markdown",
   "id": "32a825b5",
   "metadata": {},
   "source": [
    "## 01. setup the microscope configuration"
   ]
  },
  {
   "cell_type": "code",
   "execution_count": null,
   "id": "83a6bb0d",
   "metadata": {},
   "outputs": [],
   "source": [
    "import os\n",
    "import json\n",
    "from pathlib import Path\n",
    "\n",
    "ip = os.getenv(\"MICROSCOPE_IP\")\n",
    "port = os.getenv(\"MICROSCOPE_PORT\")\n",
    "\n",
    "if not ip or not port:\n",
    "    secret_path = Path(\"../../config_secret.json\")\n",
    "    if secret_path.exists():\n",
    "        with open(secret_path, \"r\") as f:\n",
    "            secret = json.load(f)\n",
    "            ip = ip or secret.get(\"ip_TF\")\n",
    "            port = port or secret.get(\"port_TF\")\n",
    "\n",
    "\n",
    "\n",
    "config = {\n",
    "    \"ip\": ip,\n",
    "    \"port\": port,\n",
    "    \"haadf_exposure\": 40e-8,  # micro-seconds per pixel\n",
    "    \"haadf_resolution\": 512, # square\n",
    "    \"out_path\": \".\"\n",
    "}"
   ]
  },
  {
   "cell_type": "markdown",
   "id": "646fedc6",
   "metadata": {},
   "source": [
    "## 02. Initialize microscope"
   ]
  },
  {
   "cell_type": "code",
   "execution_count": null,
   "id": "1d2a5a9c",
   "metadata": {},
   "outputs": [],
   "source": [
    "\n",
    "ip = config[\"ip\"]\n",
    "port = config[\"port\"]\n",
    "haadf_exposure = config[\"haadf_exposure\"]\n",
    "out_path = config[\"out_path\"]\n",
    "haadf_resolution = config[\"haadf_resolution\"]\n",
    "\n",
    "\n",
    "\n",
    "microscope = TemMicroscopeClient()\n",
    "microscope.connect(ip, port = port)# 7521 on velox  computer\n",
    "\n",
    "# query state:\n",
    "\n",
    "tf_acquisition = TFacquisition(microscope=microscope)\n",
    "\n",
    "# put beam shift to 0,0\n",
    "# tf_acquisition.move_beam_shift_positon([0, 0])\n"
   ]
  },
  {
   "cell_type": "code",
   "execution_count": null,
   "id": "5d7392b0",
   "metadata": {},
   "outputs": [],
   "source": [
    "tf_acquisition.ceta_cam.insertion_state"
   ]
  },
  {
   "cell_type": "code",
   "execution_count": null,
   "id": "717c14bf",
   "metadata": {},
   "outputs": [],
   "source": [
    "tf_acquisition.open_vacuum_valves()"
   ]
  },
  {
   "cell_type": "code",
   "execution_count": null,
   "id": "97a2bb33",
   "metadata": {},
   "outputs": [],
   "source": [
    "# query vacuum state\n",
    "tf_acquisition.query_vacuum_state()"
   ]
  },
  {
   "cell_type": "code",
   "execution_count": null,
   "id": "f7b37cbc",
   "metadata": {},
   "outputs": [],
   "source": [
    "# query vacuum valves\n",
    "tf_acquisition.query_vacuum_valves()"
   ]
  },
  {
   "cell_type": "code",
   "execution_count": null,
   "id": "44b4eb6d",
   "metadata": {},
   "outputs": [],
   "source": [
    "tf_acquisition.open_vacuum_valves()"
   ]
  },
  {
   "cell_type": "code",
   "execution_count": null,
   "id": "afa6bc8d",
   "metadata": {},
   "outputs": [],
   "source": [
    "# query mode of microscope\n",
    "tf_acquisition.microscope.optics.optical_mode\n",
    "# tf_acquisition.microscope.optics.optical_mode = \"STEM\"\n"
   ]
  },
  {
   "cell_type": "code",
   "execution_count": null,
   "id": "c02f6585",
   "metadata": {},
   "outputs": [],
   "source": [
    "# query beam state\n",
    "tf_acquisition.query_is_beam_blanked()\n",
    "# tf_acquisition.unblank_beam()"
   ]
  },
  {
   "cell_type": "code",
   "execution_count": null,
   "id": "0a6561c7",
   "metadata": {},
   "outputs": [],
   "source": [
    "tf_acquisition.ceta_cam"
   ]
  },
  {
   "cell_type": "code",
   "execution_count": null,
   "id": "d8b7aa02",
   "metadata": {},
   "outputs": [],
   "source": [
    "# query screen state\n",
    "tf_acquisition.query_screen_postion()"
   ]
  },
  {
   "cell_type": "code",
   "execution_count": null,
   "id": "b2aabaed",
   "metadata": {},
   "outputs": [],
   "source": [
    "tf_acquisition.insert_screen()"
   ]
  },
  {
   "cell_type": "code",
   "execution_count": null,
   "id": "64f36fa2",
   "metadata": {},
   "outputs": [],
   "source": [
    "tf_acquisition.query_screen_current()"
   ]
  },
  {
   "cell_type": "code",
   "execution_count": null,
   "id": "de2fa6cc",
   "metadata": {},
   "outputs": [],
   "source": [
    "tf_acquisition.query_FOV()"
   ]
  },
  {
   "cell_type": "code",
   "execution_count": null,
   "id": "ac92ed90",
   "metadata": {},
   "outputs": [],
   "source": [
    "# insert screen"
   ]
  },
  {
   "cell_type": "code",
   "execution_count": null,
   "id": "d51e3938",
   "metadata": {},
   "outputs": [],
   "source": [
    "# measure screen current"
   ]
  },
  {
   "cell_type": "code",
   "execution_count": null,
   "id": "98fdf7c3",
   "metadata": {},
   "outputs": [],
   "source": [
    "# measure screen current"
   ]
  },
  {
   "cell_type": "code",
   "execution_count": null,
   "id": "31506c14",
   "metadata": {},
   "outputs": [],
   "source": [
    "# query field of view\n",
    "# if needed # set it # 3.279404126033114e-08, '2574.2481486146535Kx', '2.5742481486146533Mx'"
   ]
  },
  {
   "cell_type": "code",
   "execution_count": null,
   "id": "7577b211",
   "metadata": {},
   "outputs": [],
   "source": [
    "# where is the stage?\n",
    "tf_acquisition.query_stage_position()"
   ]
  },
  {
   "cell_type": "code",
   "execution_count": null,
   "id": "10b399c4",
   "metadata": {},
   "outputs": [],
   "source": [
    "#  query beam shift\n",
    "tf_acquisition.query_beam_shift_position()"
   ]
  },
  {
   "cell_type": "code",
   "execution_count": null,
   "id": "d71fbac0",
   "metadata": {},
   "outputs": [],
   "source": [
    "# acquire haadf\n",
    "haadf_np_array, haadf_tiff_name = tf_acquisition.acquire_haadf(exposure = 10e-6, resolution=512)\n",
    "tf_acquisition.haadf_det.retract()    \n",
    "HAADF_tiff_to_png(haadf_tiff_name)"
   ]
  },
  {
   "cell_type": "code",
   "execution_count": null,
   "id": "486b7863",
   "metadata": {},
   "outputs": [],
   "source": [
    "tf_acquisition.query_haadf_state()"
   ]
  },
  {
   "cell_type": "code",
   "execution_count": null,
   "id": "b49b339c",
   "metadata": {},
   "outputs": [],
   "source": [
    "# query stage\n",
    "tf_acquisition.query_stage_position()\n"
   ]
  },
  {
   "cell_type": "code",
   "execution_count": null,
   "id": "304a430c",
   "metadata": {},
   "outputs": [],
   "source": [
    "# move stage \n",
    "\n",
    "# tf_acquisition.move_stage_translation_absolute(x = 10.701555e-06 , y = 5.87561e-06, z =-110.776122e-06)\n",
    "# tf_acquisition.move_stage_translation_relative(x =0, y=0, z = 0.0)\n"
   ]
  },
  {
   "cell_type": "code",
   "execution_count": null,
   "id": "45d9c96c",
   "metadata": {},
   "outputs": [],
   "source": [
    "tf_acquisition.move_stage_translation_relative(x =0.1e-6, y=0.5e-6, z = 0.0)"
   ]
  },
  {
   "cell_type": "markdown",
   "id": "44b5b428",
   "metadata": {},
   "source": [
    "## 03. Aberration's"
   ]
  },
  {
   "cell_type": "code",
   "execution_count": null,
   "id": "8d02b5aa",
   "metadata": {},
   "outputs": [],
   "source": [
    "import os\n",
    "import json\n",
    "from pathlib import Path\n",
    "\n",
    "# Initialize to None\n",
    "ip = os.getenv(\"MICROSCOPE_IP\")\n",
    "port = os.getenv(\"MICROSCOPE_PORT\")\n",
    "\n",
    "\n",
    "if not ip or not port:\n",
    "    secret_path = Path(\"../../config_secret.json\")\n",
    "    if secret_path.exists():\n",
    "        with open(secret_path, \"r\") as f:\n",
    "            secret = json.load(f)\n",
    "            ip = ip or secret.get(\"ip_CEOS_sim\")\n",
    "            port = port or secret.get(\"port_CEOS_sim\")\n",
    "\n",
    "\n",
    "if not ip:\n",
    "    ip = input(\"Enter microscope IP: \")\n",
    "if not port:\n",
    "    port = input(\"Enter microscope Port: \")\n",
    "\n",
    "try:\n",
    "    port = int(port)\n",
    "except ValueError:\n",
    "    raise ValueError(\"Port must be an integer\")\n"
   ]
  },
  {
   "cell_type": "code",
   "execution_count": null,
   "id": "fef9a64e",
   "metadata": {},
   "outputs": [],
   "source": [
    "from stemOrchestrator.acquisition import CEOSacquisition, CEOSacquisitionTCP\n",
    "# ceos_acquisition = CEOSacquisition(host=ip, port=port)\n",
    "ceos_acquisition = CEOSacquisitionTCP(host=ip, port=port)\n"
   ]
  },
  {
   "cell_type": "code",
   "execution_count": null,
   "id": "df41acd2",
   "metadata": {},
   "outputs": [],
   "source": [
    "tableau_result = ceos_acquisition.run_tableau(tab_type=\"Enhanced\", angle=34)# use \"Fast\", \"Standard\", \"Enhanced\" --angle is in mili-radian 9,18,34"
   ]
  },
  {
   "cell_type": "code",
   "execution_count": null,
   "id": "638cca5b",
   "metadata": {},
   "outputs": [],
   "source": [
    "tableau_result "
   ]
  },
  {
   "cell_type": "code",
   "execution_count": null,
   "id": "1c3b257e",
   "metadata": {},
   "outputs": [],
   "source": [
    "tableau_result "
   ]
  },
  {
   "cell_type": "code",
   "execution_count": null,
   "id": "cc564966",
   "metadata": {},
   "outputs": [],
   "source": [
    "from autoscript_tem_microscope_client.structures import RunOptiStemSettings, RunStemAutoFocusSettings,RunAutoComaCorrectionSettings, Point, StagePosition, AdornedImage\n",
    "from autoscript_tem_microscope_client.enumerations import DetectorType, CameraType, OptiStemMethod, OpticalMode\n",
    "\n",
    "# CameraType.FLUCAM\n",
    "camera_type = CameraType.BM_CETA\n",
    "settings = RunAutoComaCorrectionSettings(CameraType.BM_CETA, 1024, 2, 5, tile_size=1024)"
   ]
  },
  {
   "cell_type": "code",
   "execution_count": null,
   "id": "717c26e7",
   "metadata": {},
   "outputs": [],
   "source": [
    "tf_acquisition.optistem_c1()"
   ]
  },
  {
   "cell_type": "markdown",
   "id": "c3267399",
   "metadata": {},
   "source": [
    "## Useful Links\n",
    "- [link to offline TF-Autoscript](https://www.thermofisher.com/us/en/home/electron-microscopy/products/software-em-3d-vis/software-updates.html#autoscript)\n",
    "- [Autoscript examples](https://www.fei-software-center.com/tem-apps/example-scripts/)"
   ]
  },
  {
   "cell_type": "markdown",
   "id": "1abc5f30",
   "metadata": {},
   "source": []
  }
 ],
 "metadata": {
  "kernelspec": {
   "display_name": "dmclient_2",
   "language": "python",
   "name": "python3"
  },
  "language_info": {
   "codemirror_mode": {
    "name": "ipython",
    "version": 3
   },
   "file_extension": ".py",
   "mimetype": "text/x-python",
   "name": "python",
   "nbconvert_exporter": "python",
   "pygments_lexer": "ipython3",
   "version": "3.8.17"
  }
 },
 "nbformat": 4,
 "nbformat_minor": 5
}
