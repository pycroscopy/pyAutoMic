{
 "cells": [
  {
   "cell_type": "code",
   "execution_count": null,
   "metadata": {},
   "outputs": [],
   "source": [
    "import yaml\n",
    "\n",
    "# Load the YAML file\n",
    "with open(\"credential.yaml\", \"r\") as f:\n",
    "    cred = yaml.safe_load(f)\n",
    "\n",
    "ACCOUNT_ID = cred[\"accountId\"]\n",
    "AUTH_TOKEN = cred[\"authToken\"] # @param {type:\"string\"}\n",
    "# # MATERIALS_PROJECT_API_KEY = cred[\"materials-project-apikey\"] # @param {type:\"string\"}\n",
    "ORGANIZATION_ID = ACCOUNT_ID "
   ]
  },
  {
   "attachments": {},
   "cell_type": "markdown",
   "metadata": {
    "id": "n3qID8yysRA9"
   },
   "source": [
    "# Imports"
   ]
  },
  {
   "cell_type": "code",
   "execution_count": null,
   "metadata": {},
   "outputs": [],
   "source": [
    "import sys\n",
    "import os\n",
    "sys.path.append(\"/Users/utkarshpratiush/project/api-examples/\")"
   ]
  },
  {
   "cell_type": "code",
   "execution_count": null,
   "metadata": {
    "id": "eohqW-ICsRA-"
   },
   "outputs": [],
   "source": [
    "# from utils.settings import ENDPOINT_ARGS, ACCOUNT_ID\n",
    "# from utils.generic import display_JSON\n",
    "\n",
    "# from exabyte_api_client.endpoints.materials import MaterialEndpoints\n",
    "# from exabyte_api_client import pl"
   ]
  },
  {
   "cell_type": "code",
   "execution_count": null,
   "metadata": {},
   "outputs": [],
   "source": [
    "OWNER_ID = os.getenv(\"ORGANIZATION_ID\") or ACCOUNT_ID"
   ]
  },
  {
   "cell_type": "code",
   "execution_count": null,
   "metadata": {},
   "outputs": [],
   "source": [
    "from utils.settings import ENDPOINT_ARGS, ACCOUNT_ID\n",
    "from utils.generic import display_JSON\n",
    "\n",
    "from exabyte_api_client.endpoints.materials import MaterialEndpoints"
   ]
  },
  {
   "cell_type": "code",
   "execution_count": null,
   "metadata": {},
   "outputs": [],
   "source": [
    "ENDPOINT_ARGS = cred[\"endpointArgs\"]"
   ]
  },
  {
   "cell_type": "code",
   "execution_count": null,
   "metadata": {},
   "outputs": [],
   "source": [
    "endpoint = MaterialEndpoints(*ENDPOINT_ARGS)"
   ]
  },
  {
   "attachments": {},
   "cell_type": "markdown",
   "metadata": {
    "id": "-afD9DmxsRA_"
   },
   "source": [
    "# Poscar "
   ]
  },
  {
   "cell_type": "code",
   "execution_count": null,
   "metadata": {},
   "outputs": [],
   "source": [
    "NAME = \"MgO\"\n",
    "POSCAR_PATH = \"MgO.poscar\""
   ]
  },
  {
   "attachments": {},
   "cell_type": "markdown",
   "metadata": {
    "id": "1S914EcCsRBA"
   },
   "source": [
    "## Create material\n",
    "\n",
    "Initialize `MaterialEndpoints` class and call `create` function to create material."
   ]
  },
  {
   "cell_type": "code",
   "execution_count": null,
   "metadata": {},
   "outputs": [],
   "source": [
    "content = \"\"\n",
    "with open(POSCAR_PATH) as f:\n",
    "    content = f.read()\n",
    "    print(content)\n",
    "\n",
    "OWNER_ID = ACCOUNT_ID #os.getenv(\"ORGANIZATION_ID\") or ACCOUNT_ID\n",
    "\n",
    "material = endpoint.import_from_file(NAME, content, owner_id=OWNER_ID)"
   ]
  },
  {
   "cell_type": "markdown",
   "metadata": {},
   "source": [
    "## Show material"
   ]
  },
  {
   "cell_type": "code",
   "execution_count": null,
   "metadata": {},
   "outputs": [],
   "source": [
    "display_JSON(material)"
   ]
  },
  {
   "cell_type": "markdown",
   "metadata": {},
   "source": [
    "# Process Multiple POSCAR Files"
   ]
  },
  {
   "cell_type": "code",
   "execution_count": null,
   "metadata": {},
   "outputs": [],
   "source": [
    "import os\n",
    "\n",
    "# Directory containing POSCAR files\n",
    "POSCAR_DIR = \"poscars\"\n",
    "\n",
    "# Get all POSCAR files in the directory\n",
    "poscar_files = [f for f in os.listdir(POSCAR_DIR) if f.endswith(\".POSCAR\")]\n",
    "print(f\"Found {len(poscar_files)} POSCAR files in {POSCAR_DIR}\")"
   ]
  },
  {
   "cell_type": "code",
   "execution_count": null,
   "metadata": {},
   "outputs": [],
   "source": [
    "def upload_poscar(filepath, name):\n",
    "    \"\"\"Upload a single POSCAR file to Mat3ra server\"\"\"\n",
    "    try:\n",
    "        with open(filepath) as f:\n",
    "            content = f.read()\n",
    "        material = endpoint.import_from_file(name, content, owner_id=OWNER_ID)\n",
    "        return material\n",
    "    except Exception as e:\n",
    "        print(f\"Error uploading {filepath}: {str(e)}\")\n",
    "        return None"
   ]
  },
  {
   "cell_type": "code",
   "execution_count": null,
   "metadata": {},
   "outputs": [],
   "source": [
    "# Process all POSCAR files\n",
    "uploaded_materials = []\n",
    "\n",
    "for poscar_file in poscar_files:\n",
    "    print(f\"Processing {poscar_file}...\")\n",
    "    # Extract name from filename (remove .POSCAR extension)\n",
    "    name = os.path.splitext(poscar_file)[0]\n",
    "    filepath = os.path.join(POSCAR_DIR, poscar_file)\n",
    "    \n",
    "    material = upload_poscar(filepath, name)\n",
    "    if material:\n",
    "        uploaded_materials.append(material)\n",
    "        print(f\"Successfully uploaded {name}\")\n",
    "\n",
    "print(f\"\\nUploaded {len(uploaded_materials)} materials to Mat3ra server\")"
   ]
  },
  {
   "cell_type": "markdown",
   "metadata": {},
   "source": [
    "## Display Uploaded Materials"
   ]
  },
  {
   "cell_type": "code",
   "execution_count": null,
   "metadata": {},
   "outputs": [],
   "source": [
    "for material in uploaded_materials:\n",
    "    print(f\"\\nMaterial: {material.get('name')}\")\n",
    "    display_JSON(material)"
   ]
  },
  {
   "cell_type": "code",
   "execution_count": null,
   "metadata": {},
   "outputs": [],
   "source": []
  }
 ],
 "metadata": {
  "colab": {
   "collapsed_sections": [],
   "name": "create_material.ipynb",
   "provenance": []
  },
  "kernelspec": {
   "display_name": "dmclient_2",
   "language": "python",
   "name": "python3"
  },
  "language_info": {
   "codemirror_mode": {
    "name": "ipython",
    "version": 3
   },
   "file_extension": ".py",
   "mimetype": "text/x-python",
   "name": "python",
   "nbconvert_exporter": "python",
   "pygments_lexer": "ipython3",
   "version": "3.8.17"
  }
 },
 "nbformat": 4,
 "nbformat_minor": 1
}
