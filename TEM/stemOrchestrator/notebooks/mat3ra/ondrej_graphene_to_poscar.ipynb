{
 "cells": [
  {
   "cell_type": "markdown",
   "id": "3ffb9a44",
   "metadata": {},
   "source": [
    "## Creating POSCAR Files from DCNN-Detected STEM Coordinates and sending to mat3ra servers\n",
    "\n",
    "This notebook demonstrates how to convert DCNN-predicted atomic coordinates into a POSCAR format, which can be used for DFT simulations using ASE or VASP.\n",
    "\n",
    "\n",
    "data credits:\n",
    "    - [Ondej Dyck - ORNL](https://scholar.google.com/citations?user=ZW0OJugAAAAJ&hl=en)\n",
    "\n",
    "\n",
    "\n",
    "### Assumptions\n",
    "- The atomic positions from `lattice_coord` are 2D (x, y).\n",
    "- All atoms lie on a fixed plane (z = 0 Å by default).\n",
    "- The system is periodic or semi-periodic in the X-Y plane.\n",
    "- Cell size can be derived from image dimensions or manually set.\n",
    "- Output will be compatible with ASE and VASP.\n",
    "\n",
    "\n",
    "\n",
    "### Steps to Create POSCAR\n",
    "\n",
    "1. **Choose a Frame**\n",
    "   - Select a frame from your dataset (e.g., `i = 49`) to visualize and export.\n",
    "\n",
    "2. **Extract Coordinates and Atom Types**\n",
    "   - Use `lattice_coord` to extract atomic positions.\n",
    "   - Separate atoms by type:\n",
    "     - Silicon (Si) atoms have label `1`\n",
    "     - Carbon (C) atoms have label `0`\n",
    "\n",
    "3. **Create an ASE `Atoms` Object**\n",
    "   - Stack all atoms into one list with element symbols.\n",
    "   - Set their positions as `(x, y, 0.0)`, assuming a flat slab.\n",
    "   - Define the cell size using the image resolution and pixel size (default: 1 Å/pixel).\n",
    "   - Enable periodic boundary conditions in the X and Y directions.\n",
    "\n",
    "4. **Export to POSCAR Format**\n",
    "   - Use `ase.io.write(\"filename.POSCAR\", atoms, format=\"vasp\")` to save.\n",
    "   - This format can now be used in DFT software like VASP or further ASE workflows.\n",
    "\n"
   ]
  },
  {
   "cell_type": "code",
   "execution_count": null,
   "id": "42d0b050",
   "metadata": {},
   "outputs": [],
   "source": [
    "# !gdown https://drive.google.com/uc?id=1-JZSRjIjNjkR0ZQ8ffRDAZ2FID53Yhon\n",
    "# !gdown https://drive.google.com/uc?id=1-84vLdGFsimD1jaTcGcMzNRCSvjId7-Y\n",
    "# !gdown https://drive.google.com/uc?id=1-Lowglj7fwEFaJoC9EBKDyfCIsMgOnyu"
   ]
  },
  {
   "cell_type": "code",
   "execution_count": null,
   "id": "2624d78c",
   "metadata": {},
   "outputs": [],
   "source": [
    "import numpy as np\n",
    "import cv2\n",
    "import matplotlib.pyplot as plt"
   ]
  },
  {
   "cell_type": "code",
   "execution_count": null,
   "id": "23caaf1c",
   "metadata": {},
   "outputs": [],
   "source": [
    "STEM_real = np.load('3DStack13-1-exp.npy')   # raw STEM Image\n",
    "decoded_imgs = np.load('3DStack13-1-dec.npy')   # oytput of DCNN where the each pixel is classified as one of the three classes (C, Si, or background)\n",
    "lattice_coord = np.load('3DStack13-1-coord.npy', allow_pickle=True)[()]  # The atomic coodinates found by DCNN"
   ]
  },
  {
   "cell_type": "code",
   "execution_count": null,
   "id": "aa88d9f9",
   "metadata": {},
   "outputs": [],
   "source": [
    "#Visulaizing one frame of the data, we have 50 frames (0-49)\n",
    "\n",
    "i = 49 # Choose movie frame\n",
    "\n",
    "# Squeeze the channels in the predicted image (this is optional)\n",
    "d_img = np.uint8(decoded_imgs[i]*255)\n",
    "d_img = cv2.cvtColor(d_img, cv2.COLOR_BGR2GRAY)\n",
    "# Get coordinates for C and Si atoms\n",
    "lattice_coord_ = lattice_coord[i]\n",
    "coord_Si = lattice_coord[i][np.where(lattice_coord[i][:,2]==1)][:,0:2]#     silicon atom\n",
    "coord_C = lattice_coord[i][np.where(lattice_coord[i][:,2]==0)][:,0:2]# carbon atom\n",
    "# Plotting\n",
    "fig = plt.figure(figsize = (15, 10), dpi = 100)\n",
    "ax1 = fig.add_subplot(131)\n",
    "ax1.imshow(STEM_real[i,:,:,0], vmin=0, vmax=0.3, cmap='gray')\n",
    "ax1.axis('off')\n",
    "ax1.set_title('Experimental', fontsize=14)\n",
    "ax2 = fig.add_subplot(132)\n",
    "ax2.imshow(d_img, cmap='jet', interpolation='Gaussian')\n",
    "ax2.axis('off')\n",
    "ax2.set_title('DCNN output', fontsize = 14)\n",
    "ax3 = fig.add_subplot(133)\n",
    "ax3.scatter(coord_Si[:,1], coord_Si[:,0], c='red', s=1)\n",
    "ax3.scatter(coord_C[:,1], coord_C[:,0], c='blue', s=1)\n",
    "ax3.imshow(STEM_real[i,:,:,0], cmap = 'gray')\n",
    "ax3.axis('off')\n",
    "ax3.set_title('Atomic coordinates', fontsize = 14)"
   ]
  },
  {
   "cell_type": "code",
   "execution_count": null,
   "id": "a44da97b",
   "metadata": {},
   "outputs": [],
   "source": [
    "import numpy as np\n",
    "from ase import Atoms\n",
    "from ase.io import write\n",
    "import os"
   ]
  },
  {
   "cell_type": "code",
   "execution_count": null,
   "id": "413f5133",
   "metadata": {},
   "outputs": [],
   "source": [
    "\n",
    "# Output directory\n",
    "os.makedirs(\"poscars\", exist_ok=True)\n",
    "\n",
    "# Assumed calibration: 1 pixel = 1 Å (adjust if needed)\n",
    "pixel_size = 1.0\n",
    "num_frames, nx, ny, _ = STEM_real.shape\n",
    "\n",
    "for i in range(num_frames):\n",
    "    atoms_all = []\n",
    "    positions = []\n",
    "\n",
    "    lattice_coord_ = lattice_coord[i]\n",
    "    coord_Si = lattice_coord_[np.where(lattice_coord_[:, 2] == 1)][:, :2]\n",
    "    coord_C  = lattice_coord_[np.where(lattice_coord_[:, 2] == 0)][:, :2]\n",
    "\n",
    "    for coord in coord_C:\n",
    "        atoms_all.append(\"C\")\n",
    "        positions.append([coord[1], coord[0], 0.0])\n",
    "\n",
    "    for coord in coord_Si:\n",
    "        atoms_all.append(\"Si\")\n",
    "        positions.append([coord[1], coord[0], 0.0])\n",
    "\n",
    "    atoms = Atoms(symbols=atoms_all, positions=positions)\n",
    "    atoms.set_cell([\n",
    "        [ny * pixel_size, 0, 0],\n",
    "        [0, nx * pixel_size, 0],\n",
    "        [0, 0, 10.0]\n",
    "    ])\n",
    "    atoms.set_pbc([True, True, False])\n",
    "\n",
    "    fname = f\"poscars/C_Si_{i:02d}.POSCAR\"\n",
    "    write(fname, atoms, format=\"vasp\")"
   ]
  },
  {
   "cell_type": "markdown",
   "id": "58eee633",
   "metadata": {},
   "source": [
    "## Lets visualize all the poscars\n",
    "    - C atom are in grey\n",
    "    - The Si atoms are in red\n",
    "\n",
    "![graphene with Si dopants](../../assests/C_Si.gif)"
   ]
  },
  {
   "cell_type": "markdown",
   "id": "226041df",
   "metadata": {},
   "source": [
    "## validating the POSCAR"
   ]
  },
  {
   "cell_type": "code",
   "execution_count": null,
   "id": "bac4f020",
   "metadata": {},
   "outputs": [],
   "source": [
    "from ase.io import read\n",
    "import os\n",
    "\n",
    "folder = \"poscars\"\n",
    "files = sorted([f for f in os.listdir(folder) if f.endswith(\".POSCAR\")])\n",
    "\n",
    "for fname in files:\n",
    "    path = os.path.join(folder, fname)\n",
    "    try:\n",
    "        atoms = read(path, format=\"vasp\")\n",
    "        print(f\"{fname}: {len(atoms)} atoms, cell={atoms.cell.lengths()}\")\n",
    "    except Exception as e:\n",
    "        print(f\"ERROR in {fname}: {e}\")\n"
   ]
  },
  {
   "cell_type": "code",
   "execution_count": null,
   "id": "967cf1ce",
   "metadata": {},
   "outputs": [],
   "source": [
    "from ase.visualize import view\n",
    "\n",
    "atoms = read(\"poscars/C_Si_00.POSCAR\", format=\"vasp\")\n",
    "view(atoms)  # launches ASE GUI\n"
   ]
  },
  {
   "cell_type": "code",
   "execution_count": null,
   "id": "48454a19",
   "metadata": {},
   "outputs": [],
   "source": [
    "atoms = read(\"poscars/C_Si_00.POSCAR\")\n",
    "print(\"Chemical symbols:\", atoms.get_chemical_symbols())\n",
    "print(\"Cell lengths:\", atoms.cell.lengths())\n",
    "print(\"Is PBC:\", atoms.get_pbc())\n"
   ]
  },
  {
   "cell_type": "markdown",
   "id": "6f38579f",
   "metadata": {},
   "source": [
    "## Sending to Mat3RA servers"
   ]
  },
  {
   "cell_type": "code",
   "execution_count": null,
   "id": "f5aecd61",
   "metadata": {},
   "outputs": [],
   "source": [
    "import yaml\n",
    "\n",
    "# Load the YAML file\n",
    "with open(\"credential.yaml\", \"r\") as f:\n",
    "    cred = yaml.safe_load(f)\n",
    "\n",
    "ACCOUNT_ID = cred[\"accountId\"]\n",
    "AUTH_TOKEN = cred[\"authToken\"] # @param {type:\"string\"}\n",
    "# # MATERIALS_PROJECT_API_KEY = cred[\"materials-project-apikey\"] # @param {type:\"string\"}\n",
    "ORGANIZATION_ID = ACCOUNT_ID \n",
    "OWNER_ID = os.getenv(\"ORGANIZATION_ID\") or ACCOUNT_ID"
   ]
  },
  {
   "cell_type": "code",
   "execution_count": null,
   "id": "83390512",
   "metadata": {},
   "outputs": [],
   "source": [
    "import sys\n",
    "import os\n",
    "sys.path.append(\"/Users/utkarshpratiush/project/api-examples/\")"
   ]
  },
  {
   "cell_type": "code",
   "execution_count": null,
   "id": "993f1516",
   "metadata": {},
   "outputs": [],
   "source": [
    "from utils.settings import ENDPOINT_ARGS, ACCOUNT_ID\n",
    "from utils.generic import display_JSON\n",
    "\n",
    "from exabyte_api_client.endpoints.materials import MaterialEndpoints"
   ]
  },
  {
   "cell_type": "code",
   "execution_count": null,
   "id": "576a1597",
   "metadata": {},
   "outputs": [],
   "source": [
    "ENDPOINT_ARGS = cred[\"endpointArgs\"]"
   ]
  },
  {
   "cell_type": "code",
   "execution_count": null,
   "id": "54aca0a1",
   "metadata": {},
   "outputs": [],
   "source": [
    "endpoint = MaterialEndpoints(*ENDPOINT_ARGS)"
   ]
  },
  {
   "cell_type": "code",
   "execution_count": null,
   "id": "1335d00f",
   "metadata": {},
   "outputs": [],
   "source": [
    "import os\n",
    "\n",
    "# Directory containing POSCAR files\n",
    "POSCAR_DIR = \"poscars\"\n",
    "\n",
    "# Get all POSCAR files in the directory\n",
    "poscar_files = [f for f in os.listdir(POSCAR_DIR) if f.endswith(\".POSCAR\")]\n",
    "print(f\"Found {len(poscar_files)} POSCAR files in {POSCAR_DIR}\")"
   ]
  },
  {
   "cell_type": "code",
   "execution_count": null,
   "id": "0e2cb197",
   "metadata": {},
   "outputs": [],
   "source": [
    "def upload_poscar(filepath, name):\n",
    "    \"\"\"Upload a single POSCAR file to Mat3ra server\"\"\"\n",
    "    try:\n",
    "        with open(filepath) as f:\n",
    "            content = f.read()\n",
    "        material = endpoint.import_from_file(name, content, owner_id=OWNER_ID)\n",
    "        return material\n",
    "    except Exception as e:\n",
    "        print(f\"Error uploading {filepath}: {str(e)}\")\n",
    "        return None"
   ]
  },
  {
   "cell_type": "code",
   "execution_count": null,
   "id": "af7528dc",
   "metadata": {},
   "outputs": [],
   "source": [
    "# Process all POSCAR files\n",
    "uploaded_materials = []\n",
    "\n",
    "for poscar_file in poscar_files:\n",
    "    print(f\"Processing {poscar_file}...\")\n",
    "    # Extract name from filename (remove .POSCAR extension)\n",
    "    name = os.path.splitext(poscar_file)[0]\n",
    "    filepath = os.path.join(POSCAR_DIR, poscar_file)\n",
    "    \n",
    "    material = upload_poscar(filepath, name)\n",
    "    if material:\n",
    "        uploaded_materials.append(material)\n",
    "        print(f\"Successfully uploaded {name}\")\n",
    "\n",
    "print(f\"\\nUploaded {len(uploaded_materials)} materials to Mat3ra server\")"
   ]
  },
  {
   "cell_type": "code",
   "execution_count": null,
   "id": "f212f97a",
   "metadata": {},
   "outputs": [],
   "source": []
  }
 ],
 "metadata": {
  "kernelspec": {
   "display_name": "dmclient_2",
   "language": "python",
   "name": "python3"
  },
  "language_info": {
   "codemirror_mode": {
    "name": "ipython",
    "version": 3
   },
   "file_extension": ".py",
   "mimetype": "text/x-python",
   "name": "python",
   "nbconvert_exporter": "python",
   "pygments_lexer": "ipython3",
   "version": "3.8.17"
  }
 },
 "nbformat": 4,
 "nbformat_minor": 5
}
