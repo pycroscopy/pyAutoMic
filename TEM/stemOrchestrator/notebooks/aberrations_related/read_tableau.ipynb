{
 "cells": [
  {
   "cell_type": "markdown",
   "id": "686a3a86",
   "metadata": {},
   "source": [
    "## Read aberrations - Run tableau\n",
    "\n",
    "#### Contributor(s): Utkarsh Pratiush <utkarshp1161@gmail.com> - 6th May 2025\n",
    "#### edited - \n",
    "   "
   ]
  },
  {
   "cell_type": "code",
   "execution_count": null,
   "id": "2b8d5ddb",
   "metadata": {},
   "outputs": [],
   "source": [
    "from stemOrchestrator.logging_config   import setup_logging\n",
    "import logging\n",
    "out_path = \".\"\n",
    "setup_logging(out_path=out_path)\n"
   ]
  },
  {
   "cell_type": "code",
   "execution_count": null,
   "id": "0cec3270",
   "metadata": {},
   "outputs": [],
   "source": [
    "import os\n",
    "import json\n",
    "from pathlib import Path\n",
    "\n",
    "# Initialize to None\n",
    "ip = os.getenv(\"MICROSCOPE_IP\")\n",
    "port = os.getenv(\"MICROSCOPE_PORT\")\n",
    "\n",
    "\n",
    "if not ip or not port:\n",
    "    secret_path = Path(\"../../config_secret.json\")\n",
    "    if secret_path.exists():\n",
    "        with open(secret_path, \"r\") as f:\n",
    "            secret = json.load(f)\n",
    "            ip = ip or secret.get(\"ip_CEOS_sim\")\n",
    "            port = port or secret.get(\"port_CEOS_sim\")\n",
    "\n",
    "\n",
    "if not ip:\n",
    "    ip = input(\"Enter microscope IP: \")\n",
    "if not port:\n",
    "    port = input(\"Enter microscope Port: \")\n",
    "\n",
    "try:\n",
    "    port = int(port)\n",
    "except ValueError:\n",
    "    raise ValueError(\"Port must be an integer\")\n"
   ]
  },
  {
   "cell_type": "code",
   "execution_count": null,
   "id": "67564ae2",
   "metadata": {},
   "outputs": [],
   "source": [
    "from stemOrchestrator.acquisition import CEOSacquisition\n",
    "ceos_acquisition = CEOSacquisition(host=ip, port=port)\n",
    "tableau_result = ceos_acquisition.run_tableau(tab_type=\"Standard\", angle=18)"
   ]
  },
  {
   "cell_type": "code",
   "execution_count": null,
   "id": "6c17cab3",
   "metadata": {},
   "outputs": [],
   "source": []
  }
 ],
 "metadata": {
  "kernelspec": {
   "display_name": "dmclient_2",
   "language": "python",
   "name": "python3"
  },
  "language_info": {
   "codemirror_mode": {
    "name": "ipython",
    "version": 3
   },
   "file_extension": ".py",
   "mimetype": "text/x-python",
   "name": "python",
   "nbconvert_exporter": "python",
   "pygments_lexer": "ipython3",
   "version": "3.8.17"
  }
 },
 "nbformat": 4,
 "nbformat_minor": 5
}
