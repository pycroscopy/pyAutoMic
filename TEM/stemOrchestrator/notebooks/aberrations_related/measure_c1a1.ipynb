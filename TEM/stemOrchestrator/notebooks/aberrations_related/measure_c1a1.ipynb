{
 "cells": [
  {
   "cell_type": "markdown",
   "id": "63c7c0fd",
   "metadata": {},
   "source": [
    "## Measure C1A1\n",
    "\n",
    "#### Contributor(s): Utkarsh Pratiush <utkarshp1161@gmail.com> - 6th May 2025\n",
    "#### edited - \n",
    "   "
   ]
  },
  {
   "cell_type": "code",
   "execution_count": 4,
   "id": "4bf62ce9",
   "metadata": {},
   "outputs": [],
   "source": [
    "from stemOrchestrator.logging_config   import setup_logging\n",
    "import logging\n",
    "out_path = \".\"\n",
    "setup_logging(out_path=out_path)\n"
   ]
  },
  {
   "cell_type": "code",
   "execution_count": 7,
   "id": "a7d84f6a",
   "metadata": {},
   "outputs": [],
   "source": [
    "import os\n",
    "import json\n",
    "from pathlib import Path\n",
    "\n",
    "# Initialize to None\n",
    "ip = os.getenv(\"MICROSCOPE_IP\")\n",
    "port = os.getenv(\"MICROSCOPE_PORT\")\n",
    "\n",
    "\n",
    "if not ip or not port:\n",
    "    secret_path = Path(\"../../config_secret.json\")\n",
    "    if secret_path.exists():\n",
    "        with open(secret_path, \"r\") as f:\n",
    "            secret = json.load(f)\n",
    "            ip = ip or secret.get(\"ip_CEOS\")\n",
    "            port = port or secret.get(\"port_CEOS\")\n",
    "\n",
    "\n",
    "if not ip:\n",
    "    ip = input(\"Enter microscope IP: \")\n",
    "if not port:\n",
    "    port = input(\"Enter microscope Port: \")\n",
    "\n",
    "try:\n",
    "    port = int(port)\n",
    "except ValueError:\n",
    "    raise ValueError(\"Port must be an integer\")\n"
   ]
  },
  {
   "cell_type": "code",
   "execution_count": null,
   "id": "47095a02",
   "metadata": {},
   "outputs": [
    {
     "ename": "RuntimeError",
     "evalue": "RPC Error: {'code': -32000, 'message': 'Server error', 'data': {'type': \"<class 'Exception'>\", 'message': 'Protocol error. Invalid arguments for command. Error in data block 3: Expected 2 values, but found 1. '}}",
     "output_type": "error",
     "traceback": [
      "\u001b[0;31m---------------------------------------------------------------------------\u001b[0m",
      "\u001b[0;31mRuntimeError\u001b[0m                              Traceback (most recent call last)",
      "Cell \u001b[0;32mIn[8], line 5\u001b[0m\n\u001b[1;32m      2\u001b[0m ceos_acquisition \u001b[38;5;241m=\u001b[39m CEOSAcquisitionTCP(host\u001b[38;5;241m=\u001b[39mip, port\u001b[38;5;241m=\u001b[39mport)\n\u001b[1;32m      4\u001b[0m \u001b[38;5;66;03m# Measure C1A1\u001b[39;00m\n\u001b[0;32m----> 5\u001b[0m result \u001b[38;5;241m=\u001b[39m \u001b[43mceos_acquisition\u001b[49m\u001b[38;5;241;43m.\u001b[39;49m\u001b[43mmeasure_c1a1\u001b[49m\u001b[43m(\u001b[49m\u001b[43m)\u001b[49m\n\u001b[1;32m      6\u001b[0m \u001b[38;5;28mprint\u001b[39m(\u001b[38;5;124m\"\u001b[39m\u001b[38;5;124mMeasured C1A1:\u001b[39m\u001b[38;5;124m\"\u001b[39m, result)\n",
      "File \u001b[0;32m~/project/pyAutoMic/TEM/stemOrchestrator/stemOrchestrator/acquisition.py:683\u001b[0m, in \u001b[0;36mCEOSAcquisitionTCP.measure_c1a1\u001b[0;34m(self)\u001b[0m\n\u001b[1;32m    682\u001b[0m \u001b[38;5;28;01mdef\u001b[39;00m \u001b[38;5;21mmeasure_c1a1\u001b[39m(\u001b[38;5;28mself\u001b[39m):\n\u001b[0;32m--> 683\u001b[0m     \u001b[38;5;28;01mreturn\u001b[39;00m \u001b[38;5;28;43mself\u001b[39;49m\u001b[38;5;241;43m.\u001b[39;49m\u001b[43m_run_rpc\u001b[49m\u001b[43m(\u001b[49m\u001b[38;5;124;43m\"\u001b[39;49m\u001b[38;5;124;43mmeasureC1A1\u001b[39;49m\u001b[38;5;124;43m\"\u001b[39;49m\u001b[43m,\u001b[49m\u001b[43m \u001b[49m\u001b[43m{\u001b[49m\u001b[43m}\u001b[49m\u001b[43m)\u001b[49m\n",
      "File \u001b[0;32m~/project/pyAutoMic/TEM/stemOrchestrator/stemOrchestrator/acquisition.py:666\u001b[0m, in \u001b[0;36mCEOSAcquisitionTCP._run_rpc\u001b[0;34m(self, method, params)\u001b[0m\n\u001b[1;32m    664\u001b[0m reply \u001b[38;5;241m=\u001b[39m \u001b[38;5;28mself\u001b[39m\u001b[38;5;241m.\u001b[39m_send_recv(msg)\n\u001b[1;32m    665\u001b[0m \u001b[38;5;28;01mif\u001b[39;00m \u001b[38;5;124m\"\u001b[39m\u001b[38;5;124merror\u001b[39m\u001b[38;5;124m\"\u001b[39m \u001b[38;5;129;01min\u001b[39;00m reply:\n\u001b[0;32m--> 666\u001b[0m     \u001b[38;5;28;01mraise\u001b[39;00m \u001b[38;5;167;01mRuntimeError\u001b[39;00m(\u001b[38;5;124mf\u001b[39m\u001b[38;5;124m\"\u001b[39m\u001b[38;5;124mRPC Error: \u001b[39m\u001b[38;5;132;01m{\u001b[39;00mreply[\u001b[38;5;124m'\u001b[39m\u001b[38;5;124merror\u001b[39m\u001b[38;5;124m'\u001b[39m]\u001b[38;5;132;01m}\u001b[39;00m\u001b[38;5;124m\"\u001b[39m)\n\u001b[1;32m    667\u001b[0m \u001b[38;5;28;01mreturn\u001b[39;00m reply\u001b[38;5;241m.\u001b[39mget(\u001b[38;5;124m\"\u001b[39m\u001b[38;5;124mresult\u001b[39m\u001b[38;5;124m\"\u001b[39m, {})\n",
      "\u001b[0;31mRuntimeError\u001b[0m: RPC Error: {'code': -32000, 'message': 'Server error', 'data': {'type': \"<class 'Exception'>\", 'message': 'Protocol error. Invalid arguments for command. Error in data block 3: Expected 2 values, but found 1. '}}"
     ]
    }
   ],
   "source": [
    "from stemOrchestrator.acquisition import CEOSacquisitionTCP\n",
    "ceos_acquisition = CEOSacquisitionTCP(host=ip, port=port)\n",
    "\n",
    "# Measure C1A1\n",
    "result = ceos_acquisition.measure_c1a1()\n",
    "print(\"Measured C1A1:\", result)"
   ]
  },
  {
   "cell_type": "code",
   "execution_count": null,
   "id": "fb5a0860",
   "metadata": {},
   "outputs": [],
   "source": []
  }
 ],
 "metadata": {
  "kernelspec": {
   "display_name": "dmclient_2",
   "language": "python",
   "name": "python3"
  },
  "language_info": {
   "codemirror_mode": {
    "name": "ipython",
    "version": 3
   },
   "file_extension": ".py",
   "mimetype": "text/x-python",
   "name": "python",
   "nbconvert_exporter": "python",
   "pygments_lexer": "ipython3",
   "version": "3.8.17"
  }
 },
 "nbformat": 4,
 "nbformat_minor": 5
}
