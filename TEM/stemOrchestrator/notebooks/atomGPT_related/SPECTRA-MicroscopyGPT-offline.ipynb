{
 "cells": [
  {
   "cell_type": "code",
   "execution_count": 1,
   "id": "7aa5daa0-9c5e-4e13-8fa6-6fd7840e9866",
   "metadata": {},
   "outputs": [],
   "source": [
    "import sys\n",
    "sys.path.append(\"/nfs/home/upratius/scratch_i24/projects/pyAutoMic/TEM/stemOrchestrator/notebooks/atomGPT_related/AS-1.14/\")\n",
    "sys.path.append(\"/nfs/home/upratius/scratch_i24/projects/pyAutoMic/TEM/stemOrchestrator/\")\n",
    "\n",
    "# %%time\n",
    "# import os\n",
    "# os.chdir('/content')\n",
    "# !rm -rf Software\n",
    "# os.makedirs('/content/Software')\n",
    "# os.chdir('/content/Software')\n",
    "# !pip install uv\n",
    "# if not os.path.exists('atomgpt'):\n",
    "#   !rm -rf atomgpt\n",
    "#   !git clone https://github.com/atomgptlab/atomgpt.git\n",
    "#   os.chdir('atomgpt')\n",
    "#   !uv pip install -q -e .\n",
    "\n",
    "import yaml\n",
    "\n",
    "# Load the YAML file\n",
    "with open(\"credential.yaml\", \"r\") as f:\n",
    "    cred = yaml.safe_load(f)\n",
    "\n",
    "api_key = cred[\"atomGPT-api-key\"]\n",
    "\n",
    "# Check imports\n",
    "import sys\n",
    "sys.path.append(\"atomgpt/\")\n",
    "import atomgpt\n",
    "import os\n",
    "os.environ.pop('MPLBACKEND', None)  # Remove the invalid backend\n",
    "import matplotlib\n",
    "matplotlib.use('Agg')  # Use a compatible backend\n",
    "import matplotlib.pyplot as plt\n",
    "os.chdir('atomgpt')\n"
   ]
  },
  {
   "cell_type": "code",
   "execution_count": 2,
   "id": "59479d92-f1a3-4354-a1f3-464fa63ac4ac",
   "metadata": {},
   "outputs": [],
   "source": [
    "from stemOrchestrator.logging_config   import setup_logging\n",
    "data_folder  = \".\"\n",
    "out_path = data_folder\n",
    "setup_logging(out_path=out_path) "
   ]
  },
  {
   "cell_type": "code",
   "execution_count": 3,
   "id": "231d7d90-45ec-4339-8e59-1424879e8830",
   "metadata": {},
   "outputs": [],
   "source": [
    "from stemOrchestrator.acquisition import TFacquisition, DMacquisition\n",
    "from stemOrchestrator.simulation import DMtwin\n",
    "from stemOrchestrator.process import HAADF_tiff_to_png, tiff_to_png\n",
    "from autoscript_tem_microscope_client import TemMicroscopeClient\n",
    "import matplotlib.pyplot as plt\n",
    "import logging\n",
    "plot = plt\n",
    "from typing import Dict"
   ]
  },
  {
   "cell_type": "code",
   "execution_count": 4,
   "id": "b046c71a-794e-43c6-aa49-ca66be0d866c",
   "metadata": {},
   "outputs": [],
   "source": [
    "import os\n",
    "import json\n",
    "from pathlib import Path\n",
    "\n",
    "ip = os.getenv(\"MICROSCOPE_IP\")\n",
    "port = os.getenv(\"MICROSCOPE_PORT\")\n",
    "\n",
    "if not ip or not port:\n",
    "    secret_path = Path(\"/nfs/home/upratius/scratch_i24/projects/pyAutoMic/TEM/stemOrchestrator/config_secret.json\")\n",
    "    if secret_path.exists():\n",
    "        with open(secret_path, \"r\") as f:\n",
    "            secret = json.load(f)\n",
    "            ip = ip or secret.get(\"ip_TF\")\n",
    "            port = port or secret.get(\"port_TF\")\n",
    "\n",
    "\n",
    "\n",
    "config = {\n",
    "    \"ip\": ip,\n",
    "    \"port\": port,\n",
    "    \"haadf_exposure\": 40e-8,  # micro-seconds per pixel\n",
    "    \"haadf_resolution\": 512, # square\n",
    "    \"out_path\": \".\"\n",
    "}"
   ]
  },
  {
   "cell_type": "code",
   "execution_count": 14,
   "id": "90e4ea16-d0ab-4a55-af0f-8f7e1cae88c7",
   "metadata": {},
   "outputs": [
    {
     "name": "stdout",
     "output_type": "stream",
     "text": [
      "Client connecting to [10.46.217.241:9095]...\n",
      "Client connected to [10.46.217.241:9095]\n",
      "2025-10-10 19:10:26,103 - INFO - Starting microscope initialization...\n"
     ]
    },
    {
     "ename": "KeyboardInterrupt",
     "evalue": "",
     "output_type": "error",
     "traceback": [
      "\u001b[0;31m---------------------------------------------------------------------------\u001b[0m",
      "\u001b[0;31mKeyboardInterrupt\u001b[0m                         Traceback (most recent call last)",
      "Cell \u001b[0;32mIn[14], line 15\u001b[0m\n\u001b[1;32m     10\u001b[0m microscope\u001b[38;5;241m.\u001b[39mconnect(ip, port \u001b[38;5;241m=\u001b[39m port)\u001b[38;5;66;03m# 7521 on velox  computer\u001b[39;00m\n\u001b[1;32m     11\u001b[0m \u001b[38;5;66;03m# microscope.connect( port = port)# 7521 on velox  computer\u001b[39;00m\n\u001b[1;32m     12\u001b[0m \n\u001b[1;32m     13\u001b[0m \u001b[38;5;66;03m# query state:\u001b[39;00m\n\u001b[0;32m---> 15\u001b[0m tf_acquisition \u001b[38;5;241m=\u001b[39m \u001b[43mTFacquisition\u001b[49m\u001b[43m(\u001b[49m\u001b[43mmicroscope\u001b[49m\u001b[38;5;241;43m=\u001b[39;49m\u001b[43mmicroscope\u001b[49m\u001b[43m)\u001b[49m\n\u001b[1;32m     17\u001b[0m \u001b[38;5;66;03m# put beam shift to 0,0\u001b[39;00m\n\u001b[1;32m     18\u001b[0m \u001b[38;5;66;03m# tf_acquisition.move_beam_shift_positon([0, 0])\u001b[39;00m\n",
      "File \u001b[0;32m~/scratch_i24/projects/pyAutoMic/TEM/stemOrchestrator/stemOrchestrator/acquisition.py:36\u001b[0m, in \u001b[0;36mTFacquisition.__init__\u001b[0;34m(self, microscope, offline)\u001b[0m\n\u001b[1;32m     32\u001b[0m \u001b[38;5;28mself\u001b[39m\u001b[38;5;241m.\u001b[39mmicroscope \u001b[38;5;241m=\u001b[39m microscope\n\u001b[1;32m     35\u001b[0m \u001b[38;5;28;01mtry\u001b[39;00m:\n\u001b[0;32m---> 36\u001b[0m     \u001b[38;5;28mself\u001b[39m\u001b[38;5;241m.\u001b[39mceta_cam \u001b[38;5;241m=\u001b[39m \u001b[38;5;28;43mself\u001b[39;49m\u001b[38;5;241;43m.\u001b[39;49m\u001b[43mmicroscope\u001b[49m\u001b[38;5;241;43m.\u001b[39;49m\u001b[43mdetectors\u001b[49m\u001b[38;5;241;43m.\u001b[39;49m\u001b[43mget_camera_detector\u001b[49m\u001b[43m(\u001b[49m\u001b[43mCameraType\u001b[49m\u001b[38;5;241;43m.\u001b[39;49m\u001b[43mBM_CETA\u001b[49m\u001b[43m)\u001b[49m\n\u001b[1;32m     37\u001b[0m     logging\u001b[38;5;241m.\u001b[39minfo(\u001b[38;5;124m\"\u001b[39m\u001b[38;5;124mCETA camera initialized\u001b[39m\u001b[38;5;124m\"\u001b[39m)\n\u001b[1;32m     38\u001b[0m     \u001b[38;5;28mself\u001b[39m\u001b[38;5;241m.\u001b[39mhaadf_det \u001b[38;5;241m=\u001b[39m \u001b[38;5;28mself\u001b[39m\u001b[38;5;241m.\u001b[39mmicroscope\u001b[38;5;241m.\u001b[39mdetectors\u001b[38;5;241m.\u001b[39mget_scanning_detector(DetectorType\u001b[38;5;241m.\u001b[39mHAADF)\n",
      "File \u001b[0;32m~/scratch_i24/projects/pyAutoMic/TEM/stemOrchestrator/notebooks/atomGPT_related/AS-1.14/autoscript_tem_microscope_client/tem_microscope/_detectors.py:66\u001b[0m, in \u001b[0;36mDetectors.get_camera_detector\u001b[0;34m(self, detector_name)\u001b[0m\n\u001b[1;32m     64\u001b[0m \u001b[38;5;28;01mif\u001b[39;00m \u001b[38;5;28misinstance\u001b[39m(detector_name, \u001b[38;5;28mstr\u001b[39m):\n\u001b[1;32m     65\u001b[0m     call_request\u001b[38;5;241m.\u001b[39mparameters\u001b[38;5;241m.\u001b[39mvalues \u001b[38;5;241m=\u001b[39m [detector_name]\n\u001b[0;32m---> 66\u001b[0m     call_response \u001b[38;5;241m=\u001b[39m \u001b[38;5;28;43mself\u001b[39;49m\u001b[38;5;241;43m.\u001b[39;49m\u001b[43m__application_client\u001b[49m\u001b[38;5;241;43m.\u001b[39;49m\u001b[43m_perform_call\u001b[49m\u001b[43m(\u001b[49m\u001b[43mcall_request\u001b[49m\u001b[43m)\u001b[49m\n\u001b[1;32m     67\u001b[0m \u001b[38;5;28;01melse\u001b[39;00m:\n\u001b[1;32m     68\u001b[0m     \u001b[38;5;28;01mraise\u001b[39;00m \u001b[38;5;167;01mTypeError\u001b[39;00m(\u001b[38;5;124m\"\u001b[39m\u001b[38;5;124mCannot execute method with the given parameters combination. Read the documentation for details of how to call this method.\u001b[39m\u001b[38;5;124m\"\u001b[39m)\n",
      "File \u001b[0;32m~/scratch_i24/projects/pyAutoMic/TEM/stemOrchestrator/notebooks/atomGPT_related/AS-1.14/autoscript_tem_microscope_client/tem_microscope_client.py:242\u001b[0m, in \u001b[0;36mTemMicroscopeClient._perform_call\u001b[0;34m(self, call_request)\u001b[0m\n\u001b[1;32m    239\u001b[0m     \u001b[38;5;28;01mraise\u001b[39;00m MarshallingException()\n\u001b[1;32m    241\u001b[0m \u001b[38;5;28;01mtry\u001b[39;00m:\n\u001b[0;32m--> 242\u001b[0m     call_response \u001b[38;5;241m=\u001b[39m \u001b[38;5;28;43mself\u001b[39;49m\u001b[38;5;241;43m.\u001b[39;49m\u001b[43m__endpoint\u001b[49m\u001b[38;5;241;43m.\u001b[39;49m\u001b[43mperform_call\u001b[49m\u001b[43m(\u001b[49m\u001b[43mcall_request\u001b[49m\u001b[43m)\u001b[49m\n\u001b[1;32m    243\u001b[0m \u001b[38;5;28;01mexcept\u001b[39;00m ApiException \u001b[38;5;28;01mas\u001b[39;00m api_exception:\n\u001b[1;32m    244\u001b[0m     ApplicationClientLoggingHelper\u001b[38;5;241m.\u001b[39mlog_call_error(call_request\u001b[38;5;241m.\u001b[39mwide_call_id, api_exception)\n",
      "File \u001b[0;32m~/scratch_i24/projects/pyAutoMic/TEM/stemOrchestrator/notebooks/atomGPT_related/AS-1.14/autoscript_core/orc/engines.py:197\u001b[0m, in \u001b[0;36mClientEndpoint.perform_call\u001b[0;34m(self, call_request)\u001b[0m\n\u001b[1;32m    194\u001b[0m \u001b[38;5;28mself\u001b[39m\u001b[38;5;241m.\u001b[39m__issue_call_request(call_request)\n\u001b[1;32m    196\u001b[0m \u001b[38;5;66;03m# Wait for a corresponding call response, throwing an exception when an unrecoverable error occurs\u001b[39;00m\n\u001b[0;32m--> 197\u001b[0m call_response \u001b[38;5;241m=\u001b[39m \u001b[38;5;28;43mself\u001b[39;49m\u001b[38;5;241;43m.\u001b[39;49m\u001b[43m__wait_for_call_response\u001b[49m\u001b[43m(\u001b[49m\u001b[43mcall_request\u001b[49m\u001b[43m)\u001b[49m\n\u001b[1;32m    199\u001b[0m \u001b[38;5;66;03m# Throw an exception when call response was received properly, but the call was not successful\u001b[39;00m\n\u001b[1;32m    200\u001b[0m \u001b[38;5;28;01mif\u001b[39;00m \u001b[38;5;129;01mnot\u001b[39;00m call_response\u001b[38;5;241m.\u001b[39mwas_call_successful:\n",
      "File \u001b[0;32m~/scratch_i24/projects/pyAutoMic/TEM/stemOrchestrator/notebooks/atomGPT_related/AS-1.14/autoscript_core/orc/engines.py:529\u001b[0m, in \u001b[0;36mClientEndpoint.__wait_for_call_response\u001b[0;34m(self, call_request)\u001b[0m\n\u001b[1;32m    515\u001b[0m \u001b[38;5;250m\u001b[39m\u001b[38;5;124;03m\"\"\"\u001b[39;00m\n\u001b[1;32m    516\u001b[0m \u001b[38;5;124;03mWaits for proper response to the given call request.\u001b[39;00m\n\u001b[1;32m    517\u001b[0m \n\u001b[0;32m   (...)\u001b[0m\n\u001b[1;32m    525\u001b[0m \u001b[38;5;124;03m:raises ApiException: Raised when an unrecoverable error occurs and proper call response can not be provided.\u001b[39;00m\n\u001b[1;32m    526\u001b[0m \u001b[38;5;124;03m\"\"\"\u001b[39;00m\n\u001b[1;32m    528\u001b[0m \u001b[38;5;28;01mwhile\u001b[39;00m \u001b[38;5;28;01mTrue\u001b[39;00m:\n\u001b[0;32m--> 529\u001b[0m     message \u001b[38;5;241m=\u001b[39m \u001b[38;5;28;43mself\u001b[39;49m\u001b[38;5;241;43m.\u001b[39;49m\u001b[43m__receive_message_directly\u001b[49m\u001b[43m(\u001b[49m\u001b[38;5;28;43mself\u001b[39;49m\u001b[38;5;241;43m.\u001b[39;49m\u001b[43m__socket\u001b[49m\u001b[43m)\u001b[49m\n\u001b[1;32m    531\u001b[0m     \u001b[38;5;28;01mif\u001b[39;00m message\u001b[38;5;241m.\u001b[39mtype \u001b[38;5;241m==\u001b[39m MessageType\u001b[38;5;241m.\u001b[39mCALL_RESULT \u001b[38;5;129;01mor\u001b[39;00m message\u001b[38;5;241m.\u001b[39mtype \u001b[38;5;241m==\u001b[39m MessageType\u001b[38;5;241m.\u001b[39mCALL_ERROR:\n\u001b[1;32m    532\u001b[0m         \u001b[38;5;28;01mtry\u001b[39;00m:\n",
      "File \u001b[0;32m~/scratch_i24/projects/pyAutoMic/TEM/stemOrchestrator/notebooks/atomGPT_related/AS-1.14/autoscript_core/orc/engines.py:479\u001b[0m, in \u001b[0;36mClientEndpoint.__receive_message_directly\u001b[0;34m(self, socket)\u001b[0m\n\u001b[1;32m    469\u001b[0m \u001b[38;5;28;01mdef\u001b[39;00m\u001b[38;5;250m \u001b[39m\u001b[38;5;21m__receive_message_directly\u001b[39m(\u001b[38;5;28mself\u001b[39m, socket: FrameSocket):\n\u001b[1;32m    470\u001b[0m \u001b[38;5;250m    \u001b[39m\u001b[38;5;124;03m\"\"\"\u001b[39;00m\n\u001b[1;32m    471\u001b[0m \u001b[38;5;124;03m    Receives message directly from the given socket. The method blocks if there is no message available.\u001b[39;00m\n\u001b[1;32m    472\u001b[0m \n\u001b[0;32m   (...)\u001b[0m\n\u001b[1;32m    476\u001b[0m \u001b[38;5;124;03m    :raises MessageSerializationException: Thrown when message deserialization fails upon receiving data.\u001b[39;00m\n\u001b[1;32m    477\u001b[0m \u001b[38;5;124;03m    \"\"\"\u001b[39;00m\n\u001b[0;32m--> 479\u001b[0m     frame \u001b[38;5;241m=\u001b[39m \u001b[43msocket\u001b[49m\u001b[38;5;241;43m.\u001b[39;49m\u001b[43mreceive_frame\u001b[49m\u001b[43m(\u001b[49m\u001b[43m)\u001b[49m\n\u001b[1;32m    480\u001b[0m     message \u001b[38;5;241m=\u001b[39m MessageDeserializer\u001b[38;5;241m.\u001b[39mdeserialize_message(frame\u001b[38;5;241m.\u001b[39mcontent)\n\u001b[1;32m    481\u001b[0m     \u001b[38;5;28;01mreturn\u001b[39;00m message\n",
      "File \u001b[0;32m~/scratch_i24/projects/pyAutoMic/TEM/stemOrchestrator/notebooks/atomGPT_related/AS-1.14/autoscript_core/framed_transport.py:100\u001b[0m, in \u001b[0;36mFrameSocket.receive_frame\u001b[0;34m(self)\u001b[0m\n\u001b[1;32m     98\u001b[0m \u001b[38;5;28;01mtry\u001b[39;00m:\n\u001b[1;32m     99\u001b[0m     \u001b[38;5;28;01mwhile\u001b[39;00m \u001b[38;5;28;01mTrue\u001b[39;00m:\n\u001b[0;32m--> 100\u001b[0m         frame \u001b[38;5;241m=\u001b[39m \u001b[38;5;28;43mself\u001b[39;49m\u001b[38;5;241;43m.\u001b[39;49m\u001b[43m_receive_frame_synchronously\u001b[49m\u001b[43m(\u001b[49m\u001b[43m)\u001b[49m\n\u001b[1;32m    101\u001b[0m         \u001b[38;5;28;01mif\u001b[39;00m frame\u001b[38;5;241m.\u001b[39mtype \u001b[38;5;241m==\u001b[39m FrameType\u001b[38;5;241m.\u001b[39mDATA:\n\u001b[1;32m    102\u001b[0m             \u001b[38;5;28;01mbreak\u001b[39;00m\n",
      "File \u001b[0;32m~/scratch_i24/projects/pyAutoMic/TEM/stemOrchestrator/notebooks/atomGPT_related/AS-1.14/autoscript_core/framed_transport.py:139\u001b[0m, in \u001b[0;36mFrameSocket._receive_frame_synchronously\u001b[0;34m(self)\u001b[0m\n\u001b[1;32m    132\u001b[0m \u001b[38;5;250m\u001b[39m\u001b[38;5;124;03m\"\"\"\u001b[39;00m\n\u001b[1;32m    133\u001b[0m \u001b[38;5;124;03mReceives frame from the other side of the connection synchronously.\u001b[39;00m\n\u001b[1;32m    134\u001b[0m \n\u001b[1;32m    135\u001b[0m \u001b[38;5;124;03m:raises TcpStreamIoException: Thrown when an error occurs when reading data from TCP stream.\u001b[39;00m\n\u001b[1;32m    136\u001b[0m \u001b[38;5;124;03m:raises FrameProcessingException: Thrown when frame processing fails on byte semantics level.\u001b[39;00m\n\u001b[1;32m    137\u001b[0m \u001b[38;5;124;03m\"\"\"\u001b[39;00m\n\u001b[1;32m    138\u001b[0m \u001b[38;5;28;01mtry\u001b[39;00m:\n\u001b[0;32m--> 139\u001b[0m     header_bytes \u001b[38;5;241m=\u001b[39m \u001b[38;5;28;43mself\u001b[39;49m\u001b[38;5;241;43m.\u001b[39;49m\u001b[43m_tcp_socket\u001b[49m\u001b[38;5;241;43m.\u001b[39;49m\u001b[43mrecv\u001b[49m\u001b[43m(\u001b[49m\u001b[43mFrame\u001b[49m\u001b[38;5;241;43m.\u001b[39;49m\u001b[43mHEADER_LENGTH\u001b[49m\u001b[43m)\u001b[49m\n\u001b[1;32m    140\u001b[0m \u001b[38;5;28;01mexcept\u001b[39;00m \u001b[38;5;167;01mException\u001b[39;00m \u001b[38;5;28;01mas\u001b[39;00m ex:\n\u001b[1;32m    141\u001b[0m     \u001b[38;5;28;01mraise\u001b[39;00m TcpStreamIoException(\u001b[38;5;124m\"\u001b[39m\u001b[38;5;124mAn error occurred when reading data from TCP stream.\u001b[39m\u001b[38;5;124m\"\u001b[39m, ex) \u001b[38;5;28;01mfrom\u001b[39;00m\u001b[38;5;250m \u001b[39m\u001b[38;5;21;01mex\u001b[39;00m\n",
      "\u001b[0;31mKeyboardInterrupt\u001b[0m: "
     ]
    }
   ],
   "source": [
    "# get an image - show - in cell"
   ]
  },
  {
   "cell_type": "code",
   "execution_count": null,
   "id": "b247bf8d-1e2a-4227-81b4-c9c28bf9432b",
   "metadata": {},
   "outputs": [],
   "source": []
  }
 ],
 "metadata": {
  "kernelspec": {
   "display_name": "Python 3 (ipykernel)",
   "language": "python",
   "name": "python3"
  },
  "language_info": {
   "codemirror_mode": {
    "name": "ipython",
    "version": 3
   },
   "file_extension": ".py",
   "mimetype": "text/x-python",
   "name": "python",
   "nbconvert_exporter": "python",
   "pygments_lexer": "ipython3",
   "version": "3.10.18"
  }
 },
 "nbformat": 4,
 "nbformat_minor": 5
}
