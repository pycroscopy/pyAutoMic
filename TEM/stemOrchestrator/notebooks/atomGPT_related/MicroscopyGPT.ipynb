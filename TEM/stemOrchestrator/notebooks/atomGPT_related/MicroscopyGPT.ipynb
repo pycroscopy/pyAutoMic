{
  "cells": [
    {
      "cell_type": "markdown",
      "metadata": {
        "id": "Rrv66Nvee3JF"
      },
      "source": [
        "[MicroscopyGPT: Generating Atomic-Structure Captions from Microscopy Images of 2D Materials with Vision-Language Transformers](https://pubs.acs.org/doi/10.1021/acs.jpclett.5c01257)\n",
        "\n",
        "Author email: kchoudh2@jhu.edu\n",
        "\n"
      ]
    },
    {
      "cell_type": "code",
      "execution_count": null,
      "metadata": {
        "colab": {
          "base_uri": "https://localhost:8080/"
        },
        "id": "Vuot3aAqewNg",
        "outputId": "216b2745-187b-4870-d4ae-834aecd3000c"
      },
      "outputs": [],
      "source": [
        "# !pip install -q condacolab\n",
        "# import condacolab\n",
        "# condacolab.install()"
      ]
    },
    {
      "cell_type": "code",
      "execution_count": null,
      "metadata": {
        "colab": {
          "base_uri": "https://localhost:8080/"
        },
        "id": "bZs98NJGe5mm",
        "outputId": "011da62a-e38e-4702-aa68-a946b0478eda"
      },
      "outputs": [],
      "source": [
        "# %%time\n",
        "# import os\n",
        "# os.chdir('/content')\n",
        "# !rm -rf Software\n",
        "# os.makedirs('/content/Software')\n",
        "# os.chdir('/content/Software')\n",
        "# !pip install uv\n",
        "# if not os.path.exists('atomgpt'):\n",
        "#   !rm -rf atomgpt\n",
        "#   !git clone https://github.com/atomgptlab/atomgpt.git\n",
        "#   os.chdir('atomgpt')\n",
        "#   !uv pip install -q -e .\n",
        "\n",
        "import yaml\n",
        "\n",
        "# Load the YAML file\n",
        "with open(\"credential.yaml\", \"r\") as f:\n",
        "    cred = yaml.safe_load(f)\n",
        "\n",
        "api_key = cred[\"atomGPT-api-key\"]\n"
      ]
    },
    {
      "cell_type": "code",
      "execution_count": null,
      "metadata": {
        "id": "dhYupIpue9pj"
      },
      "outputs": [],
      "source": [
        "# Check imports\n",
        "import sys\n",
        "sys.path.append(\"atomgpt/\")\n",
        "import atomgpt\n",
        "import os\n",
        "os.environ.pop('MPLBACKEND', None)  # Remove the invalid backend\n",
        "import matplotlib\n",
        "matplotlib.use('Agg')  # Use a compatible backend\n",
        "import matplotlib.pyplot as plt\n",
        "os.chdir('atomgpt')\n"
      ]
    },
    {
      "cell_type": "markdown",
      "metadata": {
        "id": "EB5D_jmYfAQy"
      },
      "source": [
        "## Pretrained model inference"
      ]
    },
    {
      "cell_type": "markdown",
      "metadata": {
        "id": "zJ2mtmjieyif"
      },
      "source": [
        "Let's try the model on FeTe (a superconducting material) STEM data."
      ]
    },
    {
      "cell_type": "code",
      "execution_count": null,
      "metadata": {
        "colab": {
          "base_uri": "https://localhost:8080/",
          "height": 313
        },
        "id": "kwJbGLwDfAmP",
        "outputId": "b0886b18-971d-42b6-b4cc-d680f1d952a8"
      },
      "outputs": [],
      "source": [
        "import matplotlib.image as mpimg\n",
        "import matplotlib.pyplot as plt\n",
        "%matplotlib inline\n",
        "from IPython.display import Image\n",
        "#Input Image of FeTe from: https://www.nature.com/articles/s41467-020-17253-x\n",
        "Image('atomgpt/examples/inverse_model_vision/FeTe.png')"
      ]
    },
    {
      "cell_type": "markdown",
      "metadata": {
        "id": "gDx0fZYMeoff"
      },
      "source": [
        "See the pred_system POSCAR file printed below. You can visualize in VESTA or similar software."
      ]
    },
    {
      "cell_type": "code",
      "execution_count": null,
      "metadata": {
        "colab": {
          "base_uri": "https://localhost:8080/"
        },
        "id": "XEv5DaTCfMnx",
        "outputId": "4bebced2-6165-481e-f64c-80f91975213b"
      },
      "outputs": [],
      "source": [
        "%%time\n",
        "!python atomgpt/inverse_models/inverse_vision_predict.py --image_path atomgpt/examples/inverse_model_vision/FeTe.png --formula FeTe"
      ]
    },
    {
      "cell_type": "markdown",
      "metadata": {
        "id": "IcDu23nkhT1l"
      },
      "source": [
        "The model generates atomic structure in the POSCAR format as shown above"
      ]
    },
    {
      "cell_type": "code",
      "execution_count": null,
      "metadata": {
        "colab": {
          "base_uri": "https://localhost:8080/",
          "height": 311
        },
        "id": "8wOhaDJde--3",
        "outputId": "56b36b36-e68a-41f2-d2d0-52ad909c06d0"
      },
      "outputs": [],
      "source": [
        "import matplotlib.image as mpimg\n",
        "import matplotlib.pyplot as plt\n",
        "%matplotlib inline\n",
        "from IPython.display import Image\n",
        "#Input Image of graphene (C)\n",
        "Image('atomgpt/examples/inverse_model_vision/C.png')"
      ]
    },
    {
      "cell_type": "markdown",
      "metadata": {
        "id": "qfQ1pcqXfHsY"
      },
      "source": [
        "Similarly lets try in graphene"
      ]
    },
    {
      "cell_type": "code",
      "execution_count": null,
      "metadata": {
        "colab": {
          "base_uri": "https://localhost:8080/"
        },
        "id": "dDxbVQ1-fFOw",
        "outputId": "930bfeb4-f428-4c33-de05-bd29cfde2ecd"
      },
      "outputs": [],
      "source": [
        "%%time\n",
        "!python atomgpt/inverse_models/inverse_vision_predict.py --image_path atomgpt/examples/inverse_model_vision/C.png --formula C"
      ]
    },
    {
      "cell_type": "markdown",
      "metadata": {
        "id": "BKUl6e2IfXI_"
      },
      "source": [
        "Now lets try it on MoS2"
      ]
    },
    {
      "cell_type": "code",
      "execution_count": null,
      "metadata": {
        "colab": {
          "base_uri": "https://localhost:8080/",
          "height": 197
        },
        "id": "n-lEsOJKfK7j",
        "outputId": "edfb31a0-bb28-47f5-ab19-ae81ec36a9e3"
      },
      "outputs": [],
      "source": [
        "import matplotlib.image as mpimg\n",
        "import matplotlib.pyplot as plt\n",
        "%matplotlib inline\n",
        "from IPython.display import Image\n",
        "#Input Image of MoS2\n",
        "Image('atomgpt/examples/inverse_model_vision/MoS2.png')"
      ]
    },
    {
      "cell_type": "code",
      "execution_count": null,
      "metadata": {
        "id": "_HyGH1hHfK4F"
      },
      "outputs": [],
      "source": []
    },
    {
      "cell_type": "code",
      "execution_count": null,
      "metadata": {
        "colab": {
          "base_uri": "https://localhost:8080/"
        },
        "id": "l2GGR85pffgK",
        "outputId": "3e2158a5-fd8a-46ef-8e8b-a8d30ac05c01"
      },
      "outputs": [],
      "source": [
        "%%time\n",
        "!python atomgpt/inverse_models/inverse_vision_predict.py --image_path atomgpt/examples/inverse_model_vision/MoS2.png --formula MoS2"
      ]
    },
    {
      "cell_type": "markdown",
      "metadata": {
        "id": "PAjTuHRWf40F"
      },
      "source": [
        "##Training example.\n",
        "\n",
        "Note you might have to restart session because of limited memory on colab."
      ]
    },
    {
      "cell_type": "markdown",
      "metadata": {
        "id": "XqTi5aFJfuet"
      },
      "source": [
        "Change dft_2d to c2db or alex_pbe_2d_all if you need larger training set as given here https://atomgptlab.github.io/jarvis-tools/databases/.\n",
        "\n",
        "Remove max_samples command to train on entire dataset"
      ]
    },
    {
      "cell_type": "code",
      "execution_count": null,
      "metadata": {
        "id": "Df4PA3LriFr3"
      },
      "outputs": [],
      "source": [
        "%%time\n",
        "!python atomgpt/inverse_models/inverse_vision.py --dataset dft_2d --max_samples 10"
      ]
    },
    {
      "cell_type": "code",
      "execution_count": null,
      "metadata": {
        "colab": {
          "base_uri": "https://localhost:8080/"
        },
        "id": "QJUY9WyMfRUW",
        "outputId": "975f3622-d759-4028-f0cf-bf1c7faa1b65"
      },
      "outputs": [],
      "source": [
        "!pip freeze"
      ]
    },
    {
      "cell_type": "code",
      "execution_count": null,
      "metadata": {
        "id": "wv7zC_RtiHmn"
      },
      "outputs": [],
      "source": []
    }
  ],
  "metadata": {
    "accelerator": "GPU",
    "colab": {
      "gpuType": "T4",
      "provenance": []
    },
    "kernelspec": {
      "display_name": "stemorchestrator",
      "language": "python",
      "name": "python3"
    },
    "language_info": {
      "codemirror_mode": {
        "name": "ipython",
        "version": 3
      },
      "file_extension": ".py",
      "mimetype": "text/x-python",
      "name": "python",
      "nbconvert_exporter": "python",
      "pygments_lexer": "ipython3",
      "version": "3.11.5"
    }
  },
  "nbformat": 4,
  "nbformat_minor": 0
}
