{
 "cells": [
  {
   "cell_type": "code",
   "execution_count": 1,
   "id": "7aa5daa0-9c5e-4e13-8fa6-6fd7840e9866",
   "metadata": {},
   "outputs": [],
   "source": [
    "import sys\n",
    "sys.path.append(\"/nfs/home/upratius/scratch_i24/projects/pyAutoMic/TEM/stemOrchestrator/notebooks/atomGPT_related/AS-1.14/\")\n",
    "sys.path.append(\"/nfs/home/upratius/scratch_i24/projects/pyAutoMic/TEM/stemOrchestrator/\")"
   ]
  },
  {
   "cell_type": "code",
   "execution_count": 2,
   "id": "59479d92-f1a3-4354-a1f3-464fa63ac4ac",
   "metadata": {},
   "outputs": [],
   "source": [
    "from stemOrchestrator.logging_config   import setup_logging\n",
    "data_folder  = \".\"\n",
    "out_path = data_folder\n",
    "setup_logging(out_path=out_path) "
   ]
  },
  {
   "cell_type": "code",
   "execution_count": 3,
   "id": "231d7d90-45ec-4339-8e59-1424879e8830",
   "metadata": {},
   "outputs": [],
   "source": [
    "from stemOrchestrator.acquisition import TFacquisition, DMacquisition\n",
    "from stemOrchestrator.simulation import DMtwin\n",
    "from stemOrchestrator.process import HAADF_tiff_to_png, tiff_to_png\n",
    "from autoscript_tem_microscope_client import TemMicroscopeClient\n",
    "import matplotlib.pyplot as plt\n",
    "import logging\n",
    "plot = plt\n",
    "from typing import Dict"
   ]
  },
  {
   "cell_type": "code",
   "execution_count": 4,
   "id": "b046c71a-794e-43c6-aa49-ca66be0d866c",
   "metadata": {},
   "outputs": [],
   "source": [
    "import os\n",
    "import json\n",
    "from pathlib import Path\n",
    "\n",
    "ip = os.getenv(\"MICROSCOPE_IP\")\n",
    "port = os.getenv(\"MICROSCOPE_PORT\")\n",
    "\n",
    "if not ip or not port:\n",
    "    secret_path = Path(\"/nfs/home/upratius/scratch_i24/projects/pyAutoMic/TEM/stemOrchestrator/config_secret.json\")\n",
    "    if secret_path.exists():\n",
    "        with open(secret_path, \"r\") as f:\n",
    "            secret = json.load(f)\n",
    "            ip = ip or secret.get(\"ip_TF\")\n",
    "            port = port or secret.get(\"port_TF\")\n",
    "\n",
    "\n",
    "\n",
    "config = {\n",
    "    \"ip\": ip,\n",
    "    \"port\": port,\n",
    "    \"haadf_exposure\": 40e-8,  # micro-seconds per pixel\n",
    "    \"haadf_resolution\": 512, # square\n",
    "    \"out_path\": \".\"\n",
    "}"
   ]
  },
  {
   "cell_type": "code",
   "execution_count": 5,
   "id": "90e4ea16-d0ab-4a55-af0f-8f7e1cae88c7",
   "metadata": {},
   "outputs": [
    {
     "name": "stdout",
     "output_type": "stream",
     "text": [
      "Client connecting to [10.46.217.241:9095]...\n",
      "Client connected to [10.46.217.241:9095]\n",
      "2025-10-15 16:00:29,833 - INFO - Starting microscope initialization...\n",
      "2025-10-15 16:00:30,034 - INFO - CETA camera initialized\n",
      "2025-10-15 16:00:30,049 - INFO - HAADF detector initialized\n",
      "2025-10-15 16:00:30,125 - INFO - Microscope initialization completed successfully\n"
     ]
    }
   ],
   "source": [
    "\n",
    "ip = config[\"ip\"]\n",
    "port = config[\"port\"]\n",
    "haadf_exposure = config[\"haadf_exposure\"]\n",
    "out_path = config[\"out_path\"]\n",
    "haadf_resolution = config[\"haadf_resolution\"]\n",
    "\n",
    "\n",
    "\n",
    "microscope = TemMicroscopeClient()\n",
    "microscope.connect(ip, port = port)# 7521 on velox  computer\n",
    "# microscope.connect( port = port)# 7521 on velox  computer\n",
    "\n",
    "# query state:\n",
    "\n",
    "tf_acquisition = TFacquisition(microscope=microscope)\n",
    "\n",
    "# put beam shift to 0,0\n",
    "# tf_acquisition.move_beam_shift_positon([0, 0])\n"
   ]
  },
  {
   "cell_type": "code",
   "execution_count": null,
   "id": "b247bf8d-1e2a-4227-81b4-c9c28bf9432b",
   "metadata": {},
   "outputs": [],
   "source": []
  }
 ],
 "metadata": {
  "kernelspec": {
   "display_name": "Python 3 (ipykernel)",
   "language": "python",
   "name": "python3"
  },
  "language_info": {
   "codemirror_mode": {
    "name": "ipython",
    "version": 3
   },
   "file_extension": ".py",
   "mimetype": "text/x-python",
   "name": "python",
   "nbconvert_exporter": "python",
   "pygments_lexer": "ipython3",
   "version": "3.10.18"
  }
 },
 "nbformat": 4,
 "nbformat_minor": 5
}
