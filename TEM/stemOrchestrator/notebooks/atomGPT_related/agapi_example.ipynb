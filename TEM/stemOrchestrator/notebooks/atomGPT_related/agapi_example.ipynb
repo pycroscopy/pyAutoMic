{
  "cells": [
    {
      "cell_type": "markdown",
      "metadata": {
        "id": "II9F_3WzM78G"
      },
      "source": [
        "# AtomGPT.org API (AGAPI) Client"
      ]
    },
    {
      "cell_type": "markdown",
      "metadata": {
        "id": "oKWA2eqlM5ZH"
      },
      "source": [
        "https://github.com/atomgptlab/agapi"
      ]
    },
    {
      "cell_type": "markdown",
      "metadata": {
        "id": "9Z0BykFMkeYF"
      },
      "source": [
        "References to cite:\n",
        "\n",
        "1. https://doi.org/10.1016/j.commatsci.2025.114063\n",
        "2. https://doi.org/10.1007/s40192-025-00410-9"
      ]
    },
    {
      "cell_type": "markdown",
      "metadata": {
        "id": "4yNQTK-Xx0Lc"
      },
      "source": [
        "# Table of contents\n",
        "\n",
        "1. Get your AtomGPT.org API key\n",
        "2. General question-answer based on open source GPT-OSS-20b\n",
        "3. Query JARVIS-DFT entries for a formula\n",
        "4. JARVIS-DFT by element search\n",
        "5. Get ALIGNN Predictions\n",
        "6. Use ALIGNN-FF to relax atomic structure\n",
        "7. Protein folding with ESM fold\n",
        "8. XRD Pattern to atomic structure\n",
        "\n",
        "Author: Kamal Choudhary (kchoudh2@jhu.edu)\n",
        "\n",
        "Do you have any suggestions/requests for other tools? Raise a GitHub [issue](https://github.com/atomgptlab/agapi/issues/new)\n",
        "\n",
        "If you like this project, don't forget to give a GitHub [star](https://github.com/atomgptlab/agapi/stargazers) and cite papers above"
      ]
    },
    {
      "cell_type": "code",
      "execution_count": null,
      "metadata": {
        "colab": {
          "base_uri": "https://localhost:8080/"
        },
        "id": "Xohfuc3WGo-M",
        "outputId": "f4bfc369-cadf-4c8e-87e0-e45a0c490505"
      },
      "outputs": [],
      "source": [
        "# !pip install -q agapi jarvis-tools\n"
      ]
    },
    {
      "cell_type": "markdown",
      "metadata": {
        "id": "8z5wWhuRVzaW"
      },
      "source": [
        "## Get your AtomGPT API Key\n",
        "\n"
      ]
    },
    {
      "cell_type": "markdown",
      "metadata": {
        "id": "wJMWMLoJKFfC"
      },
      "source": [
        "Go to Website: https://atomgpt.org/\n",
        "\n",
        "Navigate to Profile >> Settings >> Account >> API Keys >> Show/Create\n",
        "\n",
        "It will look like sk-xxxxxxxxxxxxx paste below"
      ]
    },
    {
      "cell_type": "code",
      "execution_count": null,
      "metadata": {
        "id": "FucZvqiVKILt"
      },
      "outputs": [],
      "source": [
        "import yaml\n",
        "\n",
        "# Load the YAML file\n",
        "with open(\"credential.yaml\", \"r\") as f:\n",
        "    cred = yaml.safe_load(f)\n",
        "\n",
        "api_key = cred[\"atomGPT-api-key\"]\n"
      ]
    },
    {
      "cell_type": "markdown",
      "metadata": {
        "id": "Cfjtcsl3wJml"
      },
      "source": [
        "## General question-answer"
      ]
    },
    {
      "cell_type": "code",
      "execution_count": null,
      "metadata": {
        "colab": {
          "base_uri": "https://localhost:8080/"
        },
        "id": "9QIDFD90GvlW",
        "outputId": "9e7479c6-b06e-4dd6-982e-c419a97553e3"
      },
      "outputs": [],
      "source": [
        "from agapi.client import Agapi\n",
        "client = Agapi(api_key=api_key)\n",
        "r = client.ask(\"Whats the capital of US\")\n",
        "print(r)"
      ]
    },
    {
      "cell_type": "code",
      "execution_count": null,
      "metadata": {
        "id": "KoNhkdgeQsA6"
      },
      "outputs": [],
      "source": [
        "import pandas as pd"
      ]
    },
    {
      "cell_type": "markdown",
      "metadata": {
        "id": "jUqsVXquV84J"
      },
      "source": [
        "## Query JARVIS-DFT entries for a formula, e.g. MoS2"
      ]
    },
    {
      "cell_type": "code",
      "execution_count": null,
      "metadata": {
        "colab": {
          "base_uri": "https://localhost:8080/"
        },
        "id": "SgM7SikRG5gq",
        "outputId": "6de0e1d9-d27c-4f87-ece8-d4c7c5fbc2b1"
      },
      "outputs": [],
      "source": [
        "%%time\n",
        "r = client.jarvis_dft_query(formula=\"MoS2\")\n",
        "print(pd.DataFrame(r['results']))\n"
      ]
    },
    {
      "cell_type": "code",
      "execution_count": null,
      "metadata": {
        "colab": {
          "base_uri": "https://localhost:8080/"
        },
        "id": "n9vE6d-TWeaT",
        "outputId": "d3b59e35-a572-49a7-d36d-89e60b4a3934"
      },
      "outputs": [],
      "source": [
        "print(r['results'][0].keys())"
      ]
    },
    {
      "cell_type": "markdown",
      "metadata": {
        "id": "LkJ8cRmfwun4"
      },
      "source": [
        "## JARVIS-DFT by element search"
      ]
    },
    {
      "cell_type": "code",
      "execution_count": null,
      "metadata": {
        "colab": {
          "base_uri": "https://localhost:8080/"
        },
        "id": "uOmyYGcLw0EK",
        "outputId": "ec987b40-5758-47d0-c21a-6b10bf5aa40f"
      },
      "outputs": [],
      "source": [
        "r = client.jarvis_dft_query(search=\"-Mo-S\") #Note - in front of elements\n",
        "print(r)"
      ]
    },
    {
      "cell_type": "markdown",
      "metadata": {
        "id": "5Nf0uwdZw63x"
      },
      "source": [
        "# Get ALIGNN Predictions"
      ]
    },
    {
      "cell_type": "code",
      "execution_count": null,
      "metadata": {
        "colab": {
          "base_uri": "https://localhost:8080/"
        },
        "id": "pfx-HXpEJv5A",
        "outputId": "69638877-420a-4cfc-b6b7-a3bf4a61005c"
      },
      "outputs": [],
      "source": [
        "!wget https://raw.githubusercontent.com/atomgptlab/agapi/refs/heads/main/agapi/images/POSCAR -O POSCAR"
      ]
    },
    {
      "cell_type": "code",
      "execution_count": null,
      "metadata": {
        "colab": {
          "base_uri": "https://localhost:8080/"
        },
        "id": "dTdm0zWCJX7i",
        "outputId": "5f4d5d87-c685-47b5-d565-bc7cfc500b3a"
      },
      "outputs": [],
      "source": [
        "!ls"
      ]
    },
    {
      "cell_type": "markdown",
      "metadata": {
        "id": "SP9SPVMSiNxu"
      },
      "source": [
        "Note: We recommend avoiding systems with more than 20 atoms. AGAPI is still under active development, and support for larger systems will improve as we expand computational resources."
      ]
    },
    {
      "cell_type": "code",
      "execution_count": null,
      "metadata": {
        "colab": {
          "base_uri": "https://localhost:8080/"
        },
        "id": "A7vD05snJyrb",
        "outputId": "c1293c5e-eee6-43f8-a367-d2410d4efb2b"
      },
      "outputs": [],
      "source": [
        "%%time\n",
        "r = client.alignn_query(file_path=\"POSCAR\")"
      ]
    },
    {
      "cell_type": "code",
      "execution_count": null,
      "metadata": {
        "colab": {
          "base_uri": "https://localhost:8080/"
        },
        "id": "a8upGQ1HJ7ld",
        "outputId": "0feb263f-9c3e-4818-b64e-f0938adb9d3d"
      },
      "outputs": [],
      "source": [
        "r"
      ]
    },
    {
      "cell_type": "markdown",
      "metadata": {
        "id": "T4_c63EoWKfW"
      },
      "source": [
        "## Use ALIGNN-FF to relax atomic structure"
      ]
    },
    {
      "cell_type": "code",
      "execution_count": null,
      "metadata": {
        "colab": {
          "base_uri": "https://localhost:8080/"
        },
        "id": "JABi551XKOcL",
        "outputId": "10fe3a6a-8611-4a32-e6a5-16353fb72a35"
      },
      "outputs": [],
      "source": [
        "%%time\n",
        "r = client.alignn_ff_query(poscar_string=open(\"POSCAR\").read())"
      ]
    },
    {
      "cell_type": "code",
      "execution_count": null,
      "metadata": {
        "colab": {
          "base_uri": "https://localhost:8080/"
        },
        "id": "HSk2SGvzSijM",
        "outputId": "5344484c-8b69-4ee5-ac31-21a8f5449643"
      },
      "outputs": [],
      "source": [
        "\n",
        "r"
      ]
    },
    {
      "cell_type": "code",
      "execution_count": null,
      "metadata": {
        "colab": {
          "base_uri": "https://localhost:8080/"
        },
        "id": "BhMNU-O2SjjR",
        "outputId": "e7126e8a-3844-4794-8678-89f3ada537fb"
      },
      "outputs": [],
      "source": [
        "from jarvis.io.vasp.inputs import Poscar\n",
        "orig = Poscar.from_string(r['original'])\n",
        "print(orig)"
      ]
    },
    {
      "cell_type": "code",
      "execution_count": null,
      "metadata": {
        "colab": {
          "base_uri": "https://localhost:8080/"
        },
        "id": "_CSijPLSW4Ry",
        "outputId": "856e8299-935a-4707-ad74-7260dc0a7bc2"
      },
      "outputs": [],
      "source": [
        "relaxed = Poscar.from_string(r['relaxed'])\n",
        "print(relaxed)"
      ]
    },
    {
      "cell_type": "markdown",
      "metadata": {
        "id": "w0txrscdXBFh"
      },
      "source": [
        "## Protein folding with ESM fold"
      ]
    },
    {
      "cell_type": "code",
      "execution_count": null,
      "metadata": {
        "colab": {
          "base_uri": "https://localhost:8080/"
        },
        "id": "2-LyPAgRW8en",
        "outputId": "73c2740f-be8c-4735-f3fe-ab45c0af1aad"
      },
      "outputs": [],
      "source": [
        "# Protein fold (returns binary content if format=zip)\n",
        "zbytes = client.protein_fold_query(sequence=\"AAAAA\", format=\"zip\")\n",
        "open(\"protein.zip\", \"wb\").write(zbytes)"
      ]
    },
    {
      "cell_type": "code",
      "execution_count": null,
      "metadata": {
        "colab": {
          "base_uri": "https://localhost:8080/"
        },
        "id": "7icei2Fqi7Lk",
        "outputId": "efba995b-110b-4a36-8436-6779f89b4eff"
      },
      "outputs": [],
      "source": [
        "!unzip protein.zip"
      ]
    },
    {
      "cell_type": "code",
      "execution_count": null,
      "metadata": {
        "colab": {
          "base_uri": "https://localhost:8080/"
        },
        "id": "1Fjco5Y5W_Vg",
        "outputId": "59e423bf-695d-45df-c674-230d12843fa0"
      },
      "outputs": [],
      "source": [
        "!ls"
      ]
    },
    {
      "cell_type": "markdown",
      "metadata": {
        "id": "XR_lNnVpxTzJ"
      },
      "source": [
        "## XRD Pattern matching based atomic structure"
      ]
    },
    {
      "cell_type": "markdown",
      "metadata": {
        "id": "CFUDG0dLxBZ9"
      },
      "source": [
        "`Lab6data.dat ` is a file for 2 `$\\theta$` vs intensity for LaB6 with specific header `elements HAS ALL La,B`"
      ]
    },
    {
      "cell_type": "code",
      "execution_count": null,
      "metadata": {
        "colab": {
          "base_uri": "https://localhost:8080/"
        },
        "id": "v0Gt1nWnXLOF",
        "outputId": "b8022962-bda3-433b-edc3-7572da0607c2"
      },
      "outputs": [],
      "source": [
        "!wget https://raw.githubusercontent.com/atomgptlab/agapi/refs/heads/main/agapi/images/Lab6data.dat -O Lab6data.dat"
      ]
    },
    {
      "cell_type": "markdown",
      "metadata": {
        "id": "TCbKWll8xWOn"
      },
      "source": [
        "The following is matching XRD patterns, DifractGPT model will be available soon"
      ]
    },
    {
      "cell_type": "code",
      "execution_count": null,
      "metadata": {
        "colab": {
          "base_uri": "https://localhost:8080/"
        },
        "id": "a_O4Owt8XAKH",
        "outputId": "732f0829-3435-4214-cbfc-d6d8809caa91"
      },
      "outputs": [],
      "source": [
        "r = client.pxrd_query(file_path=\"Lab6data.dat\")\n",
        "print(r)"
      ]
    },
    {
      "cell_type": "markdown",
      "metadata": {
        "id": "VqCgq32oZFas"
      },
      "source": [
        "## Generate STEM image for relaxed structure above for (001) plane (default)"
      ]
    },
    {
      "cell_type": "code",
      "execution_count": null,
      "metadata": {
        "colab": {
          "base_uri": "https://localhost:8080/",
          "height": 452
        },
        "id": "kDO8eyrrXM1S",
        "outputId": "3c4a7aea-ab09-4609-ed24-f4a6fa4b6fd9"
      },
      "outputs": [],
      "source": [
        "import matplotlib.pyplot as plt\n",
        "import os, glob\n",
        "from jarvis.analysis.stem.convolution_apprx import STEMConv\n",
        "from jarvis.db.figshare import data, get_jid_data\n",
        "import matplotlib.pyplot as plt\n",
        "from jarvis.core.atoms import Atoms, ase_to_atoms, get_supercell_dims\n",
        "from jarvis.core.lattice import get_2d_lattice\n",
        "%matplotlib inline\n",
        "#plt.switch_backend(\"agg\")\n",
        "\n",
        "#graphene\n",
        "a = relaxed.atoms #Atoms.from_dict(get_jid_data(\"JVASP-667\")[\"atoms\"])\n",
        "p = STEMConv(atoms=a,output_size=[150,150]).simulate_surface(a)\n",
        "\n",
        "plt.imshow(p[0], interpolation=\"gaussian\", cmap=\"plasma\")\n",
        "# plt.savefig(\"stem_example.png\")\n",
        "# plt.close()"
      ]
    },
    {
      "cell_type": "markdown",
      "metadata": {
        "id": "_LuoNAavZDCj"
      },
      "source": [
        "## Generate X-ray diffraction pattern for structure above"
      ]
    },
    {
      "cell_type": "code",
      "execution_count": null,
      "metadata": {
        "colab": {
          "base_uri": "https://localhost:8080/",
          "height": 453
        },
        "id": "T-lM2cw2YQA9",
        "outputId": "3aa2baf7-39ec-406d-8951-12a6524d8836"
      },
      "outputs": [],
      "source": [
        "from jarvis.analysis.diffraction.xrd import XRD\n",
        "theta,d_hkls,intens = XRD().simulate(atoms=relaxed.atoms)\n",
        "import matplotlib.pyplot as plt\n",
        "plt.bar(theta, intens)\n",
        "plt.xlim(0, 90)\n",
        "plt.xlabel(r'2$\\theta$ (degrees)')\n",
        "plt.ylabel('Intensity (a.u.)')\n",
        "plt.show()\n"
      ]
    },
    {
      "cell_type": "code",
      "execution_count": null,
      "metadata": {
        "id": "eOn040Z4YskJ"
      },
      "outputs": [],
      "source": []
    }
  ],
  "metadata": {
    "colab": {
      "provenance": []
    },
    "kernelspec": {
      "display_name": "stemorchestrator",
      "language": "python",
      "name": "python3"
    },
    "language_info": {
      "codemirror_mode": {
        "name": "ipython",
        "version": 3
      },
      "file_extension": ".py",
      "mimetype": "text/x-python",
      "name": "python",
      "nbconvert_exporter": "python",
      "pygments_lexer": "ipython3",
      "version": "3.11.13"
    }
  },
  "nbformat": 4,
  "nbformat_minor": 0
}
