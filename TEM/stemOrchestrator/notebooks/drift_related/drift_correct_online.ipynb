{
 "cells": [
  {
   "cell_type": "markdown",
   "metadata": {},
   "source": [
    "## Live drift correction\n",
    "- We got shift in x and y from section before - using drift_correct_1.ipynb\n",
    "- we find out the pixel size from the metadata of the images\n",
    "- we compute distance in m/nm to move \n",
    "- we shift the beam to that delta disance in x and y\n",
    "#### Contributor(s): Utkarsh Pratiush <utkarshp1161@gmail.com> - 26th March 2025\n",
    "#### edited - \n",
    "   "
   ]
  },
  {
   "cell_type": "code",
   "execution_count": null,
   "metadata": {},
   "outputs": [],
   "source": [
    "from stemOrchestrator.acquisition import TFacquisition\n",
    "from stemOrchestrator.process import HAADF_tiff_to_png\n",
    "from autoscript_tem_microscope_client import TemMicroscopeClient\n",
    "import logging\n",
    "from stemOrchestrator.logging_config   import setup_logging\n",
    "import matplotlib.pyplot as plt\n",
    "plot = plt\n",
    "\n",
    "from typing import Dict"
   ]
  },
  {
   "cell_type": "markdown",
   "metadata": {},
   "source": [
    "## 1. Connect to microscope"
   ]
  },
  {
   "cell_type": "code",
   "execution_count": null,
   "metadata": {},
   "outputs": [],
   "source": [
    "import os\n",
    "import json\n",
    "from pathlib import Path\n",
    "\n",
    "ip = os.getenv(\"MICROSCOPE_IP\")\n",
    "port = os.getenv(\"MICROSCOPE_PORT\")\n",
    "\n",
    "if not ip or not port:\n",
    "    secret_path = Path(\"../../config_secret.json\")\n",
    "    if secret_path.exists():\n",
    "        with open(secret_path, \"r\") as f:\n",
    "            secret = json.load(f)\n",
    "            ip = ip or secret.get(\"ip\")\n",
    "            port = port or secret.get(\"port\")\n",
    "\n",
    "if not ip:\n",
    "    ip = input(\"Enter microscope IP: \")\n",
    "if not port:\n",
    "    port = input(\"Enter microscope Port: \")\n",
    "\n",
    "try:\n",
    "    port = int(port)\n",
    "except ValueError:\n",
    "    raise ValueError(\"Port must be an integer\")\n",
    "\n",
    "config = {\n",
    "    \"ip\": ip,\n",
    "    \"port\": port,\n",
    "    \"haadf_exposure\": 40e-8,  # micro-seconds per pixel\n",
    "    \"out_path\": \".\"\n",
    "}"
   ]
  },
  {
   "cell_type": "markdown",
   "metadata": {},
   "source": [
    "## 2. Intialize microscope"
   ]
  },
  {
   "cell_type": "code",
   "execution_count": null,
   "metadata": {},
   "outputs": [],
   "source": [
    "data_folder  = \"../../data/\"\n",
    "out_path = data_folder "
   ]
  },
  {
   "cell_type": "code",
   "execution_count": null,
   "metadata": {},
   "outputs": [],
   "source": [
    "\n",
    "ip = config[\"ip\"]\n",
    "port = config[\"port\"]\n",
    "haadf_exposure = config[\"haadf_exposure\"]\n",
    "out_path = config[\"out_path\"]\n",
    "\n",
    "setup_logging(out_path=out_path)\n",
    "\n",
    "microscope = TemMicroscopeClient()\n",
    "microscope.connect(ip, port = port)# 7521 on velox  computer\n",
    "\n",
    "# query state:\n",
    "\n",
    "tf_acquisition = TFacquisition(microscope=microscope)\n",
    "\n"
   ]
  },
  {
   "cell_type": "markdown",
   "metadata": {},
   "source": [
    "## 3. Acquire 2 images to compute drift"
   ]
  },
  {
   "cell_type": "code",
   "execution_count": null,
   "metadata": {},
   "outputs": [],
   "source": [
    "# get image 1 for drift\n",
    "haadf_np_array_old, haadf_tiff_name, pixel_size_tuple = tf_acquisition.acquire_haadf(exposure = 1e-5, return_pixel_size=True)\n",
    "HAADF_tiff_to_png(haadf_tiff_name)\n",
    "\n",
    "logging.info(\"END acquisition.\")\n",
    "\n",
    "# get image 2 for drift\n",
    "haadf_np_array_new, haadf_tiff_name, pixel_size_tuple = tf_acquisition.acquire_haadf(exposure = 1e-5, return_pixel_size=True)\n",
    "HAADF_tiff_to_png(haadf_tiff_name)\n",
    "\n",
    "logging.info(\"END acquisition.\")"
   ]
  },
  {
   "cell_type": "markdown",
   "metadata": {},
   "source": [
    "## 4. compute drift - as shown in the notebook : drift_correct_offline"
   ]
  },
  {
   "cell_type": "code",
   "execution_count": null,
   "metadata": {},
   "outputs": [],
   "source": [
    "from stemOrchestrator.process import compute_drift, plot_drift_comparison, tiff_to_numpy\n",
    "haadf_np_array_old, haadf_np_array_shifted = haadf_np_array_old, haadf_np_array_new\n",
    "image1, image2 = haadf_np_array_old, haadf_np_array_shifted\n",
    "shift_x, shift_y = compute_drift(image1.T, image2.T)\n",
    "print(shift_x, shift_y)\n",
    "fig = plot_drift_comparison(image1, image1, shift_x, shift_y)\n",
    "\n"
   ]
  },
  {
   "cell_type": "markdown",
   "metadata": {},
   "source": [
    "## 5. Use pixel size and shift to compute:\n",
    "- delta_x\n",
    "- delta_y"
   ]
  },
  {
   "cell_type": "code",
   "execution_count": null,
   "metadata": {},
   "outputs": [],
   "source": [
    "# compute delta x and delta y\n",
    "delta_x = pixel_size_tuple[0]*shift_x\n",
    "delta_y = pixel_size_tuple[1]*shift_y\n",
    "print(delta_x, delta_y)\n",
    "old_x, old_y = tf_acquisition.query_beam_shift_position()\n",
    "print(old_x, old_y)"
   ]
  },
  {
   "cell_type": "markdown",
   "metadata": {},
   "source": [
    "## 6. Move the beam - Beam_shift([delta_x, delta_y])"
   ]
  },
  {
   "cell_type": "code",
   "execution_count": null,
   "metadata": {},
   "outputs": [],
   "source": [
    "tf_acquisition.move_beam_shift_positon([old_x + delta_x, old_y +  delta_y])"
   ]
  },
  {
   "cell_type": "code",
   "execution_count": null,
   "metadata": {},
   "outputs": [],
   "source": [
    "tf_acquisition.query_beam_shift_position()"
   ]
  },
  {
   "cell_type": "code",
   "execution_count": null,
   "metadata": {},
   "outputs": [],
   "source": [
    "#reset beam shift to 0 by: \n",
    "tf_acquisition.move_beam_shift_positon([0, 0])"
   ]
  },
  {
   "cell_type": "code",
   "execution_count": null,
   "metadata": {},
   "outputs": [],
   "source": []
  }
 ],
 "metadata": {
  "kernelspec": {
   "display_name": "dmclient_2",
   "language": "python",
   "name": "python3"
  },
  "language_info": {
   "codemirror_mode": {
    "name": "ipython",
    "version": 3
   },
   "file_extension": ".py",
   "mimetype": "text/x-python",
   "name": "python",
   "nbconvert_exporter": "python",
   "pygments_lexer": "ipython3",
   "version": "3.8.17"
  }
 },
 "nbformat": 4,
 "nbformat_minor": 2
}
