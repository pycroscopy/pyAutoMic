{
 "cells": [
  {
   "cell_type": "markdown",
   "metadata": {},
   "source": [
    "# Drift correction through phase cross correlation \n",
    "Given 2 images computes shift in pixels in x and y. \n",
    "#### Contributor(s): Utkarsh Pratiush <utkarshp1161@gmail.com> - 26th March 2025\n",
    "#### edited - \n",
    "   "
   ]
  },
  {
   "cell_type": "code",
   "execution_count": null,
   "metadata": {},
   "outputs": [],
   "source": [
    "from stemOrchestrator.process import compute_drift, plot_drift_comparison, tiff_to_numpy, HAADF_tiff_to_png, compute_drift_GD, tiff_metadata\n",
    "import matplotlib.pyplot as plt\n"
   ]
  },
  {
   "cell_type": "code",
   "execution_count": null,
   "metadata": {},
   "outputs": [],
   "source": [
    "data_folder = \"../../data\"\n",
    "image1_path = f\"{data_folder}/drift_frame11.tiff\"\n",
    "image2_path = f\"{data_folder}/drift_frame12.tiff\"\n",
    "pixel_size_x, pixel_size_y =  HAADF_tiff_to_png(image1_path, return_pixel_size = True)\n",
    "meta = tiff_metadata(image1_path)\n",
    "beam_shift_x1, beam_shift_y1 = meta['FEI_TITAN_parsed']['Metadata']['Optics']['BeamShift'][\"X\"], meta['FEI_TITAN_parsed']['Metadata']['Optics']['BeamShift'][\"Y\"]\n",
    "print(\"beam shift in x and y\", beam_shift_x1, beam_shift_y1)\n",
    "\n",
    "\n",
    "HAADF_tiff_to_png(image2_path)\n",
    "meta = tiff_metadata(image2_path)\n",
    "beam_shift_x2, beam_shift_y2 = meta['FEI_TITAN_parsed']['Metadata']['Optics']['BeamShift'][\"X\"], meta['FEI_TITAN_parsed']['Metadata']['Optics']['BeamShift'][\"Y\"]\n",
    "print(\"beam shift in x and y\", beam_shift_x2, beam_shift_y2)\n",
    "\n",
    "\n",
    "shft_original_x = (float(beam_shift_x2) - float(beam_shift_x1))/pixel_size_x\n",
    "shft_original_y = (float(beam_shift_y2) - float(beam_shift_y1))/pixel_size_y\n",
    "\n",
    "print(\"shift-oringinal-x\", shft_original_x )\n",
    "print(\"shift-oringinal-y\", shft_original_y )\n",
    "\n"
   ]
  },
  {
   "cell_type": "code",
   "execution_count": null,
   "metadata": {},
   "outputs": [],
   "source": [
    "# haadf_np_array_baseline, haadf_np_array_shifted = tiff_to_numpy(f\"{data_folder}/drift_frame1.tiff\"), tiff_to_numpy(f\"{data_folder}/drift_frame2.tiff\")\n",
    "haadf_np_array_baseline, haadf_np_array_shifted = tiff_to_numpy(image1_path), tiff_to_numpy(image2_path)\n",
    "# shift_x, shift_y = compute_drift_GD(haadf_np_array_baseline, haadf_np_array_shifted, normalization = \"low_mag\")\n",
    "shift_x, shift_y = compute_drift_GD(haadf_np_array_baseline, haadf_np_array_shifted, normalization = \"low_mag\")\n",
    "\n",
    "print(shift_x, shift_y)\n",
    "fig = plot_drift_comparison(haadf_np_array_baseline, haadf_np_array_shifted, shift_x, shift_y)\n",
    "\n"
   ]
  },
  {
   "cell_type": "code",
   "execution_count": null,
   "metadata": {},
   "outputs": [],
   "source": []
  }
 ],
 "metadata": {
  "kernelspec": {
   "display_name": "dmclient_2",
   "language": "python",
   "name": "python3"
  },
  "language_info": {
   "codemirror_mode": {
    "name": "ipython",
    "version": 3
   },
   "file_extension": ".py",
   "mimetype": "text/x-python",
   "name": "python",
   "nbconvert_exporter": "python",
   "pygments_lexer": "ipython3",
   "version": "3.8.17"
  }
 },
 "nbformat": 4,
 "nbformat_minor": 2
}
