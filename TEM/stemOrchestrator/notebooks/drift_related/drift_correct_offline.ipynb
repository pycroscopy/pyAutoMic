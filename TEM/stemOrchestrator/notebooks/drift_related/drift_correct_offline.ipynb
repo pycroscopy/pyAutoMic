{
 "cells": [
  {
   "cell_type": "markdown",
   "metadata": {},
   "source": [
    "# Drift correction through phase cross correlation \n",
    "Given 2 images computes shift in pixels in x and y. \n",
    "#### Contributor(s): Utkarsh Pratiush <utkarshp1161@gmail.com> - 26th March 2025\n",
    "#### edited - \n",
    "   "
   ]
  },
  {
   "cell_type": "code",
   "execution_count": null,
   "metadata": {},
   "outputs": [],
   "source": [
    "from stemOrchestrator.process import compute_drift, plot_drift_comparison, tiff_to_numpy, HAADF_tiff_to_png, drift_compute_GD\n",
    "import matplotlib.pyplot as plt\n"
   ]
  },
  {
   "cell_type": "code",
   "execution_count": null,
   "metadata": {},
   "outputs": [],
   "source": [
    "# data_folder = \"../../data\"\n",
    "image1_path = \"/Users/utkarshpratiush/project/pyAutoMic/TEM/stemOrchestrator/notebooks/drift_related/HAADF_image_20250328_145030.tiff\"\n",
    "image2_path = \"/Users/utkarshpratiush/project/pyAutoMic/TEM/stemOrchestrator/notebooks/drift_related/HAADF_image_20250328_145039.tiff\"\n",
    "HAADF_tiff_to_png(image1_path)\n",
    "HAADF_tiff_to_png(image2_path)\n"
   ]
  },
  {
   "cell_type": "code",
   "execution_count": null,
   "metadata": {},
   "outputs": [],
   "source": [
    "# haadf_np_array_baseline, haadf_np_array_shifted = tiff_to_numpy(f\"{data_folder}/drift_frame1.tiff\"), tiff_to_numpy(f\"{data_folder}/drift_frame2.tiff\")\n",
    "haadf_np_array_baseline, haadf_np_array_shifted = tiff_to_numpy(image1_path), tiff_to_numpy(image2_path)\n",
    "shift_x, shift_y = drift_compute_GD(haadf_np_array_baseline, haadf_np_array_shifted)\n",
    "print(shift_x, shift_y)\n",
    "fig = plot_drift_comparison(haadf_np_array_baseline, haadf_np_array_shifted , shift_x, shift_y)\n",
    "\n"
   ]
  },
  {
   "cell_type": "code",
   "execution_count": null,
   "metadata": {},
   "outputs": [],
   "source": []
  }
 ],
 "metadata": {
  "kernelspec": {
   "display_name": "dmclient_2",
   "language": "python",
   "name": "python3"
  },
  "language_info": {
   "codemirror_mode": {
    "name": "ipython",
    "version": 3
   },
   "file_extension": ".py",
   "mimetype": "text/x-python",
   "name": "python",
   "nbconvert_exporter": "python",
   "pygments_lexer": "ipython3",
   "version": "3.8.17"
  }
 },
 "nbformat": 4,
 "nbformat_minor": 2
}
