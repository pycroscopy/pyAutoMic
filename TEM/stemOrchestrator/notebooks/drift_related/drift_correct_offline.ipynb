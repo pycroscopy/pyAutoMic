{
 "cells": [
  {
   "cell_type": "markdown",
   "metadata": {},
   "source": [
    "# Drift correction through phase cross correlation \n",
    "Given 2 images computes shift in pixels in x and y. \n",
    "#### Contributor(s): Utkarsh Pratiush <utkarshp1161@gmail.com> - 26th March 2025\n",
    "#### edited - \n",
    "   "
   ]
  },
  {
   "cell_type": "code",
   "execution_count": null,
   "metadata": {},
   "outputs": [],
   "source": [
    "from stemOrchestrator.process import compute_drift, plot_drift_comparison, tiff_to_numpy\n"
   ]
  },
  {
   "cell_type": "code",
   "execution_count": null,
   "metadata": {},
   "outputs": [],
   "source": [
    "data_folder = \"../../data\""
   ]
  },
  {
   "cell_type": "code",
   "execution_count": null,
   "metadata": {},
   "outputs": [],
   "source": [
    "haadf_np_array_old, haadf_np_array_shifted = tiff_to_numpy(f\"{data_folder}/drift_frame1.tiff\"), tiff_to_numpy(f\"{data_folder}/drift_frame2.tiff\")\n",
    "image1, image2 = haadf_np_array_old, haadf_np_array_shifted\n",
    "shift_x, shift_y = compute_drift(image1.T, image2.T)\n",
    "print(shift_x, shift_y)\n",
    "fig = plot_drift_comparison(image1, image1, shift_x, shift_y)\n"
   ]
  }
 ],
 "metadata": {
  "kernelspec": {
   "display_name": "dmclient_2",
   "language": "python",
   "name": "python3"
  },
  "language_info": {
   "codemirror_mode": {
    "name": "ipython",
    "version": 3
   },
   "file_extension": ".py",
   "mimetype": "text/x-python",
   "name": "python",
   "nbconvert_exporter": "python",
   "pygments_lexer": "ipython3",
   "version": "3.8.17"
  }
 },
 "nbformat": 4,
 "nbformat_minor": 2
}
