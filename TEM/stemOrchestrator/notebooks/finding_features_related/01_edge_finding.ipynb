{
 "cells": [
  {
   "cell_type": "markdown",
   "id": "30284c33",
   "metadata": {},
   "source": [
    "## 01 - notebook for simple feature finding based on opencv-python\n",
    "\n",
    "#### Contributor(s): Utkarsh Pratiush <utkarshp1161@gmail.com> - 10th June 2025\n",
    "#### edited - \n",
    "   "
   ]
  },
  {
   "cell_type": "code",
   "execution_count": null,
   "id": "f80598aa",
   "metadata": {},
   "outputs": [],
   "source": [
    "from stemOrchestrator.logging_config   import setup_logging\n",
    "data_folder  = \".\"\n",
    "out_path = data_folder\n",
    "setup_logging(out_path=out_path) "
   ]
  },
  {
   "cell_type": "code",
   "execution_count": null,
   "id": "a208fcee",
   "metadata": {},
   "outputs": [],
   "source": [
    "from stemOrchestrator.acquisition import TFacquisition, DMacquisition\n",
    "from stemOrchestrator.simulation import DMtwin\n",
    "from stemOrchestrator.process import HAADF_tiff_to_png, tiff_to_png\n",
    "from autoscript_tem_microscope_client import TemMicroscopeClient\n",
    "import matplotlib.pyplot as plt\n",
    "import logging\n",
    "from typing import Dict\n",
    "import os"
   ]
  },
  {
   "cell_type": "code",
   "execution_count": null,
   "id": "8101e48a",
   "metadata": {},
   "outputs": [],
   "source": [
    "import os\n",
    "import json\n",
    "from pathlib import Path\n",
    "\n",
    "ip = os.getenv(\"MICROSCOPE_IP\")\n",
    "port = os.getenv(\"MICROSCOPE_PORT\")\n",
    "\n",
    "if not ip or not port:\n",
    "    secret_path = Path(\"../../config_secret.json\")\n",
    "    if secret_path.exists():\n",
    "        with open(secret_path, \"r\") as f:\n",
    "            secret = json.load(f)\n",
    "            ip = ip or secret.get(\"ip_TF_wd\")\n",
    "            port = port or secret.get(\"port_TF_wd\")\n",
    "\n",
    "\n",
    "\n",
    "config = {\n",
    "    \"ip\": ip,\n",
    "    \"port\": port,\n",
    "    \"haadf_exposure\": 40e-8,  # micro-seconds per pixel\n",
    "    \"haadf_resolution\": 512, # square\n",
    "    \"out_path\": \".\"\n",
    "}"
   ]
  },
  {
   "cell_type": "code",
   "execution_count": null,
   "id": "68b5b000",
   "metadata": {},
   "outputs": [],
   "source": [
    "\n",
    "# ip = config[\"ip\"]\n",
    "port = config[\"port\"]\n",
    "haadf_exposure = config[\"haadf_exposure\"]\n",
    "out_path = config[\"out_path\"]\n",
    "haadf_resolution = config[\"haadf_resolution\"]\n",
    "\n",
    "\n",
    "\n",
    "microscope = TemMicroscopeClient()\n",
    "microscope.connect(ip, port = port)# 7521 on velox  computer\n",
    "\n",
    "# query state:\n",
    "\n",
    "tf_acquisition = TFacquisition(microscope=microscope)\n",
    "\n",
    "# put beam shift to 0,0\n",
    "# tf_acquisition.move_beam_shift_positon([0, 0])\n"
   ]
  },
  {
   "cell_type": "code",
   "execution_count": null,
   "id": "65a76f4d",
   "metadata": {},
   "outputs": [],
   "source": [
    "import numpy as np\n",
    "import cv2\n",
    "import matplotlib.pyplot as plt\n",
    "\n",
    "# Acquire HAADF image and save TIFF\n",
    "haadf_np_array, haadf_tiff_name = tf_acquisition.acquire_haadf(exposure=10e-6, resolution=512)\n",
    "\n",
    "# Optional: retract HAADF detector\n",
    "# tf_acquisition.haadf_det.retract()\n",
    "\n",
    "# Convert TIFF to PNG (save for viewing)\n",
    "HAADF_tiff_to_png(haadf_tiff_name)\n",
    "\n",
    "# Normalize image for processing\n",
    "img = haadf_np_array.astype(np.float32)\n",
    "img = (img - img.min()) / (img.max() - img.min())  # Normalize to 0–1\n",
    "img = (img * 255).astype(np.uint8)                 # Convert to 8-bit\n",
    "\n",
    "# Apply Sobel edge detection\n",
    "sobel_x = cv2.Sobel(img, cv2.CV_64F, 1, 0, ksize=3)\n",
    "sobel_y = cv2.Sobel(img, cv2.CV_64F, 0, 1, ksize=3)\n",
    "edge_magnitude = np.sqrt(sobel_x**2 + sobel_y**2)\n",
    "edge_magnitude = (edge_magnitude / edge_magnitude.max() * 255).astype(np.uint8)\n",
    "\n",
    "# Display original and edge-detected images\n",
    "plt.figure(figsize=(10, 4))\n",
    "plt.subplot(1, 2, 1)\n",
    "plt.title(\"Original HAADF\")\n",
    "plt.imshow(img, cmap='gray')\n",
    "plt.axis(\"off\")\n",
    "\n",
    "plt.subplot(1, 2, 2)\n",
    "plt.title(\"Edge Map\")\n",
    "plt.imshow(edge_magnitude, cmap='gray')\n",
    "plt.axis(\"off\")\n",
    "\n",
    "plt.tight_layout()\n",
    "plt.show()\n"
   ]
  }
 ],
 "metadata": {
  "language_info": {
   "name": "python"
  }
 },
 "nbformat": 4,
 "nbformat_minor": 5
}
