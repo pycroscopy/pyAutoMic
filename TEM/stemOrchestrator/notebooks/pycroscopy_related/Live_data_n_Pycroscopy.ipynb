{
 "cells": [
  {
   "cell_type": "markdown",
   "id": "4fc07e60",
   "metadata": {},
   "source": [
    "## Live acquisiton data management using - Pycroscopy Ecosystem:\n",
    "- Converting to Sidpy datasets:\n",
    "    - using utilities for sidpy datasets like - fitters, fft etc\n",
    "- Using scifireaders to read them\n",
    "\n",
    "#### Contributor(s): Utkarsh Pratiush <utkarshp1161@gmail.com> - 9th May 2025\n",
    "#### edited - "
   ]
  },
  {
   "cell_type": "markdown",
   "id": "0399f116",
   "metadata": {},
   "source": [
    "### 0. Setup the live acquisiton"
   ]
  },
  {
   "cell_type": "code",
   "execution_count": null,
   "id": "b7e47e18",
   "metadata": {},
   "outputs": [],
   "source": [
    "from stemOrchestrator.logging_config   import setup_logging\n",
    "data_folder  = \".\"\n",
    "out_path = data_folder\n",
    "setup_logging(out_path=out_path) "
   ]
  },
  {
   "cell_type": "code",
   "execution_count": null,
   "id": "0def9f07",
   "metadata": {},
   "outputs": [],
   "source": [
    "from stemOrchestrator.acquisition import TFacquisition, DMacquisition\n",
    "from stemOrchestrator.simulation import DMtwin\n",
    "from stemOrchestrator.process import HAADF_tiff_to_png, tiff_to_png, tiff_metadata, tiff_to_numpy\n",
    "from autoscript_tem_microscope_client import TemMicroscopeClient\n",
    "import matplotlib.pyplot as plt\n",
    "import logging\n",
    "plot = plt\n",
    "from typing import Dict"
   ]
  },
  {
   "cell_type": "code",
   "execution_count": null,
   "id": "02266ff3",
   "metadata": {},
   "outputs": [],
   "source": [
    "import os\n",
    "import json\n",
    "from pathlib import Path\n",
    "\n",
    "ip = os.getenv(\"MICROSCOPE_IP\")\n",
    "port = os.getenv(\"MICROSCOPE_PORT\")\n",
    "\n",
    "if not ip or not port:\n",
    "    secret_path = Path(\"../../config_secret.json\")\n",
    "    if secret_path.exists():\n",
    "        with open(secret_path, \"r\") as f:\n",
    "            secret = json.load(f)\n",
    "            ip = ip or secret.get(\"ip_TF_sim\")\n",
    "            port = port or secret.get(\"port_TF_sim\")\n",
    "\n",
    "if not ip:\n",
    "    ip = input(\"Enter microscope IP: \")\n",
    "if not port:\n",
    "    port = input(\"Enter microscope Port: \")\n",
    "\n",
    "try:\n",
    "    port = int(port)\n",
    "except ValueError:\n",
    "    raise ValueError(\"Port must be an integer\")\n",
    "\n",
    "config = {\n",
    "    \"ip\": ip,\n",
    "    \"port\": port,\n",
    "    \"haadf_exposure\": 40e-8,  # micro-seconds per pixel\n",
    "    \"haadf_resolution\": 512, # square\n",
    "    \"out_path\": \".\"\n",
    "}"
   ]
  },
  {
   "cell_type": "code",
   "execution_count": null,
   "id": "231ec427",
   "metadata": {},
   "outputs": [],
   "source": [
    "\n",
    "ip = config[\"ip\"]\n",
    "port = config[\"port\"]\n",
    "haadf_exposure = config[\"haadf_exposure\"]\n",
    "out_path = config[\"out_path\"]\n",
    "haadf_resolution = config[\"haadf_resolution\"]\n",
    "\n",
    "\n",
    "\n",
    "microscope = TemMicroscopeClient()\n",
    "microscope.connect(ip, port = port)# 7521 on velox  computer\n",
    "\n",
    "# query state:\n",
    "\n",
    "tf_acquisition = TFacquisition(microscope=microscope)\n",
    "\n",
    "# put beam shift to 0,0\n",
    "# tf_acquisition.move_beam_shift_positon([0, 0])\n"
   ]
  },
  {
   "cell_type": "markdown",
   "id": "0cb3be0c",
   "metadata": {},
   "source": [
    "### 1. Acquire an image"
   ]
  },
  {
   "cell_type": "code",
   "execution_count": null,
   "id": "0b5de94f",
   "metadata": {},
   "outputs": [],
   "source": [
    "image_with_metadata, image_array  = tf_acquisition.acquire_haadf(resolution= 512, exposure=0.001, dont_save_but_return_object=True)"
   ]
  },
  {
   "cell_type": "markdown",
   "id": "8ae92354",
   "metadata": {},
   "source": [
    "### 2. convert it to sidpy dataset"
   ]
  },
  {
   "cell_type": "code",
   "execution_count": null,
   "id": "2bad3568",
   "metadata": {},
   "outputs": [],
   "source": [
    "import sidpy\n",
    "import numpy as np\n",
    "import xml.etree.ElementTree as ET\n",
    "from stemOrchestrator.process import etree_to_dict\n",
    "from sidpy.sid import Dimension"
   ]
  },
  {
   "cell_type": "code",
   "execution_count": null,
   "id": "ff9d9f21",
   "metadata": {},
   "outputs": [],
   "source": [
    "xml_str = image_with_metadata.metadata.metadata_as_xml\n",
    "root = ET.fromstring(xml_str)\n",
    "metadata_dict = etree_to_dict(root)\n"
   ]
  },
  {
   "cell_type": "code",
   "execution_count": null,
   "id": "01b02b60",
   "metadata": {},
   "outputs": [],
   "source": [
    "image = image_array\n",
    "data_sets = {'Channel_000': sidpy.Dataset.from_array(image.T, name=\"HAADF\")}\n",
    "data_sets['Channel_000'].data_type = 'image'\n",
    "\n",
    "ds = data_sets['Channel_000']\n",
    "\n",
    "ds.original_metadata = metadata_dict['Metadata']\n",
    "\n",
    "pixel_size_x_m = float(ds.original_metadata['BinaryResult']['PixelSize']['X']['#text'])\n",
    "pixel_size_y_m = float(ds.original_metadata['BinaryResult']['PixelSize']['Y']['#text'])\n",
    "pixel_size_x_um = pixel_size_x_m * 1e6\n",
    "pixel_size_y_um = pixel_size_y_m * 1e6\n",
    "\n",
    "ds.set_dimension(\n",
    "    0,\n",
    "    Dimension(np.arange(image.shape[0]) * pixel_size_y_um,\n",
    "              name='y', units='µm', quantity='Length', dimension_type='spatial')\n",
    ")\n",
    "\n",
    "ds.set_dimension(\n",
    "    1,\n",
    "    Dimension(np.arange(image.shape[1]) * pixel_size_x_um,\n",
    "              name='x', units='µm', quantity='Length', dimension_type='spatial')\n",
    ")\n",
    "\n",
    "# ds.metadata['note'] = 'The shape of overview image and spectrum image are different in 1st 2 dimensions, possibly due to binning.'\n"
   ]
  },
  {
   "cell_type": "markdown",
   "id": "40b0dc76",
   "metadata": {},
   "source": [
    "#### 2.a) use functionalities from sidpy datasets"
   ]
  },
  {
   "cell_type": "code",
   "execution_count": null,
   "id": "605a29c6",
   "metadata": {},
   "outputs": [],
   "source": [
    "view = ds.plot()\n"
   ]
  },
  {
   "cell_type": "code",
   "execution_count": null,
   "id": "0c0dfa38",
   "metadata": {},
   "outputs": [],
   "source": []
  }
 ],
 "metadata": {
  "kernelspec": {
   "display_name": "dmclient_2",
   "language": "python",
   "name": "python3"
  },
  "language_info": {
   "codemirror_mode": {
    "name": "ipython",
    "version": 3
   },
   "file_extension": ".py",
   "mimetype": "text/x-python",
   "name": "python",
   "nbconvert_exporter": "python",
   "pygments_lexer": "ipython3",
   "version": "3.8.17"
  }
 },
 "nbformat": 4,
 "nbformat_minor": 5
}
