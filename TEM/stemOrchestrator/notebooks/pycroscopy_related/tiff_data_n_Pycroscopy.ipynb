{
 "cells": [
  {
   "cell_type": "markdown",
   "id": "b30103f6",
   "metadata": {},
   "source": [
    "## Offline acquisiton data management using - Pycroscopy Ecosystem:\n",
    "- Converting to Sidpy datasets:\n",
    "    - using utilities for sidpy datasets like - fitters, fft etc\n",
    "- Using scifireaders to read them\n",
    "\n",
    "#### Contributor(s): Utkarsh Pratiush <utkarshp1161@gmail.com> - 9th May 2025\n",
    "#### edited - "
   ]
  },
  {
   "cell_type": "markdown",
   "id": "2be11a9d",
   "metadata": {},
   "source": [
    "### 1. Load the data"
   ]
  },
  {
   "cell_type": "code",
   "execution_count": null,
   "id": "2a5d1f2c",
   "metadata": {},
   "outputs": [],
   "source": [
    "from stemOrchestrator.logging_config   import setup_logging\n",
    "data_folder  = \".\"\n",
    "out_path = data_folder\n",
    "setup_logging(out_path=out_path) "
   ]
  },
  {
   "cell_type": "code",
   "execution_count": null,
   "id": "f0d219a3",
   "metadata": {},
   "outputs": [],
   "source": [
    "from stemOrchestrator.acquisition import TFacquisition, DMacquisition\n",
    "from stemOrchestrator.simulation import DMtwin\n",
    "from stemOrchestrator.process import HAADF_tiff_to_png, tiff_to_png, tiff_metadata, tiff_to_numpy\n",
    "from autoscript_tem_microscope_client import TemMicroscopeClient\n",
    "import matplotlib.pyplot as plt\n",
    "import logging\n",
    "plot = plt\n",
    "from typing import Dict"
   ]
  },
  {
   "cell_type": "code",
   "execution_count": null,
   "id": "c0dc6e0d",
   "metadata": {},
   "outputs": [],
   "source": [
    "file_path = \"../../data/drift_frame2.tiff\"\n",
    "image_array = tiff_to_numpy(file_path)\n",
    "metadata_dict = tiff_metadata(file_path)"
   ]
  },
  {
   "cell_type": "markdown",
   "id": "fa48f32b",
   "metadata": {},
   "source": [
    "### 2. convert it to sidpy dataset"
   ]
  },
  {
   "cell_type": "code",
   "execution_count": null,
   "id": "052ab5e7",
   "metadata": {},
   "outputs": [],
   "source": [
    "import sidpy\n",
    "import numpy as np\n",
    "from sidpy.sid import Dimension"
   ]
  },
  {
   "cell_type": "code",
   "execution_count": null,
   "id": "754e0446",
   "metadata": {},
   "outputs": [],
   "source": [
    "image = image_array\n",
    "data_sets = {'Channel_000': sidpy.Dataset.from_array(image.T, name=\"HAADF\")}\n",
    "data_sets['Channel_000'].data_type = 'image'\n",
    "\n",
    "ds = data_sets['Channel_000']\n",
    "\n",
    "ds.original_metadata = metadata_dict['FEI_TITAN_parsed']['Metadata']\n",
    "\n",
    "pixel_size_x_m = float(ds.original_metadata['BinaryResult']['PixelSize']['X']['#text'])\n",
    "pixel_size_y_m = float(ds.original_metadata['BinaryResult']['PixelSize']['Y']['#text'])\n",
    "pixel_size_x_um = pixel_size_x_m * 1e6\n",
    "pixel_size_y_um = pixel_size_y_m * 1e6\n",
    "\n",
    "ds.set_dimension(\n",
    "    0,\n",
    "    Dimension(np.arange(image.shape[0]) * pixel_size_y_um,\n",
    "              name='y', units='µm', quantity='Length', dimension_type='spatial')\n",
    ")\n",
    "\n",
    "ds.set_dimension(\n",
    "    1,\n",
    "    Dimension(np.arange(image.shape[1]) * pixel_size_x_um,\n",
    "              name='x', units='µm', quantity='Length', dimension_type='spatial')\n",
    ")\n",
    "\n",
    "# ds.metadata['note'] = 'The shape of overview image and spectrum image are different in 1st 2 dimensions, possibly due to binning.'\n"
   ]
  },
  {
   "cell_type": "code",
   "execution_count": null,
   "id": "39e8e945",
   "metadata": {},
   "outputs": [],
   "source": [
    "metadata_dict['FEI_TITAN_parsed']['Metadata']"
   ]
  },
  {
   "cell_type": "markdown",
   "id": "52e1247e",
   "metadata": {},
   "source": [
    "#### 2.a) use functionalities from sidpy datasets"
   ]
  },
  {
   "cell_type": "code",
   "execution_count": null,
   "id": "31a8e0d1",
   "metadata": {},
   "outputs": [],
   "source": [
    "view = ds.plot()"
   ]
  },
  {
   "cell_type": "code",
   "execution_count": null,
   "id": "23c33460",
   "metadata": {},
   "outputs": [],
   "source": [
    "ds"
   ]
  },
  {
   "cell_type": "code",
   "execution_count": null,
   "id": "d00e8bf7",
   "metadata": {},
   "outputs": [],
   "source": []
  }
 ],
 "metadata": {
  "kernelspec": {
   "display_name": "dmclient_2",
   "language": "python",
   "name": "python3"
  },
  "language_info": {
   "codemirror_mode": {
    "name": "ipython",
    "version": 3
   },
   "file_extension": ".py",
   "mimetype": "text/x-python",
   "name": "python",
   "nbconvert_exporter": "python",
   "pygments_lexer": "ipython3",
   "version": "3.8.17"
  }
 },
 "nbformat": 4,
 "nbformat_minor": 5
}
