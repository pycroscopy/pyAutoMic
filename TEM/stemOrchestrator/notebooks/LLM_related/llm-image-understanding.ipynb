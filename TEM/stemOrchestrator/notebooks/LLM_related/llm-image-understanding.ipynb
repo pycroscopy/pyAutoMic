{
 "cells": [
  {
   "cell_type": "markdown",
   "metadata": {},
   "source": [
    "## LLM based image understanding \n",
    "#### Contributor(s): Utkarsh Pratiush <utkarshp1161@gmail.com> - 20th April 2025\n",
    "#### edited - \n",
    "   "
   ]
  },
  {
   "cell_type": "code",
   "execution_count": null,
   "metadata": {},
   "outputs": [],
   "source": [
    "import yaml\n",
    "from stemOrchestrator.MLlayer.MLlayerLLM import generate_stem_analysis\n",
    "\n",
    "# Load the YAML file\n",
    "with open(\"credentials.yaml\", \"r\") as f:\n",
    "    cred = yaml.safe_load(f)\n",
    "\n",
    "GEMINI_API_KEY = cred[\"GEMINI-API-KEY\"]"
   ]
  },
  {
   "cell_type": "code",
   "execution_count": null,
   "metadata": {},
   "outputs": [],
   "source": [
    "\n",
    "\n",
    "file_path = \"/Users/utkarshpratiush/project/pyAutoMic/TEM/stemOrchestrator/data/drift_frame17.tiff\"\n",
    "prompt = \"This is a scanning transmission electron HAADF image of SrTiO3 sample. Guess the direction of view.. also return an image making a square on it to highlight the unit cell\"\n",
    "\n",
    "response_text = generate_stem_analysis(file_path, prompt, api_key=GEMINI_API_KEY)\n",
    "print(response_text)\n"
   ]
  }
 ],
 "metadata": {
  "kernelspec": {
   "display_name": "gerd_course",
   "language": "python",
   "name": "python3"
  },
  "language_info": {
   "codemirror_mode": {
    "name": "ipython",
    "version": 3
   },
   "file_extension": ".py",
   "mimetype": "text/x-python",
   "name": "python",
   "nbconvert_exporter": "python",
   "pygments_lexer": "ipython3",
   "version": "3.10.0"
  }
 },
 "nbformat": 4,
 "nbformat_minor": 2
}
