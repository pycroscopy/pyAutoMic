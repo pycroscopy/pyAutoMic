{
 "cells": [
  {
   "cell_type": "markdown",
   "metadata": {},
   "source": [
    "## LLM based image understanding \n",
    "#### Contributor(s): Utkarsh Pratiush <utkarshp1161@gmail.com> - 20th April 2025\n",
    "#### edited - \n",
    "   "
   ]
  },
  {
   "cell_type": "code",
   "execution_count": 1,
   "metadata": {},
   "outputs": [],
   "source": [
    "from stemOrchestrator.logging_config   import setup_logging\n",
    "data_folder  = \".\"\n",
    "out_path = data_folder\n",
    "setup_logging(out_path=out_path) \n",
    "from stemOrchestrator.acquisition import TFacquisition, DMacquisition\n",
    "from stemOrchestrator.simulation import DMtwin\n",
    "from stemOrchestrator.process import HAADF_tiff_to_png, tiff_to_png\n",
    "from autoscript_tem_microscope_client import TemMicroscopeClient\n",
    "import matplotlib.pyplot as plt\n",
    "import logging\n",
    "plot = plt\n",
    "from typing import Dict"
   ]
  },
  {
   "cell_type": "code",
   "execution_count": 2,
   "metadata": {},
   "outputs": [],
   "source": [
    "import os\n",
    "import json\n",
    "from pathlib import Path\n",
    "\n",
    "# ip = \"10.46.217.241\"\n",
    "# port = 9095\n",
    "\n",
    "ip = \"10.46.217.242\"\n",
    "port = 9090\n",
    "\n",
    "\n",
    "# if not ip or not port:\n",
    "#     secret_path = Path(\"../config_secret.json\")\n",
    "#     if secret_path.exists():\n",
    "#         with open(secret_path, \"r\") as f:\n",
    "#             secret = json.load(f)\n",
    "#             ip = ip or secret.get(\"ip_TF\")\n",
    "#             port = port or secret.get(\"port_TF\")\n",
    "\n",
    "\n",
    "\n",
    "config = {\n",
    "    \"ip\": ip,\n",
    "    \"port\": port,\n",
    "    \"haadf_exposure\": 10e-6,  # micro-seconds per pixel\n",
    "    \"haadf_resolution\": 512, # square\n",
    "    \"out_path\": \".\"\n",
    "}"
   ]
  },
  {
   "cell_type": "code",
   "execution_count": 3,
   "metadata": {},
   "outputs": [
    {
     "name": "stdout",
     "output_type": "stream",
     "text": [
      "Client connecting to [10.46.217.242:9090]...\n",
      "Client connected to [10.46.217.242:9090]\n",
      "2025-10-18 16:26:14,393 - INFO - Starting microscope initialization...\n",
      "2025-10-18 16:26:14,396 - INFO - CETA camera initialized\n",
      "2025-10-18 16:26:14,399 - INFO - HAADF detector initialized\n",
      "2025-10-18 16:26:14,402 - INFO - Microscope initialization completed successfully\n"
     ]
    }
   ],
   "source": [
    "\n",
    "ip = config[\"ip\"]\n",
    "port = config[\"port\"]\n",
    "haadf_exposure = config[\"haadf_exposure\"]\n",
    "out_path = config[\"out_path\"]\n",
    "haadf_resolution = config[\"haadf_resolution\"]\n",
    "\n",
    "\n",
    "\n",
    "microscope = TemMicroscopeClient()\n",
    "microscope.connect(ip, port = port)# 7521 on velox  computer\n",
    "# microscope.connect( port = port)# 7521 on velox  computer\n",
    "\n",
    "# query state:\n",
    "\n",
    "tf_acquisition = TFacquisition(microscope=microscope)\n",
    "\n",
    "# put beam shift to 0,0\n",
    "# tf_acquisition.move_beam_shift_positon([0, 0])\n"
   ]
  },
  {
   "cell_type": "code",
   "execution_count": null,
   "metadata": {},
   "outputs": [
    {
     "name": "stdout",
     "output_type": "stream",
     "text": [
      "2025-10-18 16:17:44,662 - INFO - Acquiring HAADF image.\n",
      "2025-10-18 16:17:44,663 - INFO - Performing beam UNblanking (old method)\n",
      "\u001b[31mThe function 'unblank' is deprecated and will be removed in version 1.21\u001b[0m\n",
      "2025-10-18 16:17:44,665 - INFO - DONE -- beam UNblanking\n",
      "2025-10-18 16:17:44,731 - INFO - Performing beam blanking (old method)\n",
      "\u001b[31mThe function 'blank' is deprecated and will be removed in version 1.21\u001b[0m\n",
      "2025-10-18 16:17:44,733 - INFO - DONE -- beam blanking\n",
      "2025-10-18 16:17:44,744 - INFO - saving HAADF image as TF which has all the metadata..also returning an array\n",
      "2025-10-18 16:17:44,744 - INFO - Done: Acquiring HAADF image - beam is blanked after acquisition - HAADF det is inserted\n"
     ]
    },
    {
     "data": {
      "image/png": "[encoded data removed]",
      "text/plain": [
       "<Figure size 640x480 with 1 Axes>"
      ]
     },
     "metadata": {},
     "output_type": "display_data"
    }
   ],
   "source": [
    "# collecting haadf\n",
    "haadf_np_array, haadf_tiff_name = tf_acquisition.acquire_haadf(exposure=10e-6, resolution=512)\n",
    "HAADF_tiff_to_png(haadf_tiff_name, save_png=True)\n",
    "\n",
    "png_path = haadf_tiff_name.replace('.tiff', '.png')"
   ]
  },
  {
   "cell_type": "code",
   "execution_count": null,
   "metadata": {},
   "outputs": [
    {
     "name": "stdout",
     "output_type": "stream",
     "text": [
      "2025-10-18 16:26:23,346 - INFO - Acquiring ceta image.\n",
      "2025-10-18 16:26:23,346 - INFO - Performing beam UNblanking (old method)\n",
      "\u001b[31mThe function 'unblank' is deprecated and will be removed in version 1.21\u001b[0m\n",
      "2025-10-18 16:26:23,350 - INFO - DONE -- beam UNblanking\n",
      "2025-10-18 16:26:23,443 - INFO - Performing beam blanking (old method)\n",
      "\u001b[31mThe function 'blank' is deprecated and will be removed in version 1.21\u001b[0m\n",
      "2025-10-18 16:26:23,448 - INFO - DONE -- beam blanking\n",
      "2025-10-18 16:26:23,668 - INFO - Saved ceta image with metadata to ceta_image_20251018_162623.tiff\n"
     ]
    },
    {
     "data": {
      "image/png": "[encoded data removed]",
      "text/plain": [
       "<Figure size 640x480 with 1 Axes>"
      ]
     },
     "metadata": {},
     "output_type": "display_data"
    }
   ],
   "source": [
    "# collecting diffraction\n",
    "ceta_cp_array, ceta_tiff_name = tf_acquisition.acquire_ceta_or_flucam(exposure=0.1, resolution=512, camera=\"ceta\")\n",
    "# HAADF_tiff_to_png(ceta_tiff_name, save_png=True)\n",
    "tiff_to_png(ceta_tiff_name, save_png=True)\n",
    "\n",
    "png_path = ceta_tiff_name.replace('.tiff', '.png')"
   ]
  },
  {
   "cell_type": "code",
   "execution_count": null,
   "metadata": {},
   "outputs": [],
   "source": [
    "import xmltodict\n",
    "import json\n",
    "from autoscript_tem_microscope_client.structures import EdsAcquisitionSettings\n",
    "from autoscript_tem_microscope_client.enumerations import  EdsDetectorType, ExposureTimeType\n",
    "import numpy as np\n",
    "\n",
    "def get_channel_index(energy_keV: float, dispersion: float, offset: float) -> int:\n",
    "    \"\"\"Convert energy (keV) into spectrum channel index.\"\"\"\n",
    "    return int(round((energy_keV - offset) / dispersion))\n",
    "\n",
    "\n",
    "\n",
    "def get_dispersion_and_offset(spectrum):\n",
    "    \"\"\"\n",
    "    Extract dispersion and offset from EDS spectrum metadata (xml).\n",
    "    Returns (dispersion_keV_per_ch, offset_keV).\n",
    "    \"\"\"\n",
    "    xml_string = spectrum.metadata.metadata_as_xml\n",
    "    metadata = xmltodict.parse(xml_string)\n",
    "    metadata = json.loads(json.dumps(metadata))\n",
    "\n",
    "    detectors = metadata[\"Metadata\"][\"Detectors\"][\"AnalyticalDetector\"]\n",
    "\n",
    "    # If only one detector, wrap it into a list\n",
    "    if isinstance(detectors, dict):\n",
    "        detectors = [detectors]\n",
    "\n",
    "    # Take the first detector (or filter by name if needed)\n",
    "    det = detectors[0]\n",
    "    dispersion = float(det.get(\"Dispersion\", 0))\n",
    "    offset = float(det.get(\"OffsetEnergy\", 0))\n",
    "\n",
    "    return dispersion, offset\n",
    "\n",
    "def configure_acquisition(exposure_time=2):\n",
    "    \"\"\"Configure the EDS acquisition settings.\"\"\"\n",
    "    # mic_server is global variable intriduced in def run function\n",
    "    eds_detector_name = microscope.detectors.eds_detectors[0]\n",
    "    eds_detector = microscope.detectors.get_eds_detector(eds_detector_name)\n",
    "    # Configure the acquisition\n",
    "    global eds_settings\n",
    "    eds_settings = EdsAcquisitionSettings()\n",
    "    eds_settings.eds_detector = eds_detector_name\n",
    "    eds_settings.dispersion = eds_detector.dispersions[-1]# 20 keV\n",
    "    eds_settings.shaping_time = eds_detector.shaping_times[-1]\n",
    "    eds_settings.exposure_time = exposure_time\n",
    "    eds_settings.exposure_time_type = ExposureTimeType.LIVE_TIME\n",
    "    return eds_settings\n",
    "\n",
    "\n",
    "\n",
    "\n",
    "\n",
    "\n",
    "\n",
    "# collecting edx\n",
    "\n",
    "\n",
    "\n",
    "edx_exposure = 1 # in seconds\n",
    "eds_settings = configure_acquisition(exposure_time=edx_exposure)\n",
    "\n",
    "microscope.optics.unblank()\n",
    "spectrum = microscope.analysis.eds.acquire_spectrum(eds_settings)\n",
    "microscope.optics.blank()\n",
    "\n",
    "\n",
    "## plotting the spectrum\n",
    "# Average spectrum data from 4 detectors\n",
    "n_channels_per_detector = len(spectrum.data) // 4\n",
    "summed_spectrum = np.zeros(n_channels_per_detector)\n",
    "\n",
    "for i in range(4):\n",
    "    start_idx = i * n_channels_per_detector\n",
    "    end_idx = (i + 1) * n_channels_per_detector\n",
    "    summed_spectrum += spectrum.data[start_idx:end_idx]\n",
    "\n",
    "# Use summed spectrum for analysis\n",
    "spectrum_data = summed_spectrum\n",
    "\n",
    "# Plot spectrum using matplotlib instead of vision_toolkit\n",
    "dispersion, offset = get_dispersion_and_offset(spectrum)\n",
    "energy_axis = (np.arange(len(spectrum_data)) * dispersion + offset)/1000 # 1000 for Kev\n",
    "\n",
    "plt.figure(figsize=(12, 6))\n",
    "plt.plot(energy_axis, spectrum_data)\n",
    "plt.xlabel('Energy (keV)')\n",
    "plt.ylabel('Counts')\n",
    "plt.title('EDS Spectrum (Summed from 4 Detectors)')\n",
    "plt.xlim(0, 20)  # Focus on physically relevant energy range\n",
    "plt.savefig(\"edx.png\")"
   ]
  },
  {
   "cell_type": "code",
   "execution_count": 7,
   "metadata": {},
   "outputs": [],
   "source": [
    "import yaml\n",
    "from stemOrchestrator.MLlayer.MLlayerLLM import generate_stem_analysis\n",
    "\n",
    "# Load the YAML file\n",
    "with open(\"credential.yaml\", \"r\") as f:\n",
    "    cred = yaml.safe_load(f)\n",
    "\n",
    "GEMINI_API_KEY = cred[\"GEMINI-API-KEY\"]"
   ]
  },
  {
   "cell_type": "code",
   "execution_count": 8,
   "metadata": {},
   "outputs": [
    {
     "name": "stdout",
     "output_type": "stream",
     "text": [
      "2025-10-18 16:19:10,794 - INFO - HTTP Request: POST https://generativelanguage.googleapis.com/upload/v1beta/files \"HTTP/1.1 200 OK\"\n",
      "2025-10-18 16:19:11,844 - INFO - HTTP Request: POST https://generativelanguage.googleapis.com/upload/v1beta/files?upload_id=AAwnv3KlfHAZgON6MErZ2a9-JN9CE4tUHCRArT3fDjgrEn3r1v2_FDk1wI6Em9peQ9jzXRxHfxykfdieZYJsH5vNf2W3-noI-1CWVcxQrmFb9ys&upload_protocol=resumable \"HTTP/1.1 200 OK\"\n",
      "2025-10-18 16:19:11,846 - INFO - AFC is enabled with max remote calls: 10.\n",
      "2025-10-18 16:19:13,729 - INFO - HTTP Request: POST https://generativelanguage.googleapis.com/v1beta/models/gemini-2.0-flash-exp-image-generation:generateContent \"HTTP/1.1 200 OK\"\n",
      "Here's a description of the image:\n",
      "\n",
      "*   **Content:** The image shows a grayscale gradient, transitioning from darker shades in the top-left corner to lighter shades towards the bottom-right.\n",
      "\n",
      "*   **Scale Information:** In the bottom-right corner, there's information about the image scale.\n",
      "    *   It states \"1 pixel = 1.00e-08 m\" (which is 10 nanometers).\n",
      "    *   There's a white line indicating 1 micrometer (1 μm).\n"
     ]
    }
   ],
   "source": [
    "\n",
    "file_path = png_path\n",
    "prompt = \"Tell me about this image\"\n",
    "\n",
    "response_text = generate_stem_analysis(file_path, prompt, api_key=GEMINI_API_KEY)\n",
    "print(response_text)\n"
   ]
  },
  {
   "cell_type": "code",
   "execution_count": null,
   "metadata": {},
   "outputs": [],
   "source": [
    "\n",
    "file_path = png_path\n",
    "prompt = \"This is a scanning transmission electron HAADF image of SrTiO3 sample. Guess the direction of view.. also return an image making a square on it to highlight the unit cell\"\n",
    "\n",
    "response_text = generate_stem_analysis(file_path, prompt, api_key=GEMINI_API_KEY)\n",
    "print(response_text)\n"
   ]
  }
 ],
 "metadata": {
  "kernelspec": {
   "display_name": "stemorchestrator",
   "language": "python",
   "name": "python3"
  },
  "language_info": {
   "codemirror_mode": {
    "name": "ipython",
    "version": 3
   },
   "file_extension": ".py",
   "mimetype": "text/x-python",
   "name": "python",
   "nbconvert_exporter": "python",
   "pygments_lexer": "ipython3",
   "version": "3.11.5"
  }
 },
 "nbformat": 4,
 "nbformat_minor": 2
}
