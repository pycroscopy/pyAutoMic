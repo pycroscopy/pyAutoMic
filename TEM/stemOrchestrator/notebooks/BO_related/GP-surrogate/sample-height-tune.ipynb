{
 "cells": [
  {
   "cell_type": "markdown",
   "metadata": {},
   "source": [
    "## BO active learning with GP - Tuning sample height on the instrument\n",
    "#### Contributor(s): Utkarsh Pratiush <utkarshp1161@gmail.com> - 18th April 2025\n",
    "#### edited - \n",
    "   "
   ]
  },
  {
   "cell_type": "markdown",
   "metadata": {},
   "source": [
    "## Steup microscope"
   ]
  },
  {
   "cell_type": "code",
   "execution_count": null,
   "metadata": {},
   "outputs": [],
   "source": [
    "from stemOrchestrator.acquisition import TFacquisition\n",
    "from stemOrchestrator.process import HAADF_tiff_to_png\n",
    "from autoscript_tem_microscope_client import TemMicroscopeClient\n",
    "from stemOrchestrator.logging_config   import setup_logging\n",
    "import matplotlib.pyplot as plt\n",
    "plot = plt\n",
    "\n",
    "from typing import Dict"
   ]
  },
  {
   "cell_type": "code",
   "execution_count": null,
   "metadata": {},
   "outputs": [],
   "source": [
    "import os\n",
    "import json\n",
    "from pathlib import Path\n",
    "\n",
    "ip = os.getenv(\"MICROSCOPE_IP\")\n",
    "port = os.getenv(\"MICROSCOPE_PORT\")\n",
    "\n",
    "if not ip or not port:\n",
    "    secret_path = Path(\"../../../config_secret.json\")\n",
    "    if secret_path.exists():\n",
    "        with open(secret_path, \"r\") as f:\n",
    "            secret = json.load(f)\n",
    "            ip = ip or secret.get(\"ip_TF_wd\")\n",
    "            port = port or secret.get(\"port_TF_wd\")\n",
    "\n",
    "\n",
    "if not ip:\n",
    "    ip = input(\"Enter microscope IP: \")\n",
    "if not port:\n",
    "    port = input(\"Enter microscope Port: \")\n",
    "\n",
    "try:\n",
    "    port = int(port)\n",
    "except ValueError:\n",
    "    raise ValueError(\"Port must be an integer\")\n",
    "\n",
    "config = {\n",
    "    \"ip\": ip,\n",
    "    \"port\": port,\n",
    "    \"haadf_exposure\": 40e-8,  # micro-seconds per pixel\n",
    "    \"haadf_resolution\": 512, # square\n",
    "    \"out_path\": \".\"\n",
    "}"
   ]
  },
  {
   "cell_type": "code",
   "execution_count": null,
   "metadata": {},
   "outputs": [],
   "source": [
    "data_folder  = \"../../../data/\"\n",
    "out_path = data_folder "
   ]
  },
  {
   "cell_type": "code",
   "execution_count": null,
   "metadata": {},
   "outputs": [],
   "source": [
    "\n",
    "ip = config[\"ip\"]\n",
    "port = config[\"port\"]\n",
    "haadf_exposure = config[\"haadf_exposure\"]\n",
    "out_path = config[\"out_path\"]\n",
    "\n",
    "\n",
    "haadf_resolution = config[\"haadf_resolution\"]\n",
    "\n",
    "\n",
    "setup_logging(out_path=out_path)\n",
    "\n",
    "microscope = TemMicroscopeClient()\n",
    "microscope.connect(ip, port = port)# 7521 on velox  computer\n",
    "\n",
    "# query state:\n",
    "\n",
    "tf_acquisition = TFacquisition(microscope=microscope)\n",
    "\n",
    "# put beam shift to 0,0\n",
    "# tf_acquisition.move_beam_shift_positon([0, 0])\n"
   ]
  },
  {
   "cell_type": "markdown",
   "metadata": {},
   "source": [
    "## Setup tuning -> sample-height\n"
   ]
  },
  {
   "cell_type": "code",
   "execution_count": null,
   "metadata": {},
   "outputs": [],
   "source": [
    "import numpy as np\n",
    "from stemOrchestrator.MLlayer.MLlayerBO import Tune1d\n",
    "import torch\n",
    "\n",
    "\n",
    "contrast_value = []\n",
    "\n",
    "def z_height(x_old: float, y_old: float, z: int):\n",
    "    # mic \n",
    "    #z_lim: Limits(min=-0.000375, max=0.000375)\n",
    "    # lets get a HAADF image\n",
    "\n",
    "    print(x_old, y_old,z/1e6)\n",
    "    tf_acquisition.move_stage_translation_absolute(x=x_old, y=y_old,z=z/1e6 )\n",
    "\n",
    "    # get image 1 for drift\n",
    "    image_data, haadf_tiff_name, pixel_size_tuple = tf_acquisition.acquire_haadf(exposure = 2e-6, resolution=128, return_pixel_size=True )\n",
    "    normalized_image_data = image_data - np.min(image_data)\n",
    "    normalized_image_data = normalized_image_data / np.max(normalized_image_data)\n",
    "    gerd_contrast = np.std(normalized_image_data) / np.average(normalized_image_data)\n",
    "    contrast_value.append(gerd_contrast)\n",
    "\n",
    "    # For simplicity, choose one of the contrast measures as output `y`\n",
    "    y = gerd_contrast\n",
    "\n",
    "    HAADF_tiff_to_png(haadf_tiff_name)\n",
    "    print(f\"Gerd Contrast{gerd_contrast}\")\n",
    "\n",
    "    np.save(f\"at_z=_{z}with_y={y}\",normalized_image_data)\n",
    "\n",
    "    return y\n"
   ]
  },
  {
   "cell_type": "code",
   "execution_count": null,
   "metadata": {},
   "outputs": [],
   "source": [
    "# Define the optimization problem\n",
    "variable = 'x'\n",
    "python_command =  z_height_tune\n",
    "num_gp_steps = 5\n",
    "z = 0\n",
    "offset = 1 # 1um or 1000nm\n",
    "bounds_in_micrometer = torch.tensor([[z -offset], [z + offset]])  # Shape is [2, 1]--> range in which search for optimal value\n",
    "\n",
    "\n"
   ]
  },
  {
   "cell_type": "code",
   "execution_count": null,
   "metadata": {},
   "outputs": [],
   "source": [
    "pos = tf_acquisition.query_stage_position()\n",
    "old_x, old_y, _, _ = pos[0], pos[1], pos[2], pos[3]"
   ]
  },
  {
   "cell_type": "code",
   "execution_count": null,
   "metadata": {},
   "outputs": [],
   "source": [
    "tf_acquisition.query_stage_position()"
   ]
  },
  {
   "cell_type": "code",
   "execution_count": null,
   "metadata": {},
   "outputs": [],
   "source": [
    "# microscope.optics.scan_field_of_view = 968.9e-9"
   ]
  },
  {
   "cell_type": "code",
   "execution_count": null,
   "metadata": {},
   "outputs": [],
   "source": [
    "# Create and run the optimizer\n",
    "# default is maximization so ----> put a negative sign to minimize\n",
    "\n",
    "optimizer = Tune1d(variable, python_command, old_x, old_y, num_gp_steps, bounds_in_micrometer, seed_pt=42)\n",
    "best_x, best_y = optimizer.optimize()\n",
    "\n",
    "print(f\"Best x: {best_x}\")\n",
    "print(f\"Best y (std dev): {best_y}\")\n"
   ]
  },
  {
   "cell_type": "code",
   "execution_count": null,
   "metadata": {},
   "outputs": [],
   "source": [
    "best_x, best_y"
   ]
  }
 ],
 "metadata": {
  "kernelspec": {
   "display_name": "as-1.12-py-3.11",
   "language": "python",
   "name": "python3"
  },
  "language_info": {
   "codemirror_mode": {
    "name": "ipython",
    "version": 3
   },
   "file_extension": ".py",
   "mimetype": "text/x-python",
   "name": "python",
   "nbconvert_exporter": "python",
   "pygments_lexer": "ipython3",
   "version": "3.11.13"
  }
 },
 "nbformat": 4,
 "nbformat_minor": 2
}
