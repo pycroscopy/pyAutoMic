{
 "cells": [
  {
   "cell_type": "markdown",
   "metadata": {},
   "source": [
    "## BO active learning with GP - Tuning sample height on the instrument\n",
    "#### Contributor(s): Utkarsh Pratiush <utkarshp1161@gmail.com> - 18th April 2025\n",
    "#### edited - \n",
    "   "
   ]
  },
  {
   "cell_type": "markdown",
   "metadata": {},
   "source": [
    "## Steup microscope"
   ]
  },
  {
   "cell_type": "code",
   "execution_count": 18,
   "metadata": {},
   "outputs": [],
   "source": [
    "from stemOrchestrator.acquisition import TFacquisition\n",
    "from stemOrchestrator.process import HAADF_tiff_to_png\n",
    "from autoscript_tem_microscope_client import TemMicroscopeClient\n",
    "from stemOrchestrator.logging_config   import setup_logging\n",
    "import matplotlib.pyplot as plt\n",
    "plot = plt\n",
    "\n",
    "from typing import Dict"
   ]
  },
  {
   "cell_type": "code",
   "execution_count": 19,
   "metadata": {},
   "outputs": [],
   "source": [
    "import os\n",
    "import json\n",
    "from pathlib import Path\n",
    "\n",
    "ip = os.getenv(\"MICROSCOPE_IP\")\n",
    "port = os.getenv(\"MICROSCOPE_PORT\")\n",
    "\n",
    "if not ip or not port:\n",
    "    secret_path = Path(\"../../../config_secret.json\")\n",
    "    if secret_path.exists():\n",
    "        with open(secret_path, \"r\") as f:\n",
    "            secret = json.load(f)\n",
    "            ip = ip or secret.get(\"ip_TF_wd\")\n",
    "            port = port or secret.get(\"port_TF_wd\")\n",
    "\n",
    "\n",
    "if not ip:\n",
    "    ip = input(\"Enter microscope IP: \")\n",
    "if not port:\n",
    "    port = input(\"Enter microscope Port: \")\n",
    "\n",
    "try:\n",
    "    port = int(port)\n",
    "except ValueError:\n",
    "    raise ValueError(\"Port must be an integer\")\n",
    "\n",
    "config = {\n",
    "    \"ip\": ip,\n",
    "    \"port\": port,\n",
    "    \"haadf_exposure\": 40e-8,  # micro-seconds per pixel\n",
    "    \"haadf_resolution\": 512, # square\n",
    "    \"out_path\": \".\"\n",
    "}"
   ]
  },
  {
   "cell_type": "code",
   "execution_count": 20,
   "metadata": {},
   "outputs": [],
   "source": [
    "data_folder  = \"../../../data/\"\n",
    "out_path = data_folder "
   ]
  },
  {
   "cell_type": "code",
   "execution_count": 21,
   "metadata": {},
   "outputs": [
    {
     "name": "stdout",
     "output_type": "stream",
     "text": [
      "Client connecting to [10.1.149.210:9090]...\n",
      "Client connected to [10.1.149.210:9090]\n",
      "2025-06-20 10:08:24,086 - INFO - Starting microscope initialization...\n"
     ]
    },
    {
     "name": "stdout",
     "output_type": "stream",
     "text": [
      "2025-06-20 10:08:24,648 - INFO - CETA camera initialized\n",
      "2025-06-20 10:08:24,654 - INFO - HAADF detector initialized\n",
      "2025-06-20 10:08:24,661 - INFO - Microscope initialization completed successfully\n"
     ]
    }
   ],
   "source": [
    "\n",
    "ip = config[\"ip\"]\n",
    "port = config[\"port\"]\n",
    "haadf_exposure = config[\"haadf_exposure\"]\n",
    "out_path = config[\"out_path\"]\n",
    "haadf_resolution = config[\"haadf_resolution\"]\n",
    "\n",
    "\n",
    "setup_logging(out_path=out_path)\n",
    "\n",
    "microscope = TemMicroscopeClient()\n",
    "microscope.connect(ip, port = port)# 7521 on velox  computer\n",
    "\n",
    "# query state:\n",
    "\n",
    "tf_acquisition = TFacquisition(microscope=microscope)\n",
    "\n",
    "# put beam shift to 0,0\n",
    "# tf_acquisition.move_beam_shift_positon([0, 0])\n"
   ]
  },
  {
   "cell_type": "markdown",
   "metadata": {},
   "source": [
    "## Setup tuning -> sample-height\n"
   ]
  },
  {
   "cell_type": "code",
   "execution_count": 22,
   "metadata": {},
   "outputs": [],
   "source": [
    "import numpy as np\n",
    "from stemOrchestrator.MLlayer.MLlayerBO import Tune1d\n",
    "import torch\n",
    "\n",
    "\n",
    "contrast_value = []\n",
    "\n",
    "def z_height(x_old: float, y_old: float, z: int):\n",
    "    # mic \n",
    "    #z_lim: Limits(min=-0.000375, max=0.000375)\n",
    "    # lets get a HAADF image\n",
    "\n",
    "    print(x_old, y_old,z/1e6)\n",
    "    tf_acquisition.move_stage_translation_absolute(x=x_old, y=y_old,z=z/1e6 )\n",
    "\n",
    "    # get image 1 for drift\n",
    "    image_data, haadf_tiff_name, pixel_size_tuple = tf_acquisition.acquire_haadf(exposure = 1e-5, resolution=128, return_pixel_size=True )\n",
    "    normalized_image_data = image_data - np.min(image_data)\n",
    "    normalized_image_data = normalized_image_data / np.max(normalized_image_data)\n",
    "    gerd_contrast = np.std(normalized_image_data) / np.average(normalized_image_data)\n",
    "    contrast_value.append(gerd_contrast)\n",
    "\n",
    "    # For simplicity, choose one of the contrast measures as output `y`\n",
    "    y = gerd_contrast\n",
    "\n",
    "    HAADF_tiff_to_png(haadf_tiff_name)\n",
    "    print(f\"Gerd Contrast{gerd_contrast}\")\n",
    "\n",
    "    np.save(f\"at_z=_{z}with_y={y}\",normalized_image_data)\n",
    "\n",
    "    return y\n"
   ]
  },
  {
   "cell_type": "code",
   "execution_count": 10,
   "metadata": {},
   "outputs": [],
   "source": [
    "# Define the optimization problem\n",
    "variable = 'x'\n",
    "python_command =  z_height\n",
    "num_gp_steps = 20\n",
    "bounds_in_micrometer = torch.tensor([[-120.0], [120.0]])  # Shape is [2, 1]--> range in which search for optimal value\n",
    "\n",
    "\n"
   ]
  },
  {
   "cell_type": "code",
   "execution_count": 11,
   "metadata": {},
   "outputs": [
    {
     "name": "stdout",
     "output_type": "stream",
     "text": [
      "2025-06-20 10:03:37,874 - INFO - Querying the stage position now: the stage position (X, Y, Z) in meters, A and B in radians\n",
      "2025-06-20 10:03:37,875 - INFO - Query stage position: which is at StagePosition(x=5.9888376e-05, y=6.486134e-05, z=0, a=0, b=0), i.e pos in nm {'x': 5.988837587639355e-14, 'y': 6.486133987807655e-14, 'z': 0.0}, angles in mili degree0.0\n"
     ]
    }
   ],
   "source": [
    "pos = tf_acquisition.query_stage_position()\n",
    "old_x, old_y, _, _ = pos[0], pos[1], pos[2], pos[3]"
   ]
  },
  {
   "cell_type": "code",
   "execution_count": 16,
   "metadata": {},
   "outputs": [
    {
     "name": "stdout",
     "output_type": "stream",
     "text": [
      "2025-06-20 10:07:06,134 - INFO - Querying the stage position now: the stage position (X, Y, Z) in meters, A and B in radians\n",
      "2025-06-20 10:07:06,136 - INFO - Query stage position: which is at StagePosition(x=5.993628e-05, y=6.4913236e-05, z=0, a=0, b=0), i.e pos in nm {'x': 5.993627987639149e-14, 'y': 6.491323587807206e-14, 'z': 0.0}, angles in mili degree0.0\n"
     ]
    },
    {
     "data": {
      "text/plain": [
       "StagePosition(x=5.993628e-05, y=6.4913236e-05, z=0, a=0, b=0)"
      ]
     },
     "execution_count": 16,
     "metadata": {},
     "output_type": "execute_result"
    }
   ],
   "source": [
    "tf_acquisition.query_stage_position()"
   ]
  },
  {
   "cell_type": "code",
   "execution_count": 12,
   "metadata": {},
   "outputs": [
    {
     "name": "stdout",
     "output_type": "stream",
     "text": [
      "5.988837587639355e-05 6.486133987807654e-05 9.174462890625e-05\n",
      "2025-06-20 10:03:42,484 - INFO - Request to translate the stage absolute values\n"
     ]
    },
    {
     "ename": "ApplicationServerException",
     "evalue": "Stage failed to move to desired position.\r\nStage not ready after 500.0000 ms.",
     "output_type": "error",
     "traceback": [
      "\u001b[31m---------------------------------------------------------------------------\u001b[39m",
      "\u001b[31mApplicationServerException\u001b[39m                Traceback (most recent call last)",
      "\u001b[36mCell\u001b[39m\u001b[36m \u001b[39m\u001b[32mIn[12]\u001b[39m\u001b[32m, line 5\u001b[39m\n\u001b[32m      1\u001b[39m \u001b[38;5;66;03m# Create and run the optimizer\u001b[39;00m\n\u001b[32m      2\u001b[39m \u001b[38;5;66;03m# default is maximization so ----> put a negative sign to minimize\u001b[39;00m\n\u001b[32m      4\u001b[39m optimizer = Tune1d(variable, python_command, old_x, old_y, num_gp_steps, bounds_in_micrometer, seed_pt=\u001b[32m42\u001b[39m)\n\u001b[32m----> \u001b[39m\u001b[32m5\u001b[39m best_x, best_y = \u001b[43moptimizer\u001b[49m\u001b[43m.\u001b[49m\u001b[43moptimize\u001b[49m\u001b[43m(\u001b[49m\u001b[43m)\u001b[49m\n\u001b[32m      7\u001b[39m \u001b[38;5;28mprint\u001b[39m(\u001b[33mf\u001b[39m\u001b[33m\"\u001b[39m\u001b[33mBest x: \u001b[39m\u001b[38;5;132;01m{\u001b[39;00mbest_x\u001b[38;5;132;01m}\u001b[39;00m\u001b[33m\"\u001b[39m)\n\u001b[32m      8\u001b[39m \u001b[38;5;28mprint\u001b[39m(\u001b[33mf\u001b[39m\u001b[33m\"\u001b[39m\u001b[33mBest y (std dev): \u001b[39m\u001b[38;5;132;01m{\u001b[39;00mbest_y\u001b[38;5;132;01m}\u001b[39;00m\u001b[33m\"\u001b[39m)\n",
      "\u001b[36mFile \u001b[39m\u001b[32m/mnt/c/Users/temuser/Documents/Automated_microscopy_project/pyAutoMic/TEM/stemOrchestrator/stemOrchestrator/MLlayer/MLlayerBO.py:63\u001b[39m, in \u001b[36mTune1d.optimize\u001b[39m\u001b[34m(self)\u001b[39m\n\u001b[32m     61\u001b[39m dtype = torch.float32\n\u001b[32m     62\u001b[39m train_x = (torch.rand(\u001b[32m1\u001b[39m, \u001b[32m1\u001b[39m, dtype=dtype, device=\u001b[38;5;28mself\u001b[39m.device) * (\u001b[38;5;28mself\u001b[39m.bounds[\u001b[32m1\u001b[39m, \u001b[32m0\u001b[39m] - \u001b[38;5;28mself\u001b[39m.bounds[\u001b[32m0\u001b[39m, \u001b[32m0\u001b[39m]) + \u001b[38;5;28mself\u001b[39m.bounds[\u001b[32m0\u001b[39m, \u001b[32m0\u001b[39m]).to(\u001b[38;5;28mself\u001b[39m.device)\n\u001b[32m---> \u001b[39m\u001b[32m63\u001b[39m train_y = torch.tensor([[\u001b[38;5;28;43mself\u001b[39;49m\u001b[43m.\u001b[49m\u001b[43m_acquire_data\u001b[49m\u001b[43m(\u001b[49m\u001b[43mtrain_x\u001b[49m\u001b[43m[\u001b[49m\u001b[32;43m0\u001b[39;49m\u001b[43m]\u001b[49m\u001b[43m)\u001b[49m]], dtype=dtype).to(\u001b[38;5;28mself\u001b[39m.device)\n\u001b[32m     65\u001b[39m \u001b[38;5;28;01mfor\u001b[39;00m _ \u001b[38;5;129;01min\u001b[39;00m \u001b[38;5;28mrange\u001b[39m(\u001b[38;5;28mself\u001b[39m.num_gp_steps):\n\u001b[32m     66\u001b[39m     model = \u001b[38;5;28mself\u001b[39m._initialize_model(train_x, train_y)\n",
      "\u001b[36mFile \u001b[39m\u001b[32m/mnt/c/Users/temuser/Documents/Automated_microscopy_project/pyAutoMic/TEM/stemOrchestrator/stemOrchestrator/MLlayer/MLlayerBO.py:40\u001b[39m, in \u001b[36mTune1d._acquire_data\u001b[39m\u001b[34m(self, x)\u001b[39m\n\u001b[32m     39\u001b[39m \u001b[38;5;28;01mdef\u001b[39;00m\u001b[38;5;250m \u001b[39m\u001b[34m_acquire_data\u001b[39m(\u001b[38;5;28mself\u001b[39m, x):\n\u001b[32m---> \u001b[39m\u001b[32m40\u001b[39m     result = \u001b[38;5;28;43mself\u001b[39;49m\u001b[43m.\u001b[49m\u001b[43mpython_command\u001b[49m\u001b[43m(\u001b[49m\u001b[38;5;28;43mself\u001b[39;49m\u001b[43m.\u001b[49m\u001b[43mold_x\u001b[49m\u001b[43m,\u001b[49m\u001b[43m \u001b[49m\u001b[38;5;28;43mself\u001b[39;49m\u001b[43m.\u001b[49m\u001b[43mold_y\u001b[49m\u001b[43m,\u001b[49m\u001b[43m \u001b[49m\u001b[43mx\u001b[49m\u001b[43m.\u001b[49m\u001b[43mitem\u001b[49m\u001b[43m(\u001b[49m\u001b[43m)\u001b[49m\u001b[43m)\u001b[49m\n\u001b[32m     41\u001b[39m     \u001b[38;5;28;01mreturn\u001b[39;00m result\n",
      "\u001b[36mCell\u001b[39m\u001b[36m \u001b[39m\u001b[32mIn[9]\u001b[39m\u001b[32m, line 14\u001b[39m, in \u001b[36mz_height\u001b[39m\u001b[34m(x_old, y_old, z)\u001b[39m\n\u001b[32m      8\u001b[39m \u001b[38;5;28;01mdef\u001b[39;00m\u001b[38;5;250m \u001b[39m\u001b[34mz_height\u001b[39m(x_old: \u001b[38;5;28mfloat\u001b[39m, y_old: \u001b[38;5;28mfloat\u001b[39m, z: \u001b[38;5;28mint\u001b[39m):\n\u001b[32m      9\u001b[39m     \u001b[38;5;66;03m# mic \u001b[39;00m\n\u001b[32m     10\u001b[39m     \u001b[38;5;66;03m#z_lim: Limits(min=-0.000375, max=0.000375)\u001b[39;00m\n\u001b[32m     11\u001b[39m     \u001b[38;5;66;03m# lets get a HAADF image\u001b[39;00m\n\u001b[32m     13\u001b[39m     \u001b[38;5;28mprint\u001b[39m(x_old, y_old,z/\u001b[32m1e6\u001b[39m)\n\u001b[32m---> \u001b[39m\u001b[32m14\u001b[39m     \u001b[43mtf_acquisition\u001b[49m\u001b[43m.\u001b[49m\u001b[43mmove_stage_translation_absolute\u001b[49m\u001b[43m(\u001b[49m\u001b[43mx\u001b[49m\u001b[43m=\u001b[49m\u001b[43mx_old\u001b[49m\u001b[43m,\u001b[49m\u001b[43m \u001b[49m\u001b[43my\u001b[49m\u001b[43m=\u001b[49m\u001b[43my_old\u001b[49m\u001b[43m,\u001b[49m\u001b[43mz\u001b[49m\u001b[43m=\u001b[49m\u001b[43mz\u001b[49m\u001b[43m/\u001b[49m\u001b[32;43m1e6\u001b[39;49m\u001b[43m \u001b[49m\u001b[43m)\u001b[49m\n\u001b[32m     16\u001b[39m     \u001b[38;5;66;03m# get image 1 for drift\u001b[39;00m\n\u001b[32m     17\u001b[39m     image_data, haadf_tiff_name, pixel_size_tuple = tf_acquisition.acquire_haadf(exposure = \u001b[32m1e-5\u001b[39m, resolution=\u001b[32m128\u001b[39m, return_pixel_size=\u001b[38;5;28;01mTrue\u001b[39;00m )\n",
      "\u001b[36mFile \u001b[39m\u001b[32m/mnt/c/Users/temuser/Documents/Automated_microscopy_project/pyAutoMic/TEM/stemOrchestrator/stemOrchestrator/acquisition.py:438\u001b[39m, in \u001b[36mTFacquisition.move_stage_translation_absolute\u001b[39m\u001b[34m(self, x, y, z, relative)\u001b[39m\n\u001b[32m    435\u001b[39m \u001b[38;5;28;01mdef\u001b[39;00m\u001b[38;5;250m \u001b[39m\u001b[34mmove_stage_translation_absolute\u001b[39m(\u001b[38;5;28mself\u001b[39m, x: \u001b[38;5;28mfloat\u001b[39m, y: \u001b[38;5;28mfloat\u001b[39m, z: \u001b[38;5;28mfloat\u001b[39m, relative: \u001b[38;5;28mbool\u001b[39m = \u001b[38;5;28;01mTrue\u001b[39;00m) ->  \u001b[38;5;28;01mNone\u001b[39;00m:\n\u001b[32m    436\u001b[39m     \u001b[38;5;66;03m## put x, y, z in m - unlike the  move_stage_translation_relative\u001b[39;00m\n\u001b[32m    437\u001b[39m     logging.info(\u001b[33m\"\u001b[39m\u001b[33mRequest to translate the stage absolute values\u001b[39m\u001b[33m\"\u001b[39m)\n\u001b[32m--> \u001b[39m\u001b[32m438\u001b[39m     \u001b[38;5;28;43mself\u001b[39;49m\u001b[43m.\u001b[49m\u001b[43mmicroscope\u001b[49m\u001b[43m.\u001b[49m\u001b[43mspecimen\u001b[49m\u001b[43m.\u001b[49m\u001b[43mstage\u001b[49m\u001b[43m.\u001b[49m\u001b[43mabsolute_move_safe\u001b[49m\u001b[43m(\u001b[49m\u001b[43mStagePosition\u001b[49m\u001b[43m(\u001b[49m\u001b[43mx\u001b[49m\u001b[43m \u001b[49m\u001b[43m=\u001b[49m\u001b[43m \u001b[49m\u001b[43mx\u001b[49m\u001b[43m,\u001b[49m\u001b[43m \u001b[49m\u001b[43my\u001b[49m\u001b[43m \u001b[49m\u001b[43m=\u001b[49m\u001b[43m \u001b[49m\u001b[43my\u001b[49m\u001b[43m \u001b[49m\u001b[43m,\u001b[49m\u001b[43m \u001b[49m\u001b[43mz\u001b[49m\u001b[43m \u001b[49m\u001b[43m=\u001b[49m\u001b[43m \u001b[49m\u001b[43mz\u001b[49m\u001b[43m)\u001b[49m\u001b[43m)\u001b[49m\n\u001b[32m    439\u001b[39m     logging.info(\u001b[33m\"\u001b[39m\u001b[33mDONE: shifted atage to absolute values\u001b[39m\u001b[33m\"\u001b[39m)\n\u001b[32m    440\u001b[39m     \u001b[38;5;28;01mpass\u001b[39;00m\n",
      "\u001b[36mFile \u001b[39m\u001b[32m/mnt/c/Users/temuser/Documents/Automated_microscopy_project/pyAutoMic/TEM/stemOrchestrator/as-1.12-py-3.11/lib/python3.11/site-packages/autoscript_tem_microscope_client/tem_microscope/specimen/_stage.py:49\u001b[39m, in \u001b[36mStage.absolute_move_safe\u001b[39m\u001b[34m(self, position)\u001b[39m\n\u001b[32m     47\u001b[39m \u001b[38;5;28;01mif\u001b[39;00m \u001b[38;5;28misinstance\u001b[39m(position, StagePosition):\n\u001b[32m     48\u001b[39m     call_request.parameters.values = [position]\n\u001b[32m---> \u001b[39m\u001b[32m49\u001b[39m     call_response = \u001b[38;5;28;43mself\u001b[39;49m\u001b[43m.\u001b[49m\u001b[43m__application_client\u001b[49m\u001b[43m.\u001b[49m\u001b[43m_perform_call\u001b[49m\u001b[43m(\u001b[49m\u001b[43mcall_request\u001b[49m\u001b[43m)\u001b[49m\n\u001b[32m     50\u001b[39m \u001b[38;5;28;01melse\u001b[39;00m:\n\u001b[32m     51\u001b[39m     \u001b[38;5;28;01mraise\u001b[39;00m \u001b[38;5;167;01mTypeError\u001b[39;00m(\u001b[33m\"\u001b[39m\u001b[33mCannot execute method with the given parameters combination. Read the documentation for details of how to call this method.\u001b[39m\u001b[33m\"\u001b[39m)\n",
      "\u001b[36mFile \u001b[39m\u001b[32m/mnt/c/Users/temuser/Documents/Automated_microscopy_project/pyAutoMic/TEM/stemOrchestrator/as-1.12-py-3.11/lib/python3.11/site-packages/autoscript_tem_microscope_client/tem_microscope_client.py:239\u001b[39m, in \u001b[36mTemMicroscopeClient._perform_call\u001b[39m\u001b[34m(self, call_request)\u001b[39m\n\u001b[32m    236\u001b[39m     \u001b[38;5;28;01mraise\u001b[39;00m MarshallingException()\n\u001b[32m    238\u001b[39m \u001b[38;5;28;01mtry\u001b[39;00m:\n\u001b[32m--> \u001b[39m\u001b[32m239\u001b[39m     call_response = \u001b[38;5;28;43mself\u001b[39;49m\u001b[43m.\u001b[49m\u001b[43m__endpoint\u001b[49m\u001b[43m.\u001b[49m\u001b[43mperform_call\u001b[49m\u001b[43m(\u001b[49m\u001b[43mcall_request\u001b[49m\u001b[43m)\u001b[49m\n\u001b[32m    240\u001b[39m \u001b[38;5;28;01mexcept\u001b[39;00m ApiException \u001b[38;5;28;01mas\u001b[39;00m api_exception:\n\u001b[32m    241\u001b[39m     ApplicationClientLoggingHelper.log_call_error(call_request.wide_call_id, api_exception)\n",
      "\u001b[36mFile \u001b[39m\u001b[32m/mnt/c/Users/temuser/Documents/Automated_microscopy_project/pyAutoMic/TEM/stemOrchestrator/as-1.12-py-3.11/lib/python3.11/site-packages/autoscript_core/orc/engines.py:204\u001b[39m, in \u001b[36mClientEndpoint.perform_call\u001b[39m\u001b[34m(self, call_request)\u001b[39m\n\u001b[32m    201\u001b[39m     api_exception = ErrorConverter.api_error_to_api_exception(call_response.error)\n\u001b[32m    203\u001b[39m     Logging.loggers[LogDomain.ORC].log_call_error(call_request.wide_call_id, CommunicationSide.CLIENT, api_exception)\n\u001b[32m--> \u001b[39m\u001b[32m204\u001b[39m     \u001b[38;5;28;01mraise\u001b[39;00m api_exception\n\u001b[32m    206\u001b[39m Logging.loggers[LogDomain.ORC].log_call_notification(call_request.wide_call_id, CallOperationCode.LEAVE, CommunicationSide.CLIENT, \u001b[33m\"\u001b[39m\u001b[33mCall left client ORC\u001b[39m\u001b[33m\"\u001b[39m)\n\u001b[32m    207\u001b[39m \u001b[38;5;28;01mreturn\u001b[39;00m call_response\n",
      "\u001b[31mApplicationServerException\u001b[39m: Stage failed to move to desired position.\r\nStage not ready after 500.0000 ms."
     ]
    }
   ],
   "source": [
    "# Create and run the optimizer\n",
    "# default is maximization so ----> put a negative sign to minimize\n",
    "\n",
    "optimizer = Tune1d(variable, python_command, old_x, old_y, num_gp_steps, bounds_in_micrometer, seed_pt=42)\n",
    "best_x, best_y = optimizer.optimize()\n",
    "\n",
    "print(f\"Best x: {best_x}\")\n",
    "print(f\"Best y (std dev): {best_y}\")\n",
    "tf_acquisition.move_stage_translation_absolute(x=old_x, y=old_y, z=best_x/1e6 )\n"
   ]
  },
  {
   "cell_type": "code",
   "execution_count": null,
   "metadata": {},
   "outputs": [],
   "source": []
  }
 ],
 "metadata": {
  "kernelspec": {
   "display_name": "as-1.12-py-3.11",
   "language": "python",
   "name": "python3"
  },
  "language_info": {
   "codemirror_mode": {
    "name": "ipython",
    "version": 3
   },
   "file_extension": ".py",
   "mimetype": "text/x-python",
   "name": "python",
   "nbconvert_exporter": "python",
   "pygments_lexer": "ipython3",
   "version": "3.11.13"
  }
 },
 "nbformat": 4,
 "nbformat_minor": 2
}
