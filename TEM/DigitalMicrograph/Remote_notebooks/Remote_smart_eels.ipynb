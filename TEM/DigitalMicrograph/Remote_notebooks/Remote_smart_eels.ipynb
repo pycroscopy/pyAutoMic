{
 "cells": [
  {
   "cell_type": "markdown",
   "metadata": {},
   "source": [
    "# Super computer Assisted edge detection and STEM EELS"
   ]
  },
  {
   "cell_type": "code",
   "execution_count": null,
   "metadata": {},
   "outputs": [],
   "source": [
    "%%time\n",
    "# %matplotlib widget\n",
    "%matplotlib ipympl\n",
    "\n",
    "import matplotlib.pylab as plt\n",
    "import numpy as np\n",
    "\n",
    "import Pyro5.api\n",
    "import io\n",
    "import time\n"
   ]
  },
  {
   "cell_type": "code",
   "execution_count": null,
   "metadata": {},
   "outputs": [],
   "source": [
    "# !pip install pyTEMlib"
   ]
  },
  {
   "cell_type": "markdown",
   "metadata": {},
   "source": [
    "## set server"
   ]
  },
  {
   "cell_type": "code",
   "execution_count": null,
   "metadata": {},
   "outputs": [],
   "source": [
    "%%time\n",
    "uri = \"PYRO:array.server@10.46.217.242:9093\"\n",
    "array_server = Pyro5.api.Proxy(uri)"
   ]
  },
  {
   "cell_type": "markdown",
   "metadata": {},
   "source": [
    "## acquire camera"
   ]
  },
  {
   "cell_type": "code",
   "execution_count": null,
   "metadata": {},
   "outputs": [],
   "source": [
    "%%time\n",
    "#Activate camera\n",
    "array_server.activate_camera()\n",
    "array_list, shape, dtype = array_server.get_ds(128, 128)\n",
    "im_array = np.array(array_list, dtype=dtype).reshape(shape)\n",
    "# np.savez(\"survey_image_gold_ag.npz\", img = im_array)\n",
    "plt.figure()\n",
    "im = plt.imshow(im_array, cmap=\"gray\")\n",
    "# plt.colorbar(im)\n",
    "# plt.show()"
   ]
  },
  {
   "cell_type": "markdown",
   "metadata": {},
   "source": [
    "## more - dark current correction\n",
    "    - As the DM does that automatically in the backend\n",
    "    - But when we acquire it we have to ourself correct for it\n",
    "            - subtract the signal when the beam is blanked"
   ]
  },
  {
   "cell_type": "markdown",
   "metadata": {},
   "source": [
    "## take eels"
   ]
  },
  {
   "cell_type": "code",
   "execution_count": null,
   "metadata": {},
   "outputs": [],
   "source": [
    "%%time\n",
    "## dummy eels\n",
    "dispersion = .15 # eV/pixel -- 350\n",
    "offset = 0 -32\n",
    "exposure = 0.0005\n",
    "\n",
    "array_server.acquire_camera(exposure = exposure)# exposure is 0.5 seconds \n",
    "array_list, shape, dtype = array_server.get_eels()\n",
    "array = np.array(array_list, dtype=dtype).reshape(shape)\n",
    "\n",
    "# min max norm\n",
    "array -= array.min()\n",
    "# array /= array.max()\n",
    "# array = corrected_spectrum(dark_cl, gain, array)\n",
    "# np.savez(\"eels_.npz\", spec = array)\n",
    "\n",
    "# Plot spectrum\n",
    "plt.figure()\n",
    "plt.plot(dispersion * np.arange(len(array))+offset, array)\n",
    "plt.xlabel(\"Energy Loss (eV)\")\n",
    "plt.ylabel(\"Intensity (a.u.)\")\n",
    "plt.title(\"Dummy EELS Spectrum\")\n",
    "plt.grid(True)\n",
    "# plt.ylim(0, 1e6)  # Uncomment if needed\n",
    "plt.show()"
   ]
  },
  {
   "cell_type": "markdown",
   "metadata": {},
   "source": [
    "## place beam and take eels"
   ]
  },
  {
   "cell_type": "code",
   "execution_count": null,
   "metadata": {},
   "outputs": [],
   "source": [
    "x, y =  44, 101"
   ]
  },
  {
   "cell_type": "code",
   "execution_count": null,
   "metadata": {},
   "outputs": [],
   "source": [
    "array_server.set_beam_pos(x, y)\n",
    "array_server.acquire_camera(exposure=exposure)\n",
    "array_list, shape, dtype = array_server.get_eels()\n",
    "array = np.array(array_list, dtype=dtype).reshape(shape)\n",
    "# Plot spectrum\n",
    "plt.figure()\n",
    "plt.plot(dispersion * np.arange(len(array))+offset, array)\n",
    "plt.xlabel(\"Energy Loss (eV)\")\n",
    "plt.ylabel(\"Intensity (a.u.)\")\n",
    "plt.title(\"Dummy EELS Spectrum\")\n",
    "plt.grid(True)\n",
    "# plt.ylim(0, 1e6)  # Uncomment if needed\n",
    "plt.show()"
   ]
  },
  {
   "cell_type": "markdown",
   "metadata": {},
   "source": [
    "## detect edges : do eels on those coordinates"
   ]
  },
  {
   "cell_type": "code",
   "execution_count": null,
   "metadata": {},
   "outputs": [],
   "source": [
    "%%time\n",
    "import numpy as np\n",
    "import matplotlib.pyplot as plt\n",
    "\n",
    "def detect_bright_region(image):\n",
    "    # Calculate the gradient in the X and Y directions\n",
    "    gx = np.gradient(image, axis=1)  # Gradient in X direction\n",
    "    gy = np.gradient(image, axis=0)  # Gradient in Y direction\n",
    "    g = np.sqrt(gx**2 + gy**2)\n",
    "    g_normalized = (g / g.max()) * 255\n",
    "    return g_normalized.astype(np.uint8)\n",
    "\n",
    "\n",
    "edges_detected = detect_bright_region(im_array)\n",
    "\n",
    "# Displaying the edges detected\n",
    "plt.figure(figsize=(10, 5))\n",
    "\n",
    "plt.subplot(1, 2, 1)\n",
    "plt.imshow(im_array, cmap='gray')\n",
    "plt.title('Original Image')\n",
    "\n",
    "plt.subplot(1, 2, 2)\n",
    "plt.imshow(edges_detected)\n",
    "plt.title('Detected places to do eels')\n",
    "\n",
    "plt.show()\n"
   ]
  },
  {
   "cell_type": "code",
   "execution_count": null,
   "metadata": {},
   "outputs": [],
   "source": [
    "%%time\n",
    "# threshold to take eels\n",
    "threhold_eels = edges_detected.mean()*4\n",
    "spots = edges_detected.copy()\n",
    "spots[spots<threhold_eels]=0\n",
    "spots[spots>0]= 1.0\n",
    "print(spots.sum())\n",
    "plt.figure()\n",
    "plt.imshow(spots)"
   ]
  },
  {
   "cell_type": "code",
   "execution_count": null,
   "metadata": {},
   "outputs": [],
   "source": [
    "%%time\n",
    "tstart = time.time()\n",
    "image_size = 128# bad idea to hardcode this\n",
    "array_server.activate_camera()\n",
    "scale = int(2**14/image_size)\n",
    "line_p = np.zeros([image_size, image_size, array.shape[0]])\n",
    "\n",
    "accepted = 0\n",
    "for i, y in enumerate(range(image_size)):\n",
    "    print(\"line scan \", y, )\n",
    "    for j, x in enumerate(range(image_size)):\n",
    "        if edges_detected[i,j]> threhold_eels: # condition to do eels\n",
    "            accepted+=1\n",
    "            array_server.set_beam_pos(x, y)\n",
    "            array_server.acquire_camera(exposure=exposure)\n",
    "            array_list, shape, dtype = array_server.get_eels()\n",
    "            array = np.array(array_list, dtype=dtype).reshape(shape)\n",
    "            np.savez(f\"eels_nanowire{x}_{y}.npz\", spec = array)\n",
    "            plt.plot(array)\n",
    "            line_p[i,j] = array  # summing eels to get brigh field pixel value\n",
    "tend = time.time()"
   ]
  },
  {
   "cell_type": "code",
   "execution_count": null,
   "metadata": {},
   "outputs": [],
   "source": [
    "print(\"accepted_points\",accepted)\n",
    "print(\"time_takenin seconds\", tend - tstart)"
   ]
  }
 ],
 "metadata": {
  "kernelspec": {
   "display_name": "dmclient_2",
   "language": "python",
   "name": "python3"
  },
  "language_info": {
   "codemirror_mode": {
    "name": "ipython",
    "version": 3
   },
   "file_extension": ".py",
   "mimetype": "text/x-python",
   "name": "python",
   "nbconvert_exporter": "python",
   "pygments_lexer": "ipython3",
   "version": "3.8.17"
  },
  "varInspector": {
   "cols": {
    "lenName": 16,
    "lenType": 16,
    "lenVar": 40
   },
   "kernels_config": {
    "python": {
     "delete_cmd_postfix": "",
     "delete_cmd_prefix": "del ",
     "library": "var_list.py",
     "varRefreshCmd": "print(var_dic_list())"
    },
    "r": {
     "delete_cmd_postfix": ") ",
     "delete_cmd_prefix": "rm(",
     "library": "var_list.r",
     "varRefreshCmd": "cat(var_dic_list()) "
    }
   },
   "types_to_exclude": [
    "module",
    "function",
    "builtin_function_or_method",
    "instance",
    "_Feature"
   ],
   "window_display": false
  }
 },
 "nbformat": 4,
 "nbformat_minor": 4
}
