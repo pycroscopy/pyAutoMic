{
 "cells": [
  {
   "cell_type": "markdown",
   "metadata": {},
   "source": [
    "## Script to do drift correction using AutoScript\n",
    "- Get refernce image - ref_image\n",
    "- Get new image - new_image\n",
    "- Get pixel correction: Pixel_movement_x, Pixel_movement_y -->drift_correction(ref_image, new_image)\n",
    "- Get pixel size from new_image\n",
    "- movement_x, movement_y = Pixel_size_x*Pixel_movement_x, Pixel_size_y*Pixel_movement_y\n",
    "- acquire a new image after drift correction\n",
    "\n"
   ]
  },
  {
   "cell_type": "code",
   "execution_count": null,
   "metadata": {},
   "outputs": [],
   "source": [
    "# the Autoscript packages\n",
    "\n",
    "from autoscript_tem_microscope_client import TemMicroscopeClient\n",
    "from autoscript_tem_microscope_client.enumerations import *\n",
    "from autoscript_tem_microscope_client.structures import *\n",
    "import numpy as np\n",
    "# General packages\n",
    "import os, time, sys, math\n",
    "\n",
    "# General image processing packages\n",
    "from matplotlib import pyplot as plot\n",
    "import numpy as np\n",
    "import cv2 as cv\n",
    "\n"
   ]
  },
  {
   "cell_type": "code",
   "execution_count": null,
   "metadata": {},
   "outputs": [],
   "source": [
    "\n",
    "microscope = TemMicroscopeClient()\n",
    "ip = \"\"\n",
    "if ip == \"\":\n",
    "    ip = input(\"Please enter the IP address of the microscope: \")\n",
    "microscope.connect(ip)\n",
    "print(\"Connected to the microscope\")"
   ]
  },
  {
   "cell_type": "code",
   "execution_count": null,
   "metadata": {},
   "outputs": [],
   "source": [
    "import numpy as np\n",
    "from scipy.ndimage import fourier_shift\n",
    "import matplotlib.pyplot as plot\n",
    "\n",
    "def drift_correction(image1: np.ndarray, image2: np.ndarray) -> tuple[int, int]:\n",
    "    \"\"\"Returns pixel movement in X and Y directions between two images due to drift.\n",
    "\n",
    "    Args:\n",
    "        image1 (np.ndarray): The first image (reference image).\n",
    "        image2 (np.ndarray): The second image (drifted image).\n",
    "\n",
    "    Returns:\n",
    "        Pixel_movement_x (int): Number of pixels moved in the X direction.\n",
    "        Pixel_movement_y (int): Number of pixels moved in the Y direction.\n",
    "    \"\"\"\n",
    "    \n",
    "    # Compute cross-correlation using Fourier transform\n",
    "    f_image1 = np.fft.fftn(image1)\n",
    "    f_image2 = np.fft.fftn(image2)\n",
    "    cross_corr = np.fft.ifftn(f_image1 * np.conj(f_image2))\n",
    "    \n",
    "    # Find peak of the cross-correlation\n",
    "    maxima = np.unravel_index(np.argmax(np.abs(cross_corr)), cross_corr.shape)\n",
    "    \n",
    "    # Calculate pixel shift (movement)\n",
    "    shifts = np.array(maxima)\n",
    "    shifts = np.array(shifts, dtype=np.float64)\n",
    "    \n",
    "    # Correct for wrapping due to Fourier transform\n",
    "    shifts[shifts > np.array(image1.shape) // 2] -= np.array(image1.shape)[shifts > np.array(image1.shape) // 2]\n",
    "    \n",
    "    Pixel_movement_x, Pixel_movement_y = int(shifts[1]), int(shifts[0])\n",
    "    \n",
    "    return Pixel_movement_x, Pixel_movement_y\n",
    "\n",
    "\n"
   ]
  },
  {
   "cell_type": "code",
   "execution_count": null,
   "metadata": {},
   "outputs": [],
   "source": [
    "# Step 1: Get reference image\n",
    "ref_image = microscope.acquisition.acquire_stem_image(DetectorType.HAADF, 256, 4e-5).data\n",
    "\n",
    "\n",
    "# Normalize the new image for visualization (optional)\n",
    "img = ref_image - np.min(ref_image)\n",
    "ref_image_data = (255 * (img / np.max(img))).astype(np.uint8)\n",
    "\n",
    "# Plot the acquired new image\n",
    "fig = plot.figure(figsize=(6, 6))\n",
    "plot.imshow(ref_image_data, cmap='gray')\n",
    "plot.title('Acquired image')\n",
    "plot.show()\n"
   ]
  },
  {
   "cell_type": "code",
   "execution_count": null,
   "metadata": {},
   "outputs": [],
   "source": [
    "\n",
    "# Step 2: Acquire new image\n",
    "new_image_haadf = microscope.acquisition.acquire_stem_image(DetectorType.HAADF, 256, 4e-5)\n",
    "\n",
    "# Normalize the new image for visualization (optional)\n",
    "img = new_image_haadf.data - np.min(new_image_haadf.data)\n",
    "new_image_data = (255 * (img / np.max(img))).astype(np.uint8)\n",
    "\n",
    "# Plot the acquired new image\n",
    "fig = plot.figure(figsize=(6, 6))\n",
    "plot.imshow(new_image_data, cmap='gray')\n",
    "plot.title('Acquired image')\n",
    "plot.show()\n",
    "\n"
   ]
  },
  {
   "cell_type": "code",
   "execution_count": null,
   "metadata": {},
   "outputs": [],
   "source": [
    "# Step 3: Get pixel correction\n",
    "Pixel_movement_x, Pixel_movement_y = drift_correction(ref_image_data, new_image_data)\n",
    "\n",
    "print(f'Pixel movement in X direction: {Pixel_movement_x}', f'Pixel movement in Y direction: {Pixel_movement_y}')"
   ]
  },
  {
   "cell_type": "code",
   "execution_count": null,
   "metadata": {},
   "outputs": [],
   "source": [
    "# Step 4: Get pixel size from new_image\n",
    "pixelsize_x = new_image_haadf.metadata.binary_result.pixel_size.x  # in meters/pixel\n",
    "pixelsize_y = new_image_haadf.metadata.binary_result.pixel_size.y  # in meters/pixel\n",
    "\n",
    "# Step 5: Calculate actual movement in physical space\n",
    "movement_x = pixelsize_x * Pixel_movement_x  # in meters\n",
    "movement_y = pixelsize_y * Pixel_movement_y  # in meters\n",
    "\n",
    "print(f'Actual movement in X direction: {movement_x} m', f'Actual movement in Y direction: {movement_y} m')"
   ]
  },
  {
   "cell_type": "code",
   "execution_count": null,
   "metadata": {},
   "outputs": [],
   "source": [
    "## drift correction by moving stage\n",
    "# current_position = microscope.specimen.stage.position\n",
    "\n",
    "# # Calculate new position after drift correction\n",
    "# new_position_x = current_position.x - movement_x\n",
    "# new_position_y = current_position.y - movement_y\n",
    "\n",
    "# print(f'Current stage position: {current_position.x} m, {current_position.y} m')\n",
    "# microscope.specimen.stage.absolute_move([new_position_x, new_position_y])"
   ]
  },
  {
   "cell_type": "code",
   "execution_count": null,
   "metadata": {},
   "outputs": [],
   "source": [
    "# drift correction by moving beam\n",
    "old_x, old_y = microscope.optics.deflectors.beam_shift \n",
    "microscope.optics.deflectors.beam_shift = [old_x + movement_x, old_y + movement_y]"
   ]
  },
  {
   "cell_type": "code",
   "execution_count": null,
   "metadata": {},
   "outputs": [],
   "source": [
    "# Optionally, you can acquire another image to confirm the drift correction\n",
    "corrected_image = microscope.acquisition.acquire_stem_image(DetectorType.HAADF, 256, 4e-5).data\n",
    "\n",
    "# Plot the corrected image (optional)\n",
    "fig = plot.figure(figsize=(6, 6))\n",
    "plot.imshow(corrected_image, cmap='gray')\n",
    "plot.title('Corrected image after drift correction')\n",
    "plot.show()"
   ]
  }
 ],
 "metadata": {
  "kernelspec": {
   "display_name": "DM_client",
   "language": "python",
   "name": "python3"
  },
  "language_info": {
   "name": "python",
   "version": "3.10.0"
  }
 },
 "nbformat": 4,
 "nbformat_minor": 2
}
