{
 "cells": [
  {
   "cell_type": "markdown",
   "metadata": {},
   "source": [
    "## Remote 4Dstem data acquisition using Autoscript"
   ]
  },
  {
   "cell_type": "markdown",
   "metadata": {},
   "source": [
    "## 1. Import "
   ]
  },
  {
   "cell_type": "code",
   "execution_count": null,
   "metadata": {},
   "outputs": [],
   "source": [
    "# the Autoscript packages\n",
    "\n",
    "from autoscript_tem_microscope_client import TemMicroscopeClient\n",
    "from autoscript_tem_microscope_client.enumerations import *\n",
    "from autoscript_tem_microscope_client.structures import *\n",
    "# General packages\n",
    "import os, time, sys, math\n",
    "\n",
    "# General image processing packages\n",
    "import numpy as np\n",
    "import matplotlib.pyplot as plt\n",
    "from tqdm import tqdm\n",
    "import numpy as np\n",
    "import cv2 as cv\n",
    "\n",
    "os.makedirs('plots', exist_ok=True)# directory to store plots\n",
    "os.makedirs('data', exist_ok=True)# directory to store data\n",
    "\n"
   ]
  },
  {
   "cell_type": "code",
   "execution_count": null,
   "metadata": {},
   "outputs": [],
   "source": [
    "microscope = TemMicroscopeClient()\n",
    "ip = \"\"\n",
    "if ip == \"\":\n",
    "    ip = input(\"Please enter the IP address of the microscope: \")\n",
    "microscope.connect(ip)\n",
    "print(\"Connected to the microscope\")"
   ]
  },
  {
   "cell_type": "markdown",
   "metadata": {},
   "source": [
    "## 2. Utility Functions"
   ]
  },
  {
   "cell_type": "code",
   "execution_count": null,
   "metadata": {},
   "outputs": [],
   "source": [
    "# query position:\n",
    "def print_mic_stage_position():\n",
    "    position = microscope.specimen.stage.position\n",
    "    pos_dict = {\"x\": position.x, \"y\": position.y, \"z\": position.z, \"alpha\": position.a, \"beta\": position.b}\n",
    "    print(pos_dict)\n",
    "\n",
    "def get_pixel_size(HAADF):\n",
    "    pixelsize_x, pixelsize_y = HAADF.metadata.binary_result.pixel_size.x, HAADF.metadata.binary_result.pixel_size.y\n",
    "    # xmove, ymove = displacement[0]*pixelsize_x, displacement[1]*pixelsize_y\n",
    "    print(pixelsize_x, pixelsize_y)\n",
    "    return pixelsize_x, pixelsize_y\n",
    "\n",
    "def plot_acquisition_return_array(image):\n",
    "    img = image.data - np.min(image.data)\n",
    "    image_data = (255*(img/np.max(img))).astype(np.uint8)\n",
    "\n",
    "    # # plot the image\n",
    "    # fig = plt.figure(figsize=(6,6))\n",
    "    # plt.imshow(image_data, cmap='gray')\n",
    "    # plt.title('Acquired image')\n",
    "    return image_data\n",
    "\n",
    "def print_beam_pos():\n",
    "    microscope.optics.deflectors.beam_shift\n",
    "    \n",
    "# def move_scope(x, y, )"
   ]
  },
  {
   "cell_type": "markdown",
   "metadata": {},
   "source": [
    "## 3. Workflow"
   ]
  },
  {
   "cell_type": "code",
   "execution_count": null,
   "metadata": {},
   "outputs": [],
   "source": [
    "print_mic_stage_position()\n",
    "haadf_image = microscope.acquisition.acquire_stem_image(DetectorType.HAADF, 128, 4e-6)# haadf is pixel wise\n",
    "haadf_image_data = plot_acquisition_return_array(haadf_image)\n",
    "print(\"Displaying image after acquisition and saving to npz file\")\n",
    "np.savez(\"data/test_image_128_3.npz\", haadf_image_data )\n",
    "plt.imshow(haadf_image_data)"
   ]
  },
  {
   "cell_type": "code",
   "execution_count": null,
   "metadata": {},
   "outputs": [],
   "source": [
    "# Get pixel size information from the HAADF image\n",
    "pixelsize_x, pixelsize_y = haadf_image.metadata.binary_result.pixel_size.x, haadf_image.metadata.binary_result.pixel_size.y\n"
   ]
  },
  {
   "cell_type": "code",
   "execution_count": null,
   "metadata": {},
   "outputs": [],
   "source": [
    "# Define dimensions for HAADF and CETA\n",
    "haadf_dim = haadf_image_data.shape\n",
    "ceta_dim = (512, 512)\n",
    "\n",
    "# Initialize arrays with zeros\n",
    "# stem4dBF: Placeholder for Bright Field STEM data\n",
    "stem4dBF = np.zeros_like(haadf_image_data)\n",
    "\n",
    "# stem4d: 4D array for storing CETA camera images\n",
    "stem4d = np.zeros(haadf_dim + ceta_dim, dtype=np.float64)\n",
    "\n",
    "# Reset beam shift to origin (0, 0)\n",
    "microscope.optics.deflectors.beam_shift = [0, 0]\n",
    "\n",
    "# Loop over the pixel grid\n",
    "# tqdm provides a progress bar for the loops\n",
    "for x in tqdm(range(int(haadf_dim[0])), desc='Y Progress'):\n",
    "    dmove_x = pixelsize_x * 1\n",
    "    old_x, old_y = microscope.optics.deflectors.beam_shift \n",
    "    # Update beam shift in the x direction only\n",
    "    microscope.optics.deflectors.beam_shift = [old_x + dmove_x, old_y]\n",
    "    for y in tqdm(range(int(haadf_dim[1])), desc='X Progress', leave=False):\n",
    "        dmove_y = pixelsize_y * 1\n",
    "        old_x, old_y = microscope.optics.deflectors.beam_shift \n",
    "        print(\"old beam_pos\", microscope.optics.deflectors.beam_shift)\n",
    "        # Update beam shift in the y direction only\n",
    "        microscope.optics.deflectors.beam_shift = [old_x, old_y + dmove_y]\n",
    "        print(\"new beam_pos\", microscope.optics.deflectors.beam_shift)\n",
    "\n",
    "        # Acquire CETA camera image\n",
    "        ceta = microscope.acquisition.acquire_camera_image(CameraType.BM_CETA, 512, 25e-4) # 25 ms exposure time\n",
    "        ceta_data = plot_acquisition_return_array(ceta)\n",
    "        new_x, new_y = microscope.optics.deflectors.beam_shift \n",
    "\n",
    "\n",
    "        # Update data arrays with the acquired image and its mean value\n",
    "        stem4dBF[x][y] = ceta_data.mean()\n",
    "        stem4d[x][y] = ceta_data\n",
    "\n",
    "        # Plot both stem4dBF and the current CETA image side by side\n",
    "        fig, axs = plt.subplots(1, 2, figsize=(12, 6))\n",
    "\n",
    "        # Display the mean image of stem4dBF\n",
    "        fig.suptitle(f\"STEM4D Bright Field and CETA Image at pixel positionx: {x}, y: {y}\")\n",
    "        axs[0].imshow(stem4dBF)\n",
    "        axs[0].set_title(\"stem4dBF - Mean of the CETA image\")\n",
    "\n",
    "        # Display the current CETA image\n",
    "        axs[1].imshow(ceta_data)\n",
    "        axs[1].set_title(f\"CETA image at x: {new_x}, y: {new_y}\")\n",
    "\n",
    "        plt.savefig(f\"plots/stem4dBF_{x}_{y}.png\")\n"
   ]
  },
  {
   "cell_type": "markdown",
   "metadata": {},
   "source": [
    "# 4. Sparse sampling"
   ]
  },
  {
   "cell_type": "code",
   "execution_count": null,
   "metadata": {},
   "outputs": [],
   "source": [
    "print_mic_stage_position()\n",
    "haadf_image = microscope.acquisition.acquire_stem_image(DetectorType.HAADF, 128, 4e-6)# haadf is pixel wise\n",
    "haadf_image_data = plot_acquisition_return_array(haadf_image)\n",
    "print(\"Displaying image after acquisition and saving to npz file\")\n",
    "np.savez(\"data/test_image_128_3.npz\", haadf_image_data )\n",
    "plt.imshow(haadf_image_data)"
   ]
  },
  {
   "cell_type": "code",
   "execution_count": null,
   "metadata": {},
   "outputs": [],
   "source": [
    "\n",
    "\n",
    "# Define dimensions for HAADF and CETA\n",
    "haadf_dim = haadf_image_data.shape\n",
    "ceta_dim = (512, 512)\n",
    "\n",
    "# Initialize arrays with zeros\n",
    "# stem4dBF: Placeholder for Bright Field STEM data\n",
    "stem4dBF = np.zeros_like(haadf_image_data)\n",
    "\n",
    "# stem4d: 4D array for storing CETA camera images\n",
    "stem4d = np.zeros(haadf_dim + ceta_dim, dtype=np.float64)\n",
    "\n",
    "# Reset beam shift to origin (0, 0)\n",
    "microscope.optics.deflectors.beam_shift = [0, 0]\n",
    "\n",
    "# Loop over the pixel grid\n",
    "for x in tqdm(range(int(haadf_dim[0])), desc='Y Progress'):\n",
    "    dmove_x = pixelsize_x * 1\n",
    "    old_x, old_y = microscope.optics.deflectors.beam_shift \n",
    "    # Update beam shift in the x direction only\n",
    "    microscope.optics.deflectors.beam_shift = [old_x + dmove_x, old_y]\n",
    "    step_size_y = 5# scaling factor for y\n",
    "    for y in tqdm(range(int(int(haadf_dim[1])/step_size_y)), desc='X Progress', leave=False):\n",
    "        dmove_y = pixelsize_y * step_size_y\n",
    "        old_x, old_y = microscope.optics.deflectors.beam_shift \n",
    "        print(\"old beam_pos\", microscope.optics.deflectors.beam_shift)\n",
    "        # Update beam shift in the y direction only\n",
    "        microscope.optics.deflectors.beam_shift = [old_x, old_y + dmove_y]\n",
    "        print(\"new beam_pos\", microscope.optics.deflectors.beam_shift)\n",
    "\n",
    "        # Acquire CETA camera image\n",
    "        ceta = microscope.acquisition.acquire_camera_image(CameraType.BM_CETA, 512, 25e-4) # 25 ms exposure time\n",
    "        ceta_data = plot_acquisition_return_array(ceta)\n",
    "        new_x, new_y = microscope.optics.deflectors.beam_shift \n",
    "\n",
    "        # Update data arrays with the acquired image and its mean value\n",
    "        stem4dBF[x][y*step_size_y] = ceta_data.mean()\n",
    "        stem4d[x][y*step_size_y] = ceta_data\n",
    "\n",
    "        # Plot both stem4dBF and the current CETA image side by side\n",
    "        fig, axs = plt.subplots(1, 2, figsize=(12, 6))\n",
    "\n",
    "        # Display the mean image of stem4dBF\n",
    "        fig.suptitle(f\"STEM4D Bright Field and CETA Image at pixel positionx: {x}, y: {y}\")\n",
    "        axs[0].imshow(stem4dBF)\n",
    "        axs[0].set_title(\"stem4dBF - Mean of the CETA image\")\n",
    "\n",
    "        # Display the current CETA image\n",
    "        axs[1].imshow(ceta_data)\n",
    "        axs[1].set_title(f\"CETA image at x: {new_x}, y: {new_y}\")\n",
    "\n",
    "        plt.savefig(f\"plots/stem4dBF_{x}_{y}.png\")\n"
   ]
  }
 ],
 "metadata": {
  "language_info": {
   "name": "python"
  }
 },
 "nbformat": 4,
 "nbformat_minor": 2
}
